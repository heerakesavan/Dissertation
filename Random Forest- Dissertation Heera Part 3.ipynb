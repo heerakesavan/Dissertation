{
 "cells": [
  {
   "cell_type": "code",
   "execution_count": 1,
   "metadata": {},
   "outputs": [],
   "source": [
    "import os\n",
    "import numpy as np\n",
    "import scipy.io.wavfile as wf\n",
    "import matplotlib.pyplot as plt\n",
    "import librosa\n",
    "import pandas as pd\n",
    "from sklearn.metrics import classification_report"
   ]
  },
  {
   "cell_type": "code",
   "execution_count": 2,
   "metadata": {},
   "outputs": [],
   "source": [
    "df = pd.read_csv(r'C:\\Users\\heera\\Desktop\\Dissertation\\Data Physionet\\traindata\\merged_featureextracted.csv')"
   ]
  },
  {
   "cell_type": "code",
   "execution_count": 3,
   "metadata": {},
   "outputs": [
    {
     "data": {
      "text/html": [
       "<div>\n",
       "<style scoped>\n",
       "    .dataframe tbody tr th:only-of-type {\n",
       "        vertical-align: middle;\n",
       "    }\n",
       "\n",
       "    .dataframe tbody tr th {\n",
       "        vertical-align: top;\n",
       "    }\n",
       "\n",
       "    .dataframe thead th {\n",
       "        text-align: right;\n",
       "    }\n",
       "</style>\n",
       "<table border=\"1\" class=\"dataframe\">\n",
       "  <thead>\n",
       "    <tr style=\"text-align: right;\">\n",
       "      <th></th>\n",
       "      <th>0</th>\n",
       "      <th>1</th>\n",
       "      <th>2</th>\n",
       "      <th>3</th>\n",
       "      <th>4</th>\n",
       "      <th>5</th>\n",
       "      <th>6</th>\n",
       "      <th>7</th>\n",
       "      <th>8</th>\n",
       "      <th>9</th>\n",
       "      <th>...</th>\n",
       "      <th>31</th>\n",
       "      <th>32</th>\n",
       "      <th>33</th>\n",
       "      <th>34</th>\n",
       "      <th>35</th>\n",
       "      <th>36</th>\n",
       "      <th>37</th>\n",
       "      <th>38</th>\n",
       "      <th>39</th>\n",
       "      <th>0.1</th>\n",
       "    </tr>\n",
       "  </thead>\n",
       "  <tbody>\n",
       "    <tr>\n",
       "      <th>0</th>\n",
       "      <td>-577.74457</td>\n",
       "      <td>116.68117</td>\n",
       "      <td>82.454210</td>\n",
       "      <td>40.931873</td>\n",
       "      <td>7.485605</td>\n",
       "      <td>-7.887007</td>\n",
       "      <td>-4.491601</td>\n",
       "      <td>10.008358</td>\n",
       "      <td>24.508472</td>\n",
       "      <td>30.438593</td>\n",
       "      <td>...</td>\n",
       "      <td>5.994569</td>\n",
       "      <td>5.839570</td>\n",
       "      <td>3.671601</td>\n",
       "      <td>0.848826</td>\n",
       "      <td>-1.004319</td>\n",
       "      <td>-1.004396</td>\n",
       "      <td>0.530715</td>\n",
       "      <td>2.398161</td>\n",
       "      <td>3.331668</td>\n",
       "      <td>1</td>\n",
       "    </tr>\n",
       "    <tr>\n",
       "      <th>1</th>\n",
       "      <td>-628.81630</td>\n",
       "      <td>136.51126</td>\n",
       "      <td>100.357864</td>\n",
       "      <td>56.209590</td>\n",
       "      <td>19.551243</td>\n",
       "      <td>0.428206</td>\n",
       "      <td>-0.259094</td>\n",
       "      <td>10.158183</td>\n",
       "      <td>21.104572</td>\n",
       "      <td>24.655876</td>\n",
       "      <td>...</td>\n",
       "      <td>3.507886</td>\n",
       "      <td>2.841200</td>\n",
       "      <td>1.227278</td>\n",
       "      <td>-0.146953</td>\n",
       "      <td>-0.405241</td>\n",
       "      <td>0.449801</td>\n",
       "      <td>1.629177</td>\n",
       "      <td>2.186590</td>\n",
       "      <td>1.692338</td>\n",
       "      <td>1</td>\n",
       "    </tr>\n",
       "    <tr>\n",
       "      <th>2</th>\n",
       "      <td>-601.18340</td>\n",
       "      <td>77.22223</td>\n",
       "      <td>61.623146</td>\n",
       "      <td>42.221630</td>\n",
       "      <td>25.632828</td>\n",
       "      <td>16.337782</td>\n",
       "      <td>15.002048</td>\n",
       "      <td>18.738730</td>\n",
       "      <td>23.003593</td>\n",
       "      <td>24.039800</td>\n",
       "      <td>...</td>\n",
       "      <td>2.748103</td>\n",
       "      <td>2.922751</td>\n",
       "      <td>2.290715</td>\n",
       "      <td>1.166961</td>\n",
       "      <td>0.225971</td>\n",
       "      <td>0.042497</td>\n",
       "      <td>0.699116</td>\n",
       "      <td>1.713670</td>\n",
       "      <td>2.332496</td>\n",
       "      <td>1</td>\n",
       "    </tr>\n",
       "    <tr>\n",
       "      <th>3</th>\n",
       "      <td>-562.58900</td>\n",
       "      <td>88.77356</td>\n",
       "      <td>71.557740</td>\n",
       "      <td>49.522438</td>\n",
       "      <td>29.541950</td>\n",
       "      <td>16.664858</td>\n",
       "      <td>12.350879</td>\n",
       "      <td>14.427670</td>\n",
       "      <td>18.631382</td>\n",
       "      <td>20.879950</td>\n",
       "      <td>...</td>\n",
       "      <td>0.984788</td>\n",
       "      <td>1.662023</td>\n",
       "      <td>2.113323</td>\n",
       "      <td>2.125078</td>\n",
       "      <td>1.752352</td>\n",
       "      <td>1.235468</td>\n",
       "      <td>0.835051</td>\n",
       "      <td>0.692907</td>\n",
       "      <td>0.788556</td>\n",
       "      <td>1</td>\n",
       "    </tr>\n",
       "    <tr>\n",
       "      <th>4</th>\n",
       "      <td>-489.47345</td>\n",
       "      <td>65.72582</td>\n",
       "      <td>57.030285</td>\n",
       "      <td>45.383488</td>\n",
       "      <td>33.820340</td>\n",
       "      <td>24.795256</td>\n",
       "      <td>19.436210</td>\n",
       "      <td>17.373821</td>\n",
       "      <td>17.174334</td>\n",
       "      <td>17.152473</td>\n",
       "      <td>...</td>\n",
       "      <td>2.122123</td>\n",
       "      <td>2.094586</td>\n",
       "      <td>2.164926</td>\n",
       "      <td>2.183312</td>\n",
       "      <td>2.057845</td>\n",
       "      <td>1.794090</td>\n",
       "      <td>1.474256</td>\n",
       "      <td>1.199110</td>\n",
       "      <td>1.032410</td>\n",
       "      <td>1</td>\n",
       "    </tr>\n",
       "  </tbody>\n",
       "</table>\n",
       "<p>5 rows × 41 columns</p>\n",
       "</div>"
      ],
      "text/plain": [
       "           0          1           2          3          4          5  \\\n",
       "0 -577.74457  116.68117   82.454210  40.931873   7.485605  -7.887007   \n",
       "1 -628.81630  136.51126  100.357864  56.209590  19.551243   0.428206   \n",
       "2 -601.18340   77.22223   61.623146  42.221630  25.632828  16.337782   \n",
       "3 -562.58900   88.77356   71.557740  49.522438  29.541950  16.664858   \n",
       "4 -489.47345   65.72582   57.030285  45.383488  33.820340  24.795256   \n",
       "\n",
       "           6          7          8          9  ...        31        32  \\\n",
       "0  -4.491601  10.008358  24.508472  30.438593  ...  5.994569  5.839570   \n",
       "1  -0.259094  10.158183  21.104572  24.655876  ...  3.507886  2.841200   \n",
       "2  15.002048  18.738730  23.003593  24.039800  ...  2.748103  2.922751   \n",
       "3  12.350879  14.427670  18.631382  20.879950  ...  0.984788  1.662023   \n",
       "4  19.436210  17.373821  17.174334  17.152473  ...  2.122123  2.094586   \n",
       "\n",
       "         33        34        35        36        37        38        39  0.1  \n",
       "0  3.671601  0.848826 -1.004319 -1.004396  0.530715  2.398161  3.331668    1  \n",
       "1  1.227278 -0.146953 -0.405241  0.449801  1.629177  2.186590  1.692338    1  \n",
       "2  2.290715  1.166961  0.225971  0.042497  0.699116  1.713670  2.332496    1  \n",
       "3  2.113323  2.125078  1.752352  1.235468  0.835051  0.692907  0.788556    1  \n",
       "4  2.164926  2.183312  2.057845  1.794090  1.474256  1.199110  1.032410    1  \n",
       "\n",
       "[5 rows x 41 columns]"
      ]
     },
     "execution_count": 3,
     "metadata": {},
     "output_type": "execute_result"
    }
   ],
   "source": [
    "df.head()"
   ]
  },
  {
   "cell_type": "code",
   "execution_count": 4,
   "metadata": {},
   "outputs": [],
   "source": [
    "df = df.rename(columns={\"0.1\": \"labels\"})"
   ]
  },
  {
   "cell_type": "code",
   "execution_count": 5,
   "metadata": {},
   "outputs": [
    {
     "data": {
      "text/plain": [
       "0    2575\n",
       "1     665\n",
       "Name: labels, dtype: int64"
      ]
     },
     "execution_count": 5,
     "metadata": {},
     "output_type": "execute_result"
    }
   ],
   "source": [
    "df[\"labels\"].value_counts()"
   ]
  },
  {
   "cell_type": "code",
   "execution_count": 6,
   "metadata": {},
   "outputs": [
    {
     "data": {
      "image/png": "[encoded data removed]",
      "text/plain": [
       "<Figure size 432x288 with 1 Axes>"
      ]
     },
     "metadata": {
      "needs_background": "light"
     },
     "output_type": "display_data"
    }
   ],
   "source": [
    "import seaborn as sns\n",
    "plt.title(\"Distribution or Normal and Abnormal Heart sounds\",fontsize= 16)\n",
    "plt.xticks(fontsize=14,rotation=0)\n",
    "# for spine in plt.gca().spines.values():\n",
    "#     spine.set_visible(False)\n",
    "plt.yticks([])\n",
    "sns.countplot(x='labels',data=df,palette=\"Set2\")\n",
    "plt.show()\n",
    "# for p in ax.patches:\n",
    "#     width, height = p.get_width(), p.get_height()\n",
    "#     x, y = p.get_xy() \n",
    "#     ax.text(x+width/2, \n",
    "#             y+height/2, \n",
    "#             '{:.0f}'.format(height), \n",
    "#             horizontalalignment='center', \n",
    "#             verticalalignment='center')\n"
   ]
  },
  {
   "cell_type": "markdown",
   "metadata": {},
   "source": [
    "# Split the Dataset and balance the y variable"
   ]
  },
  {
   "cell_type": "code",
   "execution_count": 7,
   "metadata": {},
   "outputs": [],
   "source": [
    "### Split the dataset into independent and dependent dataset\n"
   ]
  },
  {
   "cell_type": "code",
   "execution_count": 8,
   "metadata": {},
   "outputs": [],
   "source": [
    "X = df.iloc[:,0:40]\n",
    "# y = df[\"class\"]"
   ]
  },
  {
   "cell_type": "code",
   "execution_count": 9,
   "metadata": {},
   "outputs": [
    {
     "data": {
      "text/plain": [
       "(3240, 40)"
      ]
     },
     "execution_count": 9,
     "metadata": {},
     "output_type": "execute_result"
    }
   ],
   "source": [
    "X.shape"
   ]
  },
  {
   "cell_type": "code",
   "execution_count": 10,
   "metadata": {},
   "outputs": [
    {
     "data": {
      "text/html": [
       "<div>\n",
       "<style scoped>\n",
       "    .dataframe tbody tr th:only-of-type {\n",
       "        vertical-align: middle;\n",
       "    }\n",
       "\n",
       "    .dataframe tbody tr th {\n",
       "        vertical-align: top;\n",
       "    }\n",
       "\n",
       "    .dataframe thead th {\n",
       "        text-align: right;\n",
       "    }\n",
       "</style>\n",
       "<table border=\"1\" class=\"dataframe\">\n",
       "  <thead>\n",
       "    <tr style=\"text-align: right;\">\n",
       "      <th></th>\n",
       "      <th>0</th>\n",
       "      <th>1</th>\n",
       "      <th>2</th>\n",
       "      <th>3</th>\n",
       "      <th>4</th>\n",
       "      <th>5</th>\n",
       "      <th>6</th>\n",
       "      <th>7</th>\n",
       "      <th>8</th>\n",
       "      <th>9</th>\n",
       "      <th>...</th>\n",
       "      <th>30</th>\n",
       "      <th>31</th>\n",
       "      <th>32</th>\n",
       "      <th>33</th>\n",
       "      <th>34</th>\n",
       "      <th>35</th>\n",
       "      <th>36</th>\n",
       "      <th>37</th>\n",
       "      <th>38</th>\n",
       "      <th>39</th>\n",
       "    </tr>\n",
       "  </thead>\n",
       "  <tbody>\n",
       "    <tr>\n",
       "      <th>0</th>\n",
       "      <td>-577.74457</td>\n",
       "      <td>116.68117</td>\n",
       "      <td>82.454210</td>\n",
       "      <td>40.931873</td>\n",
       "      <td>7.485605</td>\n",
       "      <td>-7.887007</td>\n",
       "      <td>-4.491601</td>\n",
       "      <td>10.008358</td>\n",
       "      <td>24.508472</td>\n",
       "      <td>30.438593</td>\n",
       "      <td>...</td>\n",
       "      <td>3.970105</td>\n",
       "      <td>5.994569</td>\n",
       "      <td>5.839570</td>\n",
       "      <td>3.671601</td>\n",
       "      <td>0.848826</td>\n",
       "      <td>-1.004319</td>\n",
       "      <td>-1.004396</td>\n",
       "      <td>0.530715</td>\n",
       "      <td>2.398161</td>\n",
       "      <td>3.331668</td>\n",
       "    </tr>\n",
       "    <tr>\n",
       "      <th>1</th>\n",
       "      <td>-628.81630</td>\n",
       "      <td>136.51126</td>\n",
       "      <td>100.357864</td>\n",
       "      <td>56.209590</td>\n",
       "      <td>19.551243</td>\n",
       "      <td>0.428206</td>\n",
       "      <td>-0.259094</td>\n",
       "      <td>10.158183</td>\n",
       "      <td>21.104572</td>\n",
       "      <td>24.655876</td>\n",
       "      <td>...</td>\n",
       "      <td>2.601242</td>\n",
       "      <td>3.507886</td>\n",
       "      <td>2.841200</td>\n",
       "      <td>1.227278</td>\n",
       "      <td>-0.146953</td>\n",
       "      <td>-0.405241</td>\n",
       "      <td>0.449801</td>\n",
       "      <td>1.629177</td>\n",
       "      <td>2.186590</td>\n",
       "      <td>1.692338</td>\n",
       "    </tr>\n",
       "    <tr>\n",
       "      <th>2</th>\n",
       "      <td>-601.18340</td>\n",
       "      <td>77.22223</td>\n",
       "      <td>61.623146</td>\n",
       "      <td>42.221630</td>\n",
       "      <td>25.632828</td>\n",
       "      <td>16.337782</td>\n",
       "      <td>15.002048</td>\n",
       "      <td>18.738730</td>\n",
       "      <td>23.003593</td>\n",
       "      <td>24.039800</td>\n",
       "      <td>...</td>\n",
       "      <td>2.034146</td>\n",
       "      <td>2.748103</td>\n",
       "      <td>2.922751</td>\n",
       "      <td>2.290715</td>\n",
       "      <td>1.166961</td>\n",
       "      <td>0.225971</td>\n",
       "      <td>0.042497</td>\n",
       "      <td>0.699116</td>\n",
       "      <td>1.713670</td>\n",
       "      <td>2.332496</td>\n",
       "    </tr>\n",
       "    <tr>\n",
       "      <th>3</th>\n",
       "      <td>-562.58900</td>\n",
       "      <td>88.77356</td>\n",
       "      <td>71.557740</td>\n",
       "      <td>49.522438</td>\n",
       "      <td>29.541950</td>\n",
       "      <td>16.664858</td>\n",
       "      <td>12.350879</td>\n",
       "      <td>14.427670</td>\n",
       "      <td>18.631382</td>\n",
       "      <td>20.879950</td>\n",
       "      <td>...</td>\n",
       "      <td>0.486486</td>\n",
       "      <td>0.984788</td>\n",
       "      <td>1.662023</td>\n",
       "      <td>2.113323</td>\n",
       "      <td>2.125078</td>\n",
       "      <td>1.752352</td>\n",
       "      <td>1.235468</td>\n",
       "      <td>0.835051</td>\n",
       "      <td>0.692907</td>\n",
       "      <td>0.788556</td>\n",
       "    </tr>\n",
       "    <tr>\n",
       "      <th>4</th>\n",
       "      <td>-489.47345</td>\n",
       "      <td>65.72582</td>\n",
       "      <td>57.030285</td>\n",
       "      <td>45.383488</td>\n",
       "      <td>33.820340</td>\n",
       "      <td>24.795256</td>\n",
       "      <td>19.436210</td>\n",
       "      <td>17.373821</td>\n",
       "      <td>17.174334</td>\n",
       "      <td>17.152473</td>\n",
       "      <td>...</td>\n",
       "      <td>2.368080</td>\n",
       "      <td>2.122123</td>\n",
       "      <td>2.094586</td>\n",
       "      <td>2.164926</td>\n",
       "      <td>2.183312</td>\n",
       "      <td>2.057845</td>\n",
       "      <td>1.794090</td>\n",
       "      <td>1.474256</td>\n",
       "      <td>1.199110</td>\n",
       "      <td>1.032410</td>\n",
       "    </tr>\n",
       "  </tbody>\n",
       "</table>\n",
       "<p>5 rows × 40 columns</p>\n",
       "</div>"
      ],
      "text/plain": [
       "           0          1           2          3          4          5  \\\n",
       "0 -577.74457  116.68117   82.454210  40.931873   7.485605  -7.887007   \n",
       "1 -628.81630  136.51126  100.357864  56.209590  19.551243   0.428206   \n",
       "2 -601.18340   77.22223   61.623146  42.221630  25.632828  16.337782   \n",
       "3 -562.58900   88.77356   71.557740  49.522438  29.541950  16.664858   \n",
       "4 -489.47345   65.72582   57.030285  45.383488  33.820340  24.795256   \n",
       "\n",
       "           6          7          8          9  ...        30        31  \\\n",
       "0  -4.491601  10.008358  24.508472  30.438593  ...  3.970105  5.994569   \n",
       "1  -0.259094  10.158183  21.104572  24.655876  ...  2.601242  3.507886   \n",
       "2  15.002048  18.738730  23.003593  24.039800  ...  2.034146  2.748103   \n",
       "3  12.350879  14.427670  18.631382  20.879950  ...  0.486486  0.984788   \n",
       "4  19.436210  17.373821  17.174334  17.152473  ...  2.368080  2.122123   \n",
       "\n",
       "         32        33        34        35        36        37        38  \\\n",
       "0  5.839570  3.671601  0.848826 -1.004319 -1.004396  0.530715  2.398161   \n",
       "1  2.841200  1.227278 -0.146953 -0.405241  0.449801  1.629177  2.186590   \n",
       "2  2.922751  2.290715  1.166961  0.225971  0.042497  0.699116  1.713670   \n",
       "3  1.662023  2.113323  2.125078  1.752352  1.235468  0.835051  0.692907   \n",
       "4  2.094586  2.164926  2.183312  2.057845  1.794090  1.474256  1.199110   \n",
       "\n",
       "         39  \n",
       "0  3.331668  \n",
       "1  1.692338  \n",
       "2  2.332496  \n",
       "3  0.788556  \n",
       "4  1.032410  \n",
       "\n",
       "[5 rows x 40 columns]"
      ]
     },
     "execution_count": 10,
     "metadata": {},
     "output_type": "execute_result"
    }
   ],
   "source": [
    "X.head()"
   ]
  },
  {
   "cell_type": "code",
   "execution_count": 11,
   "metadata": {},
   "outputs": [],
   "source": [
    "y = df[[\"labels\"]]"
   ]
  },
  {
   "cell_type": "code",
   "execution_count": 12,
   "metadata": {},
   "outputs": [
    {
     "data": {
      "text/plain": [
       "(3240, 1)"
      ]
     },
     "execution_count": 12,
     "metadata": {},
     "output_type": "execute_result"
    }
   ],
   "source": [
    "y.shape"
   ]
  },
  {
   "cell_type": "markdown",
   "metadata": {},
   "source": [
    "# Using SMOTE Algorithm to balance data"
   ]
  },
  {
   "cell_type": "code",
   "execution_count": 13,
   "metadata": {},
   "outputs": [],
   "source": [
    "from imblearn.over_sampling import SMOTE\n",
    "sm = SMOTE(random_state=40)\n",
    "X_sm, y_sm = sm.fit_resample(X, y)"
   ]
  },
  {
   "cell_type": "code",
   "execution_count": 14,
   "metadata": {},
   "outputs": [
    {
     "data": {
      "text/plain": [
       "(5150, 40)"
      ]
     },
     "execution_count": 14,
     "metadata": {},
     "output_type": "execute_result"
    }
   ],
   "source": [
    "X_sm.shape"
   ]
  },
  {
   "cell_type": "code",
   "execution_count": 15,
   "metadata": {},
   "outputs": [
    {
     "data": {
      "text/plain": [
       "(5150, 1)"
      ]
     },
     "execution_count": 15,
     "metadata": {},
     "output_type": "execute_result"
    }
   ],
   "source": [
    "y_sm.shape"
   ]
  },
  {
   "cell_type": "code",
   "execution_count": 16,
   "metadata": {},
   "outputs": [],
   "source": [
    "### Train Test Split\n",
    "from sklearn.model_selection import train_test_split\n",
    "X_train,X_test,y_train,y_test=train_test_split(X_sm,y_sm,test_size=0.2,random_state=0)\n"
   ]
  },
  {
   "cell_type": "markdown",
   "metadata": {},
   "source": [
    "# Random forest classifier with Hyperparameter tuning"
   ]
  },
  {
   "cell_type": "code",
   "execution_count": 17,
   "metadata": {},
   "outputs": [
    {
     "name": "stdout",
     "output_type": "stream",
     "text": [
      "Fitting 5 folds for each of 10 candidates, totalling 50 fits\n"
     ]
    },
    {
     "name": "stderr",
     "output_type": "stream",
     "text": [
      "C:\\Users\\heera\\anaconda3\\lib\\site-packages\\sklearn\\model_selection\\_validation.py:372: FitFailedWarning: \n",
      "20 fits failed out of a total of 50.\n",
      "The score on these train-test partitions for these parameters will be set to nan.\n",
      "If these failures are not expected, you can try to debug them by setting error_score='raise'.\n",
      "\n",
      "Below are more details about the failures:\n",
      "--------------------------------------------------------------------------------\n",
      "20 fits failed with the following error:\n",
      "Traceback (most recent call last):\n",
      "  File \"C:\\Users\\heera\\anaconda3\\lib\\site-packages\\sklearn\\model_selection\\_validation.py\", line 681, in _fit_and_score\n",
      "    estimator.fit(X_train, y_train, **fit_params)\n",
      "  File \"C:\\Users\\heera\\anaconda3\\lib\\site-packages\\sklearn\\ensemble\\_forest.py\", line 442, in fit\n",
      "    trees = Parallel(\n",
      "  File \"C:\\Users\\heera\\anaconda3\\lib\\site-packages\\joblib\\parallel.py\", line 1048, in __call__\n",
      "    if self.dispatch_one_batch(iterator):\n",
      "  File \"C:\\Users\\heera\\anaconda3\\lib\\site-packages\\joblib\\parallel.py\", line 866, in dispatch_one_batch\n",
      "    self._dispatch(tasks)\n",
      "  File \"C:\\Users\\heera\\anaconda3\\lib\\site-packages\\joblib\\parallel.py\", line 784, in _dispatch\n",
      "    job = self._backend.apply_async(batch, callback=cb)\n",
      "  File \"C:\\Users\\heera\\anaconda3\\lib\\site-packages\\joblib\\_parallel_backends.py\", line 208, in apply_async\n",
      "    result = ImmediateResult(func)\n",
      "  File \"C:\\Users\\heera\\anaconda3\\lib\\site-packages\\joblib\\_parallel_backends.py\", line 572, in __init__\n",
      "    self.results = batch()\n",
      "  File \"C:\\Users\\heera\\anaconda3\\lib\\site-packages\\joblib\\parallel.py\", line 262, in __call__\n",
      "    return [func(*args, **kwargs)\n",
      "  File \"C:\\Users\\heera\\anaconda3\\lib\\site-packages\\joblib\\parallel.py\", line 262, in <listcomp>\n",
      "    return [func(*args, **kwargs)\n",
      "  File \"C:\\Users\\heera\\anaconda3\\lib\\site-packages\\sklearn\\utils\\fixes.py\", line 211, in __call__\n",
      "    return self.function(*args, **kwargs)\n",
      "  File \"C:\\Users\\heera\\anaconda3\\lib\\site-packages\\sklearn\\ensemble\\_forest.py\", line 185, in _parallel_build_trees\n",
      "    tree.fit(X, y, sample_weight=curr_sample_weight, check_input=False)\n",
      "  File \"C:\\Users\\heera\\anaconda3\\lib\\site-packages\\sklearn\\tree\\_classes.py\", line 937, in fit\n",
      "    super().fit(\n",
      "  File \"C:\\Users\\heera\\anaconda3\\lib\\site-packages\\sklearn\\tree\\_classes.py\", line 305, in fit\n",
      "    if max_depth <= 0:\n",
      "TypeError: '<=' not supported between instances of 'str' and 'int'\n",
      "\n",
      "  warnings.warn(some_fits_failed_message, FitFailedWarning)\n",
      "C:\\Users\\heera\\anaconda3\\lib\\site-packages\\sklearn\\model_selection\\_search.py:969: UserWarning: One or more of the test scores are non-finite: [0.92524272 0.91941748 0.9381068         nan 0.9381068  0.9381068\n",
      "        nan        nan        nan 0.92912621]\n",
      "  warnings.warn(\n",
      "C:\\Users\\heera\\anaconda3\\lib\\site-packages\\sklearn\\model_selection\\_search.py:926: DataConversionWarning: A column-vector y was passed when a 1d array was expected. Please change the shape of y to (n_samples,), for example using ravel().\n",
      "  self.best_estimator_.fit(X, y, **fit_params)\n"
     ]
    },
    {
     "data": {
      "text/plain": [
       "({'n_estimators': 100,\n",
       "  'max_depth': 20,\n",
       "  'criterion': 'gini',\n",
       "  'bootstrap': 'True'},\n",
       " 0.9381067961165049)"
      ]
     },
     "execution_count": 17,
     "metadata": {},
     "output_type": "execute_result"
    }
   ],
   "source": [
    "from sklearn.ensemble import RandomForestClassifier\n",
    "from sklearn.model_selection import RandomizedSearchCV\n",
    "rf = RandomForestClassifier()\n",
    "parameters = {\"n_estimators\":[10,100],\n",
    "              'criterion':['gini','entropy'],\n",
    "             'max_depth':[20,60,'None','sqrt'],\n",
    "             'bootstrap':['True','False']}\n",
    "random = RandomizedSearchCV(estimator=rf,param_distributions=parameters,verbose=1,n_jobs=-1)\n",
    "random.fit(X_train,y_train)\n",
    "random.best_params_,random.best_score_"
   ]
  },
  {
   "cell_type": "code",
   "execution_count": 18,
   "metadata": {},
   "outputs": [
    {
     "name": "stderr",
     "output_type": "stream",
     "text": [
      "<ipython-input-18-cda24e11630e>:5: DataConversionWarning: A column-vector y was passed when a 1d array was expected. Please change the shape of y to (n_samples,), for example using ravel().\n",
      "  rf.fit(X_train,y_train)\n"
     ]
    },
    {
     "name": "stdout",
     "output_type": "stream",
     "text": [
      "              precision    recall  f1-score   support\n",
      "\n",
      "           0       0.96      0.94      0.95       526\n",
      "           1       0.94      0.96      0.95       504\n",
      "\n",
      "    accuracy                           0.95      1030\n",
      "   macro avg       0.95      0.95      0.95      1030\n",
      "weighted avg       0.95      0.95      0.95      1030\n",
      "\n"
     ]
    }
   ],
   "source": [
    "rf = RandomForestClassifier(n_estimators= 100,\n",
    " max_depth= 60,\n",
    " criterion= 'gini',\n",
    " bootstrap= False)\n",
    "rf.fit(X_train,y_train)\n",
    "y_predrf = rf.predict(X_test)\n",
    "print(classification_report(y_test,y_predrf))"
   ]
  },
  {
   "cell_type": "markdown",
   "metadata": {},
   "source": [
    "# Confusion matrix of test data"
   ]
  },
  {
   "cell_type": "code",
   "execution_count": 19,
   "metadata": {},
   "outputs": [
    {
     "name": "stderr",
     "output_type": "stream",
     "text": [
      "C:\\Users\\heera\\anaconda3\\lib\\site-packages\\sklearn\\utils\\deprecation.py:87: FutureWarning: Function plot_confusion_matrix is deprecated; Function `plot_confusion_matrix` is deprecated in 1.0 and will be removed in 1.2. Use one of the class methods: ConfusionMatrixDisplay.from_predictions or ConfusionMatrixDisplay.from_estimator.\n",
      "  warnings.warn(msg, category=FutureWarning)\n"
     ]
    },
    {
     "data": {
      "image/png": "[encoded data removed]",
      "text/plain": [
       "<Figure size 432x288 with 2 Axes>"
      ]
     },
     "metadata": {
      "needs_background": "light"
     },
     "output_type": "display_data"
    }
   ],
   "source": [
    "from sklearn.metrics import plot_confusion_matrix\n",
    "plot_confusion_matrix(rf,X_test, y_test)  \n",
    "plt.show()"
   ]
  },
  {
   "cell_type": "code",
   "execution_count": 20,
   "metadata": {},
   "outputs": [],
   "source": [
    "df_val = pd.read_csv('C:/Users/heera/Desktop/Dissertation/Data Physionet/validation/merged_val.csv')\n"
   ]
  },
  {
   "cell_type": "code",
   "execution_count": 21,
   "metadata": {},
   "outputs": [],
   "source": [
    "df_val= df_val.rename(columns={\"0.1\": \"labels\"})"
   ]
  },
  {
   "cell_type": "code",
   "execution_count": 22,
   "metadata": {},
   "outputs": [
    {
     "data": {
      "text/plain": [
       "1    151\n",
       "0    150\n",
       "Name: labels, dtype: int64"
      ]
     },
     "execution_count": 22,
     "metadata": {},
     "output_type": "execute_result"
    }
   ],
   "source": [
    "df_val[\"labels\"].value_counts()"
   ]
  },
  {
   "cell_type": "code",
   "execution_count": 23,
   "metadata": {},
   "outputs": [],
   "source": [
    "Xv = df_val.iloc[:,0:40]\n",
    "# y = df[\"class\"]"
   ]
  },
  {
   "cell_type": "code",
   "execution_count": 24,
   "metadata": {},
   "outputs": [],
   "source": [
    "yv= df_val[[\"labels\"]]"
   ]
  },
  {
   "cell_type": "code",
   "execution_count": 25,
   "metadata": {},
   "outputs": [],
   "source": [
    "from sklearn.model_selection import train_test_split\n",
    "X_train = X\n",
    "y_train =y\n",
    "l_test =Xv\n",
    "m_test =yv"
   ]
  },
  {
   "cell_type": "code",
   "execution_count": 26,
   "metadata": {},
   "outputs": [
    {
     "data": {
      "text/plain": [
       "0.973421926910299"
      ]
     },
     "execution_count": 26,
     "metadata": {},
     "output_type": "execute_result"
    }
   ],
   "source": [
    "#Validation accuracy\n",
    "rf.score(l_test, m_test)"
   ]
  },
  {
   "cell_type": "code",
   "execution_count": 27,
   "metadata": {},
   "outputs": [
    {
     "data": {
      "text/plain": [
       "0.9495145631067962"
      ]
     },
     "execution_count": 27,
     "metadata": {},
     "output_type": "execute_result"
    }
   ],
   "source": [
    "#Test accuracy\n",
    "rf.score(X_test, y_test)"
   ]
  },
  {
   "cell_type": "markdown",
   "metadata": {},
   "source": [
    "# Confusion matrix Validation data"
   ]
  },
  {
   "cell_type": "code",
   "execution_count": 28,
   "metadata": {},
   "outputs": [
    {
     "name": "stderr",
     "output_type": "stream",
     "text": [
      "C:\\Users\\heera\\anaconda3\\lib\\site-packages\\sklearn\\utils\\deprecation.py:87: FutureWarning: Function plot_confusion_matrix is deprecated; Function `plot_confusion_matrix` is deprecated in 1.0 and will be removed in 1.2. Use one of the class methods: ConfusionMatrixDisplay.from_predictions or ConfusionMatrixDisplay.from_estimator.\n",
      "  warnings.warn(msg, category=FutureWarning)\n"
     ]
    },
    {
     "data": {
      "image/png": "[encoded data removed]",
      "text/plain": [
       "<Figure size 432x288 with 2 Axes>"
      ]
     },
     "metadata": {
      "needs_background": "light"
     },
     "output_type": "display_data"
    }
   ],
   "source": [
    "plot_confusion_matrix(rf,l_test, m_test)  \n",
    "plt.show()"
   ]
  },
  {
   "cell_type": "code",
   "execution_count": null,
   "metadata": {},
   "outputs": [],
   "source": []
  }
 ],
 "metadata": {
  "kernelspec": {
   "display_name": "Python 3",
   "language": "python",
   "name": "python3"
  },
  "language_info": {
   "codemirror_mode": {
    "name": "ipython",
    "version": 3
   },
   "file_extension": ".py",
   "mimetype": "text/x-python",
   "name": "python",
   "nbconvert_exporter": "python",
   "pygments_lexer": "ipython3",
   "version": "3.8.5"
  }
 },
 "nbformat": 4,
 "nbformat_minor": 5
}
