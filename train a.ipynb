{
 "cells": [
  {
   "cell_type": "code",
   "execution_count": 27,
   "metadata": {},
   "outputs": [],
   "source": [
    "import os\n",
    "import numpy as np\n",
    "import scipy.io.wavfile as wf\n",
    "import matplotlib.pyplot as plt\n",
    "import librosa\n",
    "import pandas as pd"
   ]
  },
  {
   "cell_type": "code",
   "execution_count": 28,
   "metadata": {},
   "outputs": [],
   "source": [
    "audio_dataset_path_a = 'C:/Users/heera/OneDrive - Heerak/Desktop/Dissertation/traindata/training-a'"
   ]
  },
  {
   "cell_type": "code",
   "execution_count": 29,
   "metadata": {},
   "outputs": [],
   "source": [
    "alpha = 'C:/Users/heera/Desktop/Dissertation/traindata/a0001tp.wav'"
   ]
  },
  {
   "cell_type": "code",
   "execution_count": 30,
   "metadata": {},
   "outputs": [],
   "source": [
    "metadata_a=pd.read_csv('C:/Users/heera/OneDrive - Heerak/Desktop/Dissertation/traindata/training-a/REFERENCE.csv',header= None)"
   ]
  },
  {
   "cell_type": "code",
   "execution_count": 31,
   "metadata": {},
   "outputs": [
    {
     "data": {
      "text/html": [
       "<div>\n",
       "<style scoped>\n",
       "    .dataframe tbody tr th:only-of-type {\n",
       "        vertical-align: middle;\n",
       "    }\n",
       "\n",
       "    .dataframe tbody tr th {\n",
       "        vertical-align: top;\n",
       "    }\n",
       "\n",
       "    .dataframe thead th {\n",
       "        text-align: right;\n",
       "    }\n",
       "</style>\n",
       "<table border=\"1\" class=\"dataframe\">\n",
       "  <thead>\n",
       "    <tr style=\"text-align: right;\">\n",
       "      <th></th>\n",
       "      <th>0</th>\n",
       "      <th>1</th>\n",
       "      <th>2</th>\n",
       "    </tr>\n",
       "  </thead>\n",
       "  <tbody>\n",
       "    <tr>\n",
       "      <th>0</th>\n",
       "      <td>a0001.wav</td>\n",
       "      <td>a0001</td>\n",
       "      <td>1</td>\n",
       "    </tr>\n",
       "    <tr>\n",
       "      <th>1</th>\n",
       "      <td>a0002.wav</td>\n",
       "      <td>a0002</td>\n",
       "      <td>1</td>\n",
       "    </tr>\n",
       "    <tr>\n",
       "      <th>2</th>\n",
       "      <td>a0003.wav</td>\n",
       "      <td>a0003</td>\n",
       "      <td>1</td>\n",
       "    </tr>\n",
       "    <tr>\n",
       "      <th>3</th>\n",
       "      <td>a0004.wav</td>\n",
       "      <td>a0004</td>\n",
       "      <td>1</td>\n",
       "    </tr>\n",
       "    <tr>\n",
       "      <th>4</th>\n",
       "      <td>a0005.wav</td>\n",
       "      <td>a0005</td>\n",
       "      <td>1</td>\n",
       "    </tr>\n",
       "  </tbody>\n",
       "</table>\n",
       "</div>"
      ],
      "text/plain": [
       "           0      1  2\n",
       "0  a0001.wav  a0001  1\n",
       "1  a0002.wav  a0002  1\n",
       "2  a0003.wav  a0003  1\n",
       "3  a0004.wav  a0004  1\n",
       "4  a0005.wav  a0005  1"
      ]
     },
     "execution_count": 31,
     "metadata": {},
     "output_type": "execute_result"
    }
   ],
   "source": [
    "metadata_a.head()"
   ]
  },
  {
   "cell_type": "code",
   "execution_count": 32,
   "metadata": {},
   "outputs": [],
   "source": [
    "metadata_a = metadata_a.rename(columns={0: \"File_name\",1:\"names\", 2: \"Class\"})"
   ]
  },
  {
   "cell_type": "code",
   "execution_count": 33,
   "metadata": {},
   "outputs": [],
   "source": [
    "metadata_a['Class'] = metadata_a['Class'].map({1: 1, -1: 0})"
   ]
  },
  {
   "cell_type": "code",
   "execution_count": 34,
   "metadata": {},
   "outputs": [
    {
     "data": {
      "text/html": [
       "<div>\n",
       "<style scoped>\n",
       "    .dataframe tbody tr th:only-of-type {\n",
       "        vertical-align: middle;\n",
       "    }\n",
       "\n",
       "    .dataframe tbody tr th {\n",
       "        vertical-align: top;\n",
       "    }\n",
       "\n",
       "    .dataframe thead th {\n",
       "        text-align: right;\n",
       "    }\n",
       "</style>\n",
       "<table border=\"1\" class=\"dataframe\">\n",
       "  <thead>\n",
       "    <tr style=\"text-align: right;\">\n",
       "      <th></th>\n",
       "      <th>File_name</th>\n",
       "      <th>names</th>\n",
       "      <th>Class</th>\n",
       "    </tr>\n",
       "  </thead>\n",
       "  <tbody>\n",
       "    <tr>\n",
       "      <th>0</th>\n",
       "      <td>a0001.wav</td>\n",
       "      <td>a0001</td>\n",
       "      <td>1</td>\n",
       "    </tr>\n",
       "    <tr>\n",
       "      <th>1</th>\n",
       "      <td>a0002.wav</td>\n",
       "      <td>a0002</td>\n",
       "      <td>1</td>\n",
       "    </tr>\n",
       "    <tr>\n",
       "      <th>2</th>\n",
       "      <td>a0003.wav</td>\n",
       "      <td>a0003</td>\n",
       "      <td>1</td>\n",
       "    </tr>\n",
       "    <tr>\n",
       "      <th>3</th>\n",
       "      <td>a0004.wav</td>\n",
       "      <td>a0004</td>\n",
       "      <td>1</td>\n",
       "    </tr>\n",
       "    <tr>\n",
       "      <th>4</th>\n",
       "      <td>a0005.wav</td>\n",
       "      <td>a0005</td>\n",
       "      <td>1</td>\n",
       "    </tr>\n",
       "  </tbody>\n",
       "</table>\n",
       "</div>"
      ],
      "text/plain": [
       "   File_name  names  Class\n",
       "0  a0001.wav  a0001      1\n",
       "1  a0002.wav  a0002      1\n",
       "2  a0003.wav  a0003      1\n",
       "3  a0004.wav  a0004      1\n",
       "4  a0005.wav  a0005      1"
      ]
     },
     "execution_count": 34,
     "metadata": {},
     "output_type": "execute_result"
    }
   ],
   "source": [
    "metadata_a.head()"
   ]
  },
  {
   "cell_type": "code",
   "execution_count": 35,
   "metadata": {},
   "outputs": [
    {
     "data": {
      "text/plain": [
       "1    292\n",
       "0    117\n",
       "Name: Class, dtype: int64"
      ]
     },
     "execution_count": 35,
     "metadata": {},
     "output_type": "execute_result"
    }
   ],
   "source": [
    "metadata_a['Class'].value_counts()"
   ]
  },
  {
   "cell_type": "code",
   "execution_count": 40,
   "metadata": {},
   "outputs": [],
   "source": [
    "def extract_feature(file_name):\n",
    "    print(\"Extracting \"+file_name+\" ...\")\n",
    "    X, sample_rate = librosa.load(file_name)\n",
    "    stft = np.abs(librosa.stft(X))\n",
    "    mfccs = np.mean(librosa.feature.mfcc(y=X, sr=sample_rate, n_mfcc=40).T,axis=0)\n",
    "    chroma = np.mean(librosa.feature.chroma_stft(S=stft, sr=sample_rate).T,axis=0)\n",
    "    mel = np.mean(librosa.feature.melspectrogram(X, sr=sample_rate).T,axis=0)\n",
    "    contrast = np.mean(librosa.feature.spectral_contrast(S=stft, sr=sample_rate).T,axis=0)\n",
    "    tonnetz = np.mean(librosa.feature.tonnetz(y=librosa.effects.harmonic(X),sr=sample_rate).T,axis=0)\n",
    "    return np.hstack((mfccs,chroma,mel,contrast,tonnetz))\n"
   ]
  },
  {
   "cell_type": "code",
   "execution_count": 41,
   "metadata": {},
   "outputs": [],
   "source": [
    "def extract_feature1(file_name):\n",
    "    X, sample_rate = librosa.load(file_name)\n",
    "    stft = np.abs(librosa.stft(X))\n",
    "    mfccs = np.mean(librosa.feature.mfcc(y=X, sr=sample_rate, n_mfcc=40).T,axis=0)\n",
    "    chroma = np.mean(librosa.feature.chroma_stft(S=stft, sr=sample_rate).T,axis=0)\n",
    "    mel = np.mean(librosa.feature.melspectrogram(X, sr=sample_rate).T,axis=0)\n",
    "    contrast = np.mean(librosa.feature.spectral_contrast(S=stft, sr=sample_rate).T,axis=0)\n",
    "    tonnetz = np.mean(librosa.feature.tonnetz(y=librosa.effects.harmonic(X), sr=sample_rate).T,axis=0)\n",
    "    return mfccs,chroma,mel,contrast,tonnetz"
   ]
  },
  {
   "cell_type": "code",
   "execution_count": 42,
   "metadata": {},
   "outputs": [],
   "source": [
    "def features_extractor(file_name):\n",
    "    audio, sample_rate = librosa.load(file_name, res_type='kaiser_fast') \n",
    "    mfccs_features = librosa.feature.mfcc(y=audio, sr=sample_rate, n_mfcc=40)\n",
    "    mfccs_scaled_features = np.mean(mfccs_features.T,axis=0)\n",
    "    \n",
    "    return mfccs_scaled_features"
   ]
  },
  {
   "cell_type": "code",
   "execution_count": 43,
   "metadata": {},
   "outputs": [
    {
     "name": "stdout",
     "output_type": "stream",
     "text": [
      "Extracting C:/Users/heera/Desktop/Dissertation/traindata/a0001tp.wav ...\n"
     ]
    }
   ],
   "source": [
    "b1 = extract_feature(alpha)"
   ]
  },
  {
   "cell_type": "code",
   "execution_count": 44,
   "metadata": {},
   "outputs": [
    {
     "data": {
      "text/plain": [
       "(193,)"
      ]
     },
     "execution_count": 44,
     "metadata": {},
     "output_type": "execute_result"
    }
   ],
   "source": [
    "b1.shape"
   ]
  },
  {
   "cell_type": "code",
   "execution_count": 45,
   "metadata": {},
   "outputs": [],
   "source": [
    "b2 = extract_feature1(alpha)"
   ]
  },
  {
   "cell_type": "code",
   "execution_count": 46,
   "metadata": {},
   "outputs": [
    {
     "data": {
      "text/plain": [
       "(array([-5.7027502e+02,  1.2356920e+02,  8.0899551e+01,  3.2086147e+01,\n",
       "        -2.4344664e+00, -1.2008073e+01, -9.5548533e-02,  1.9669334e+01,\n",
       "         3.2619598e+01,  3.1467825e+01,  1.9105337e+01,  4.8727589e+00,\n",
       "        -2.4746568e+00, -2.3282865e-01,  7.5808406e+00,  1.4050789e+01,\n",
       "         1.4485862e+01,  9.2299423e+00,  2.5997272e+00, -7.6624560e-01,\n",
       "         7.4448252e-01,  4.9765210e+00,  8.0545092e+00,  7.4127483e+00,\n",
       "         3.5214355e+00, -7.7413642e-01, -2.5497599e+00, -8.9655238e-01,\n",
       "         2.6644368e+00,  5.5413251e+00,  6.0078158e+00,  4.2518806e+00,\n",
       "         1.9048506e+00,  6.1427140e-01,  8.5336256e-01,  1.8187358e+00,\n",
       "         2.3253608e+00,  1.8504550e+00,  8.7003553e-01,  3.0133569e-01],\n",
       "       dtype=float32),\n",
       " array([0.48102635, 0.5095136 , 0.551419  , 0.65250164, 0.71487856,\n",
       "        0.73738664, 0.7155817 , 0.7389817 , 0.9713474 , 0.7996951 ,\n",
       "        0.6368212 , 0.4910174 ], dtype=float32),\n",
       " array([7.79254818e+00, 3.53110075e+00, 9.59840834e-01, 4.69720036e-01,\n",
       "        1.13920875e-01, 1.86640006e-02, 9.33299307e-03, 4.91129141e-03,\n",
       "        2.63226405e-03, 1.74329302e-03, 1.31091487e-03, 8.68203759e-04,\n",
       "        5.49359829e-04, 4.79050155e-04, 6.41505816e-04, 6.20476203e-04,\n",
       "        6.35768054e-04, 4.41570592e-04, 3.33293458e-04, 3.54039104e-04,\n",
       "        3.78849072e-04, 5.08273835e-04, 4.86327510e-04, 5.08604920e-04,\n",
       "        1.95086200e-03, 8.77859071e-04, 9.26921202e-04, 2.20789528e-03,\n",
       "        8.59768596e-04, 8.42508511e-04, 8.42478650e-04, 3.95967439e-03,\n",
       "        3.87461483e-03, 7.43086275e-04, 6.07101130e-04, 3.42495186e-04,\n",
       "        1.28120068e-04, 2.24100622e-05, 3.79511960e-08, 8.21377899e-09,\n",
       "        7.06601089e-09, 6.54167120e-09, 5.98875216e-09, 5.24919219e-09,\n",
       "        4.72372230e-09, 4.23448387e-09, 3.78724696e-09, 3.38206663e-09,\n",
       "        3.07333914e-09, 2.71517964e-09, 2.41273668e-09, 2.21885443e-09,\n",
       "        1.94277172e-09, 1.75263959e-09, 1.59387614e-09, 1.41662404e-09,\n",
       "        1.27274491e-09, 1.14928211e-09, 1.03669950e-09, 9.24183452e-10,\n",
       "        8.39813386e-10, 7.51795293e-10, 6.85845269e-10, 6.12766504e-10,\n",
       "        5.54489177e-10, 5.00894104e-10, 4.53687199e-10, 4.11417678e-10,\n",
       "        3.69683756e-10, 3.36677686e-10, 3.05334341e-10, 2.75994061e-10,\n",
       "        2.50984733e-10, 2.28406571e-10, 2.06243828e-10, 1.89131780e-10,\n",
       "        1.71341358e-10, 1.56129359e-10, 1.42526518e-10, 1.30229591e-10,\n",
       "        1.18609761e-10, 1.08573303e-10, 9.94410249e-11, 9.09755604e-11,\n",
       "        8.34466107e-11, 7.65480943e-11, 7.04651476e-11, 6.47832066e-11,\n",
       "        5.95296937e-11, 5.50388103e-11, 5.07054190e-11, 4.68655774e-11,\n",
       "        4.34850246e-11, 4.01833497e-11, 3.73171043e-11, 3.46733198e-11,\n",
       "        3.22820416e-11, 3.00804104e-11, 2.80990873e-11, 2.62219396e-11,\n",
       "        2.45848012e-11, 2.30393187e-11, 2.16551603e-11, 2.03638825e-11,\n",
       "        1.92115750e-11, 1.81300513e-11, 1.71525329e-11, 1.62622606e-11,\n",
       "        1.54358956e-11, 1.46906116e-11, 1.39988177e-11, 1.33663020e-11,\n",
       "        1.28017137e-11, 1.22743794e-11, 1.17915287e-11, 1.13581028e-11,\n",
       "        1.09658888e-11, 1.06052016e-11, 1.02833792e-11, 9.99889668e-12,\n",
       "        9.73627776e-12, 9.51467204e-12, 9.31817384e-12, 9.14628876e-12,\n",
       "        9.01174621e-12, 8.90083320e-12, 8.82591829e-12, 8.77305433e-12],\n",
       "       dtype=float32),\n",
       " array([20.86688036, 10.97697064, 13.48474493, 55.31632732, 10.48085242,\n",
       "         9.2252077 ,  9.12575811]),\n",
       " array([-0.02626964,  0.0321794 , -0.08903013,  0.07554458,  0.03582228,\n",
       "         0.01920147]))"
      ]
     },
     "execution_count": 46,
     "metadata": {},
     "output_type": "execute_result"
    }
   ],
   "source": [
    "b2"
   ]
  },
  {
   "cell_type": "code",
   "execution_count": 47,
   "metadata": {},
   "outputs": [],
   "source": [
    "b3 = features_extractor(alpha)"
   ]
  },
  {
   "cell_type": "code",
   "execution_count": 48,
   "metadata": {},
   "outputs": [
    {
     "data": {
      "text/plain": [
       "(40,)"
      ]
     },
     "execution_count": 48,
     "metadata": {},
     "output_type": "execute_result"
    }
   ],
   "source": [
    "b3.shape"
   ]
  },
  {
   "cell_type": "code",
   "execution_count": 49,
   "metadata": {},
   "outputs": [],
   "source": [
    "def energy(signal_in):\n",
    "    return [x**2 for x in signal_in]\n",
    "\n",
    "def shannon_entrophy(signal_in):\n",
    "    return [(-abs(x) * (logarithm(x))) for x in signal_in]\n",
    "    \n",
    "def shannon_energy(signal_in):\n",
    "    return [((-(x**2)) * (logarithm(x**2))) for x in signal_in]    \n",
    "    \n",
    "def logarithm(x):\n",
    "    if x == 0:\n",
    "        return 0\n",
    "    else:\n",
    "        return np.log10(x)\n",
    "        \n",
    "def moving_average(signal_in, n = 100) :\n",
    "    mov_av = np.zeros(len(signal_in))\n",
    "    mov_av[0:n - 1] = signal_in[0:n - 1]\n",
    "    for t in range(n - 1, len(mov_av)):\n",
    "        mov_av[t] = np.average(signal_in[t - n + 1 : t])\n",
    "    return mov_av"
   ]
  },
  {
   "cell_type": "code",
   "execution_count": null,
   "metadata": {},
   "outputs": [],
   "source": [
    "def features_extractor(file_name):\n",
    "    audio, sample_rate = librosa.load(file_name, res_type='kaiser_fast')\n",
    "    return"
   ]
  },
  {
   "cell_type": "code",
   "execution_count": null,
   "metadata": {},
   "outputs": [],
   "source": []
  },
  {
   "cell_type": "code",
   "execution_count": null,
   "metadata": {},
   "outputs": [],
   "source": []
  },
  {
   "cell_type": "code",
   "execution_count": null,
   "metadata": {},
   "outputs": [],
   "source": []
  },
  {
   "cell_type": "code",
   "execution_count": null,
   "metadata": {},
   "outputs": [],
   "source": []
  },
  {
   "cell_type": "code",
   "execution_count": null,
   "metadata": {},
   "outputs": [],
   "source": []
  },
  {
   "cell_type": "code",
   "execution_count": null,
   "metadata": {},
   "outputs": [],
   "source": []
  }
 ],
 "metadata": {
  "kernelspec": {
   "display_name": "Python 3",
   "language": "python",
   "name": "python3"
  },
  "language_info": {
   "codemirror_mode": {
    "name": "ipython",
    "version": 3
   },
   "file_extension": ".py",
   "mimetype": "text/x-python",
   "name": "python",
   "nbconvert_exporter": "python",
   "pygments_lexer": "ipython3",
   "version": "3.8.5"
  }
 },
 "nbformat": 4,
 "nbformat_minor": 4
}
