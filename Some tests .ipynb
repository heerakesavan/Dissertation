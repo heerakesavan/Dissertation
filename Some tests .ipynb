{
 "cells": [
  {
   "cell_type": "code",
   "execution_count": 1,
   "metadata": {},
   "outputs": [],
   "source": [
    "import os\n",
    "import numpy as np\n",
    "import scipy.io.wavfile as wf\n",
    "import matplotlib.pyplot as plt\n",
    "import librosa\n",
    "import pandas as pd\n",
    "from sklearn.metrics import classification_report"
   ]
  },
  {
   "cell_type": "code",
   "execution_count": 2,
   "metadata": {},
   "outputs": [],
   "source": [
    "audio_dataset_path_a = 'C:/Users/heera/OneDrive - Heerak/Desktop/Dissertation/traindata/training-a'"
   ]
  },
  {
   "cell_type": "code",
   "execution_count": 3,
   "metadata": {},
   "outputs": [],
   "source": [
    "metadata_a=pd.read_csv('C:/Users/heera/OneDrive - Heerak/Desktop/Dissertation/traindata/training-a/REFERENCE.csv',header= None)"
   ]
  },
  {
   "cell_type": "code",
   "execution_count": 4,
   "metadata": {},
   "outputs": [],
   "source": [
    "metadata_a = metadata_a.rename(columns={0: \"File_name\",1:\"names\", 2: \"Class\"})"
   ]
  },
  {
   "cell_type": "code",
   "execution_count": 5,
   "metadata": {},
   "outputs": [],
   "source": [
    "metadata_a['Class'] = metadata_a['Class'].map({1: 1, -1: 0})"
   ]
  },
  {
   "cell_type": "code",
   "execution_count": 6,
   "metadata": {},
   "outputs": [
    {
     "data": {
      "text/html": [
       "<div>\n",
       "<style scoped>\n",
       "    .dataframe tbody tr th:only-of-type {\n",
       "        vertical-align: middle;\n",
       "    }\n",
       "\n",
       "    .dataframe tbody tr th {\n",
       "        vertical-align: top;\n",
       "    }\n",
       "\n",
       "    .dataframe thead th {\n",
       "        text-align: right;\n",
       "    }\n",
       "</style>\n",
       "<table border=\"1\" class=\"dataframe\">\n",
       "  <thead>\n",
       "    <tr style=\"text-align: right;\">\n",
       "      <th></th>\n",
       "      <th>File_name</th>\n",
       "      <th>names</th>\n",
       "      <th>Class</th>\n",
       "    </tr>\n",
       "  </thead>\n",
       "  <tbody>\n",
       "    <tr>\n",
       "      <th>0</th>\n",
       "      <td>a0001.wav</td>\n",
       "      <td>a0001</td>\n",
       "      <td>1</td>\n",
       "    </tr>\n",
       "    <tr>\n",
       "      <th>1</th>\n",
       "      <td>a0002.wav</td>\n",
       "      <td>a0002</td>\n",
       "      <td>1</td>\n",
       "    </tr>\n",
       "    <tr>\n",
       "      <th>2</th>\n",
       "      <td>a0003.wav</td>\n",
       "      <td>a0003</td>\n",
       "      <td>1</td>\n",
       "    </tr>\n",
       "    <tr>\n",
       "      <th>3</th>\n",
       "      <td>a0004.wav</td>\n",
       "      <td>a0004</td>\n",
       "      <td>1</td>\n",
       "    </tr>\n",
       "    <tr>\n",
       "      <th>4</th>\n",
       "      <td>a0005.wav</td>\n",
       "      <td>a0005</td>\n",
       "      <td>1</td>\n",
       "    </tr>\n",
       "  </tbody>\n",
       "</table>\n",
       "</div>"
      ],
      "text/plain": [
       "   File_name  names  Class\n",
       "0  a0001.wav  a0001      1\n",
       "1  a0002.wav  a0002      1\n",
       "2  a0003.wav  a0003      1\n",
       "3  a0004.wav  a0004      1\n",
       "4  a0005.wav  a0005      1"
      ]
     },
     "execution_count": 6,
     "metadata": {},
     "output_type": "execute_result"
    }
   ],
   "source": [
    "metadata_a.head()"
   ]
  },
  {
   "cell_type": "code",
   "execution_count": 7,
   "metadata": {},
   "outputs": [],
   "source": [
    "training_a = pd.read_csv('C:/Users/heera/OneDrive - Heerak/Desktop/Dissertation/traindata/training-a/REFERENCE.csv',names=[\"wavfile\", \"actuals\", \"pred\"])\n",
    "training_b = pd.read_csv('C:/Users/heera/OneDrive - Heerak/Desktop/Dissertation/traindata/training-b/REFERENCE.csv',names=[\"wavfile\", \"actuals\", \"pred\"])\n",
    "training_c = pd.read_csv('C:/Users/heera/OneDrive - Heerak/Desktop/Dissertation/traindata/training-c/REFERENCE.csv',names=[\"wavfile\", \"actuals\", \"pred\"])\n",
    "training_d = pd.read_csv('C:/Users/heera/OneDrive - Heerak/Desktop/Dissertation/traindata/training-d/REFERENCE.csv',names=[\"wavfile\", \"actuals\", \"pred\"])\n",
    "training_e = pd.read_csv('C:/Users/heera/OneDrive - Heerak/Desktop/Dissertation/traindata/training-e/REFERENCE.csv',names=[\"wavfile\", \"actuals\", \"pred\"])\n",
    "training_f = pd.read_csv('C:/Users/heera/OneDrive - Heerak/Desktop/Dissertation/traindata/training-f/REFERENCE.csv',names=[\"wavfile\", \"actuals\", \"pred\"])"
   ]
  },
  {
   "cell_type": "code",
   "execution_count": 8,
   "metadata": {},
   "outputs": [
    {
     "data": {
      "text/html": [
       "<div>\n",
       "<style scoped>\n",
       "    .dataframe tbody tr th:only-of-type {\n",
       "        vertical-align: middle;\n",
       "    }\n",
       "\n",
       "    .dataframe tbody tr th {\n",
       "        vertical-align: top;\n",
       "    }\n",
       "\n",
       "    .dataframe thead th {\n",
       "        text-align: right;\n",
       "    }\n",
       "</style>\n",
       "<table border=\"1\" class=\"dataframe\">\n",
       "  <thead>\n",
       "    <tr style=\"text-align: right;\">\n",
       "      <th></th>\n",
       "      <th></th>\n",
       "      <th>wavfile</th>\n",
       "    </tr>\n",
       "    <tr>\n",
       "      <th>actuals</th>\n",
       "      <th>pred</th>\n",
       "      <th></th>\n",
       "    </tr>\n",
       "  </thead>\n",
       "  <tbody>\n",
       "    <tr>\n",
       "      <th>a0001</th>\n",
       "      <th>1</th>\n",
       "      <td>1</td>\n",
       "    </tr>\n",
       "    <tr>\n",
       "      <th>a0002</th>\n",
       "      <th>1</th>\n",
       "      <td>1</td>\n",
       "    </tr>\n",
       "    <tr>\n",
       "      <th>a0003</th>\n",
       "      <th>1</th>\n",
       "      <td>1</td>\n",
       "    </tr>\n",
       "    <tr>\n",
       "      <th>a0004</th>\n",
       "      <th>1</th>\n",
       "      <td>1</td>\n",
       "    </tr>\n",
       "    <tr>\n",
       "      <th>a0005</th>\n",
       "      <th>1</th>\n",
       "      <td>1</td>\n",
       "    </tr>\n",
       "    <tr>\n",
       "      <th>...</th>\n",
       "      <th>...</th>\n",
       "      <td>...</td>\n",
       "    </tr>\n",
       "    <tr>\n",
       "      <th>f0110</th>\n",
       "      <th>-1</th>\n",
       "      <td>1</td>\n",
       "    </tr>\n",
       "    <tr>\n",
       "      <th>f0111</th>\n",
       "      <th>-1</th>\n",
       "      <td>1</td>\n",
       "    </tr>\n",
       "    <tr>\n",
       "      <th>f0112</th>\n",
       "      <th>-1</th>\n",
       "      <td>1</td>\n",
       "    </tr>\n",
       "    <tr>\n",
       "      <th>f0113</th>\n",
       "      <th>-1</th>\n",
       "      <td>1</td>\n",
       "    </tr>\n",
       "    <tr>\n",
       "      <th>f0114</th>\n",
       "      <th>-1</th>\n",
       "      <td>1</td>\n",
       "    </tr>\n",
       "  </tbody>\n",
       "</table>\n",
       "<p>3240 rows × 1 columns</p>\n",
       "</div>"
      ],
      "text/plain": [
       "              wavfile\n",
       "actuals pred         \n",
       "a0001    1          1\n",
       "a0002    1          1\n",
       "a0003    1          1\n",
       "a0004    1          1\n",
       "a0005    1          1\n",
       "...               ...\n",
       "f0110   -1          1\n",
       "f0111   -1          1\n",
       "f0112   -1          1\n",
       "f0113   -1          1\n",
       "f0114   -1          1\n",
       "\n",
       "[3240 rows x 1 columns]"
      ]
     },
     "execution_count": 8,
     "metadata": {},
     "output_type": "execute_result"
    }
   ],
   "source": [
    "train = pd.concat([training_a, training_b,training_c,training_d,training_e,training_f], axis=0)\n",
    "category_group = train[['wavfile', 'actuals', 'pred']].groupby(['actuals','pred']).count()\n",
    "category_group"
   ]
  },
  {
   "cell_type": "code",
   "execution_count": 9,
   "metadata": {},
   "outputs": [],
   "source": [
    "#Helper Function\n",
    "def get_wave_path(wav_file_name,wav_path):\n",
    "    if (wav_file_name[0] =='a'):\n",
    "        wav_path = wav_path + \"training-a/\" + wav_file_name +\".wav\"\n",
    "        #print(wav_path)\n",
    "    elif (wav_file_name[0] =='b'):\n",
    "        wav_path = wav_path + \"training-b/\" + wav_file_name +\".wav\"\n",
    "    elif (wav_file_name[0] =='c'):\n",
    "        wav_path = wav_path + \"training-c/\" + wav_file_name +\".wav\"\n",
    "    elif (wav_file_name[0] =='d'):\n",
    "        wav_path = wav_path + \"training-d/\" + wav_file_name +\".wav\"\n",
    "    elif (wav_file_name[0] =='e'):\n",
    "        wav_path = wav_path + \"training-e/\" + wav_file_name +\".wav\"\n",
    "    elif (wav_file_name[0] =='f'):\n",
    "        wav_path = wav_path + \"training-f/\" + wav_file_name +\".wav\"\n",
    "    return wav_path"
   ]
  },
  {
   "cell_type": "code",
   "execution_count": 10,
   "metadata": {},
   "outputs": [
    {
     "ename": "IndexError",
     "evalue": "list index out of range",
     "output_type": "error",
     "traceback": [
      "\u001b[1;31m---------------------------------------------------------------------------\u001b[0m",
      "\u001b[1;31mIndexError\u001b[0m                                Traceback (most recent call last)",
      "\u001b[1;32m<ipython-input-10-d48e51f74ec3>\u001b[0m in \u001b[0;36m<module>\u001b[1;34m\u001b[0m\n\u001b[0;32m      1\u001b[0m \u001b[0mnormals\u001b[0m \u001b[1;33m=\u001b[0m \u001b[0mtrain\u001b[0m\u001b[1;33m.\u001b[0m\u001b[0mquery\u001b[0m\u001b[1;33m(\u001b[0m\u001b[1;34m'actuals == \"1\"'\u001b[0m\u001b[1;33m)\u001b[0m\u001b[1;33m[\u001b[0m\u001b[1;34m'wavfile'\u001b[0m\u001b[1;33m]\u001b[0m\u001b[1;33m.\u001b[0m\u001b[0mtolist\u001b[0m\u001b[1;33m(\u001b[0m\u001b[1;33m)\u001b[0m\u001b[1;33m\u001b[0m\u001b[1;33m\u001b[0m\u001b[0m\n\u001b[0;32m      2\u001b[0m \u001b[1;31m#print(wav_path)\u001b[0m\u001b[1;33m\u001b[0m\u001b[1;33m\u001b[0m\u001b[1;33m\u001b[0m\u001b[0m\n\u001b[1;32m----> 3\u001b[1;33m \u001b[0mnormal_sound_file\u001b[0m \u001b[1;33m=\u001b[0m \u001b[0mget_wave_path\u001b[0m\u001b[1;33m(\u001b[0m\u001b[0mstr\u001b[0m\u001b[1;33m(\u001b[0m\u001b[0mnormals\u001b[0m\u001b[1;33m[\u001b[0m\u001b[1;36m1\u001b[0m\u001b[1;33m]\u001b[0m\u001b[1;33m)\u001b[0m\u001b[1;33m,\u001b[0m\u001b[0mwav_path\u001b[0m\u001b[1;33m)\u001b[0m\u001b[1;33m\u001b[0m\u001b[1;33m\u001b[0m\u001b[0m\n\u001b[0m\u001b[0;32m      4\u001b[0m \u001b[1;31m#print(sound_file)\u001b[0m\u001b[1;33m\u001b[0m\u001b[1;33m\u001b[0m\u001b[1;33m\u001b[0m\u001b[0m\n\u001b[0;32m      5\u001b[0m \u001b[0mAudio\u001b[0m\u001b[1;33m(\u001b[0m\u001b[0mnormal_sound_file\u001b[0m\u001b[1;33m)\u001b[0m\u001b[1;33m\u001b[0m\u001b[1;33m\u001b[0m\u001b[0m\n",
      "\u001b[1;31mIndexError\u001b[0m: list index out of range"
     ]
    }
   ],
   "source": [
    "normals = train.query('actuals == \"1\"')['wavfile'].tolist()\n",
    "#print(wav_path)\n",
    "normal_sound_file = get_wave_path(str(normals[1]),wav_path)\n",
    "#print(sound_file)\n",
    "Audio(normal_sound_file)\n"
   ]
  },
  {
   "cell_type": "code",
   "execution_count": null,
   "metadata": {},
   "outputs": [],
   "source": [
    "#plot a normal wave\n",
    "normal_wav, sr = load_wave_file(normal_sound_file)\n",
    "#Abnormals\n",
    "abnormals = train.query('actuals == \"-1\"')['wavfile'].tolist()\n",
    "#print(wav_path)\n",
    "abnormal_sound_file = get_wave_path(str(abnormals[1]),wav_path)\n",
    "#plot a normal wave\n",
    "abnormal_wav, sr = load_wave_file(abnormal_sound_file)\n",
    "\n",
    "#print(sound_file)\n",
    "Audio(abnormal_sound_file)"
   ]
  },
  {
   "cell_type": "code",
   "execution_count": null,
   "metadata": {},
   "outputs": [],
   "source": [
    "# Plot the normal and Abnormal sound waves side by side\n",
    "fig, axes = plt.subplots(nrows=1, ncols=2, figsize=(16, 5))\n",
    "axes[0].plot(normal_wav,color=\"b\")\n",
    "axes[0].set_title('Normal Wave')\n",
    "axes[1].plot(abnormal_wav,color=\"r\")\n",
    "axes[1].set_title('Abnormal Wave')"
   ]
  },
  {
   "cell_type": "code",
   "execution_count": null,
   "metadata": {},
   "outputs": [],
   "source": [
    "    "
   ]
  }
 ],
 "metadata": {
  "kernelspec": {
   "display_name": "Python 3",
   "language": "python",
   "name": "python3"
  },
  "language_info": {
   "codemirror_mode": {
    "name": "ipython",
    "version": 3
   },
   "file_extension": ".py",
   "mimetype": "text/x-python",
   "name": "python",
   "nbconvert_exporter": "python",
   "pygments_lexer": "ipython3",
   "version": "3.8.5"
  }
 },
 "nbformat": 4,
 "nbformat_minor": 4
}
