{
 "cells": [
  {
   "cell_type": "code",
   "execution_count": 1,
   "metadata": {},
   "outputs": [],
   "source": [
    "import os\n",
    "import numpy as np\n",
    "import scipy.io.wavfile as wf\n",
    "import matplotlib.pyplot as plt\n",
    "import librosa\n",
    "import pandas as pd"
   ]
  },
  {
   "cell_type": "code",
   "execution_count": 2,
   "metadata": {},
   "outputs": [],
   "source": [
    "df = pd.read_csv(r'C:\\Users\\heera\\Desktop\\Dissertation\\Data Physionet\\traindata\\merged.csv')"
   ]
  },
  {
   "cell_type": "code",
   "execution_count": 3,
   "metadata": {},
   "outputs": [
    {
     "data": {
      "text/html": [
       "<div>\n",
       "<style scoped>\n",
       "    .dataframe tbody tr th:only-of-type {\n",
       "        vertical-align: middle;\n",
       "    }\n",
       "\n",
       "    .dataframe tbody tr th {\n",
       "        vertical-align: top;\n",
       "    }\n",
       "\n",
       "    .dataframe thead th {\n",
       "        text-align: right;\n",
       "    }\n",
       "</style>\n",
       "<table border=\"1\" class=\"dataframe\">\n",
       "  <thead>\n",
       "    <tr style=\"text-align: right;\">\n",
       "      <th></th>\n",
       "      <th>0</th>\n",
       "      <th>1</th>\n",
       "      <th>2</th>\n",
       "      <th>3</th>\n",
       "      <th>4</th>\n",
       "      <th>5</th>\n",
       "      <th>6</th>\n",
       "      <th>7</th>\n",
       "      <th>8</th>\n",
       "      <th>9</th>\n",
       "      <th>...</th>\n",
       "      <th>31</th>\n",
       "      <th>32</th>\n",
       "      <th>33</th>\n",
       "      <th>34</th>\n",
       "      <th>35</th>\n",
       "      <th>36</th>\n",
       "      <th>37</th>\n",
       "      <th>38</th>\n",
       "      <th>39</th>\n",
       "      <th>0.1</th>\n",
       "    </tr>\n",
       "  </thead>\n",
       "  <tbody>\n",
       "    <tr>\n",
       "      <th>0</th>\n",
       "      <td>-577.74457</td>\n",
       "      <td>116.68117</td>\n",
       "      <td>82.454210</td>\n",
       "      <td>40.931873</td>\n",
       "      <td>7.485605</td>\n",
       "      <td>-7.887007</td>\n",
       "      <td>-4.491601</td>\n",
       "      <td>10.008358</td>\n",
       "      <td>24.508472</td>\n",
       "      <td>30.438593</td>\n",
       "      <td>...</td>\n",
       "      <td>5.994569</td>\n",
       "      <td>5.839570</td>\n",
       "      <td>3.671601</td>\n",
       "      <td>0.848826</td>\n",
       "      <td>-1.004319</td>\n",
       "      <td>-1.004396</td>\n",
       "      <td>0.530715</td>\n",
       "      <td>2.398161</td>\n",
       "      <td>3.331668</td>\n",
       "      <td>1</td>\n",
       "    </tr>\n",
       "    <tr>\n",
       "      <th>1</th>\n",
       "      <td>-628.81630</td>\n",
       "      <td>136.51126</td>\n",
       "      <td>100.357864</td>\n",
       "      <td>56.209590</td>\n",
       "      <td>19.551243</td>\n",
       "      <td>0.428206</td>\n",
       "      <td>-0.259094</td>\n",
       "      <td>10.158183</td>\n",
       "      <td>21.104572</td>\n",
       "      <td>24.655876</td>\n",
       "      <td>...</td>\n",
       "      <td>3.507886</td>\n",
       "      <td>2.841200</td>\n",
       "      <td>1.227278</td>\n",
       "      <td>-0.146953</td>\n",
       "      <td>-0.405241</td>\n",
       "      <td>0.449801</td>\n",
       "      <td>1.629177</td>\n",
       "      <td>2.186590</td>\n",
       "      <td>1.692338</td>\n",
       "      <td>1</td>\n",
       "    </tr>\n",
       "    <tr>\n",
       "      <th>2</th>\n",
       "      <td>-601.18340</td>\n",
       "      <td>77.22223</td>\n",
       "      <td>61.623146</td>\n",
       "      <td>42.221630</td>\n",
       "      <td>25.632828</td>\n",
       "      <td>16.337782</td>\n",
       "      <td>15.002048</td>\n",
       "      <td>18.738730</td>\n",
       "      <td>23.003593</td>\n",
       "      <td>24.039800</td>\n",
       "      <td>...</td>\n",
       "      <td>2.748103</td>\n",
       "      <td>2.922751</td>\n",
       "      <td>2.290715</td>\n",
       "      <td>1.166961</td>\n",
       "      <td>0.225971</td>\n",
       "      <td>0.042497</td>\n",
       "      <td>0.699116</td>\n",
       "      <td>1.713670</td>\n",
       "      <td>2.332496</td>\n",
       "      <td>1</td>\n",
       "    </tr>\n",
       "    <tr>\n",
       "      <th>3</th>\n",
       "      <td>-562.58900</td>\n",
       "      <td>88.77356</td>\n",
       "      <td>71.557740</td>\n",
       "      <td>49.522438</td>\n",
       "      <td>29.541950</td>\n",
       "      <td>16.664858</td>\n",
       "      <td>12.350879</td>\n",
       "      <td>14.427670</td>\n",
       "      <td>18.631382</td>\n",
       "      <td>20.879950</td>\n",
       "      <td>...</td>\n",
       "      <td>0.984788</td>\n",
       "      <td>1.662023</td>\n",
       "      <td>2.113323</td>\n",
       "      <td>2.125078</td>\n",
       "      <td>1.752352</td>\n",
       "      <td>1.235468</td>\n",
       "      <td>0.835051</td>\n",
       "      <td>0.692907</td>\n",
       "      <td>0.788556</td>\n",
       "      <td>1</td>\n",
       "    </tr>\n",
       "    <tr>\n",
       "      <th>4</th>\n",
       "      <td>-489.47345</td>\n",
       "      <td>65.72582</td>\n",
       "      <td>57.030285</td>\n",
       "      <td>45.383488</td>\n",
       "      <td>33.820340</td>\n",
       "      <td>24.795256</td>\n",
       "      <td>19.436210</td>\n",
       "      <td>17.373821</td>\n",
       "      <td>17.174334</td>\n",
       "      <td>17.152473</td>\n",
       "      <td>...</td>\n",
       "      <td>2.122123</td>\n",
       "      <td>2.094586</td>\n",
       "      <td>2.164926</td>\n",
       "      <td>2.183312</td>\n",
       "      <td>2.057845</td>\n",
       "      <td>1.794090</td>\n",
       "      <td>1.474256</td>\n",
       "      <td>1.199110</td>\n",
       "      <td>1.032410</td>\n",
       "      <td>1</td>\n",
       "    </tr>\n",
       "  </tbody>\n",
       "</table>\n",
       "<p>5 rows × 41 columns</p>\n",
       "</div>"
      ],
      "text/plain": [
       "           0          1           2          3          4          5  \\\n",
       "0 -577.74457  116.68117   82.454210  40.931873   7.485605  -7.887007   \n",
       "1 -628.81630  136.51126  100.357864  56.209590  19.551243   0.428206   \n",
       "2 -601.18340   77.22223   61.623146  42.221630  25.632828  16.337782   \n",
       "3 -562.58900   88.77356   71.557740  49.522438  29.541950  16.664858   \n",
       "4 -489.47345   65.72582   57.030285  45.383488  33.820340  24.795256   \n",
       "\n",
       "           6          7          8          9  ...        31        32  \\\n",
       "0  -4.491601  10.008358  24.508472  30.438593  ...  5.994569  5.839570   \n",
       "1  -0.259094  10.158183  21.104572  24.655876  ...  3.507886  2.841200   \n",
       "2  15.002048  18.738730  23.003593  24.039800  ...  2.748103  2.922751   \n",
       "3  12.350879  14.427670  18.631382  20.879950  ...  0.984788  1.662023   \n",
       "4  19.436210  17.373821  17.174334  17.152473  ...  2.122123  2.094586   \n",
       "\n",
       "         33        34        35        36        37        38        39  0.1  \n",
       "0  3.671601  0.848826 -1.004319 -1.004396  0.530715  2.398161  3.331668    1  \n",
       "1  1.227278 -0.146953 -0.405241  0.449801  1.629177  2.186590  1.692338    1  \n",
       "2  2.290715  1.166961  0.225971  0.042497  0.699116  1.713670  2.332496    1  \n",
       "3  2.113323  2.125078  1.752352  1.235468  0.835051  0.692907  0.788556    1  \n",
       "4  2.164926  2.183312  2.057845  1.794090  1.474256  1.199110  1.032410    1  \n",
       "\n",
       "[5 rows x 41 columns]"
      ]
     },
     "execution_count": 3,
     "metadata": {},
     "output_type": "execute_result"
    }
   ],
   "source": [
    "df.head()"
   ]
  },
  {
   "cell_type": "code",
   "execution_count": 4,
   "metadata": {},
   "outputs": [],
   "source": [
    "df = df.rename(columns={\"0.1\": \"labels\"})"
   ]
  },
  {
   "cell_type": "code",
   "execution_count": 5,
   "metadata": {},
   "outputs": [
    {
     "data": {
      "text/plain": [
       "0    2575\n",
       "1     665\n",
       "Name: labels, dtype: int64"
      ]
     },
     "execution_count": 5,
     "metadata": {},
     "output_type": "execute_result"
    }
   ],
   "source": [
    "df[\"labels\"].value_counts()"
   ]
  },
  {
   "cell_type": "code",
   "execution_count": 6,
   "metadata": {},
   "outputs": [
    {
     "data": {
      "image/png": "[encoded data removed]",
      "text/plain": [
       "<Figure size 432x288 with 1 Axes>"
      ]
     },
     "metadata": {
      "needs_background": "light"
     },
     "output_type": "display_data"
    }
   ],
   "source": [
    "import seaborn as sns\n",
    "plt.title(\"Distribution or Normal and Abnormal Heart sounds\",fontsize= 16)\n",
    "plt.xticks(fontsize=14,rotation=0)\n",
    "# for spine in plt.gca().spines.values():\n",
    "#     spine.set_visible(False)\n",
    "plt.yticks([])\n",
    "sns.countplot(x='labels',data=df,palette=\"Set2\")\n",
    "plt.show()\n",
    "# for p in ax.patches:\n",
    "#     width, height = p.get_width(), p.get_height()\n",
    "#     x, y = p.get_xy() \n",
    "#     ax.text(x+width/2, \n",
    "#             y+height/2, \n",
    "#             '{:.0f}'.format(height), \n",
    "#             horizontalalignment='center', \n",
    "#             verticalalignment='center')\n"
   ]
  },
  {
   "cell_type": "markdown",
   "metadata": {},
   "source": [
    "# Split the Dataset and balance the y variable"
   ]
  },
  {
   "cell_type": "code",
   "execution_count": 7,
   "metadata": {},
   "outputs": [],
   "source": [
    "### Split the dataset into independent and dependent dataset\n"
   ]
  },
  {
   "cell_type": "code",
   "execution_count": 8,
   "metadata": {},
   "outputs": [],
   "source": [
    "X = df.iloc[:,0:40]\n",
    "# y = df[\"class\"]"
   ]
  },
  {
   "cell_type": "code",
   "execution_count": 9,
   "metadata": {},
   "outputs": [
    {
     "data": {
      "text/plain": [
       "(3240, 40)"
      ]
     },
     "execution_count": 9,
     "metadata": {},
     "output_type": "execute_result"
    }
   ],
   "source": [
    "X.shape"
   ]
  },
  {
   "cell_type": "code",
   "execution_count": 10,
   "metadata": {},
   "outputs": [
    {
     "data": {
      "text/html": [
       "<div>\n",
       "<style scoped>\n",
       "    .dataframe tbody tr th:only-of-type {\n",
       "        vertical-align: middle;\n",
       "    }\n",
       "\n",
       "    .dataframe tbody tr th {\n",
       "        vertical-align: top;\n",
       "    }\n",
       "\n",
       "    .dataframe thead th {\n",
       "        text-align: right;\n",
       "    }\n",
       "</style>\n",
       "<table border=\"1\" class=\"dataframe\">\n",
       "  <thead>\n",
       "    <tr style=\"text-align: right;\">\n",
       "      <th></th>\n",
       "      <th>0</th>\n",
       "      <th>1</th>\n",
       "      <th>2</th>\n",
       "      <th>3</th>\n",
       "      <th>4</th>\n",
       "      <th>5</th>\n",
       "      <th>6</th>\n",
       "      <th>7</th>\n",
       "      <th>8</th>\n",
       "      <th>9</th>\n",
       "      <th>...</th>\n",
       "      <th>30</th>\n",
       "      <th>31</th>\n",
       "      <th>32</th>\n",
       "      <th>33</th>\n",
       "      <th>34</th>\n",
       "      <th>35</th>\n",
       "      <th>36</th>\n",
       "      <th>37</th>\n",
       "      <th>38</th>\n",
       "      <th>39</th>\n",
       "    </tr>\n",
       "  </thead>\n",
       "  <tbody>\n",
       "    <tr>\n",
       "      <th>0</th>\n",
       "      <td>-577.74457</td>\n",
       "      <td>116.68117</td>\n",
       "      <td>82.454210</td>\n",
       "      <td>40.931873</td>\n",
       "      <td>7.485605</td>\n",
       "      <td>-7.887007</td>\n",
       "      <td>-4.491601</td>\n",
       "      <td>10.008358</td>\n",
       "      <td>24.508472</td>\n",
       "      <td>30.438593</td>\n",
       "      <td>...</td>\n",
       "      <td>3.970105</td>\n",
       "      <td>5.994569</td>\n",
       "      <td>5.839570</td>\n",
       "      <td>3.671601</td>\n",
       "      <td>0.848826</td>\n",
       "      <td>-1.004319</td>\n",
       "      <td>-1.004396</td>\n",
       "      <td>0.530715</td>\n",
       "      <td>2.398161</td>\n",
       "      <td>3.331668</td>\n",
       "    </tr>\n",
       "    <tr>\n",
       "      <th>1</th>\n",
       "      <td>-628.81630</td>\n",
       "      <td>136.51126</td>\n",
       "      <td>100.357864</td>\n",
       "      <td>56.209590</td>\n",
       "      <td>19.551243</td>\n",
       "      <td>0.428206</td>\n",
       "      <td>-0.259094</td>\n",
       "      <td>10.158183</td>\n",
       "      <td>21.104572</td>\n",
       "      <td>24.655876</td>\n",
       "      <td>...</td>\n",
       "      <td>2.601242</td>\n",
       "      <td>3.507886</td>\n",
       "      <td>2.841200</td>\n",
       "      <td>1.227278</td>\n",
       "      <td>-0.146953</td>\n",
       "      <td>-0.405241</td>\n",
       "      <td>0.449801</td>\n",
       "      <td>1.629177</td>\n",
       "      <td>2.186590</td>\n",
       "      <td>1.692338</td>\n",
       "    </tr>\n",
       "    <tr>\n",
       "      <th>2</th>\n",
       "      <td>-601.18340</td>\n",
       "      <td>77.22223</td>\n",
       "      <td>61.623146</td>\n",
       "      <td>42.221630</td>\n",
       "      <td>25.632828</td>\n",
       "      <td>16.337782</td>\n",
       "      <td>15.002048</td>\n",
       "      <td>18.738730</td>\n",
       "      <td>23.003593</td>\n",
       "      <td>24.039800</td>\n",
       "      <td>...</td>\n",
       "      <td>2.034146</td>\n",
       "      <td>2.748103</td>\n",
       "      <td>2.922751</td>\n",
       "      <td>2.290715</td>\n",
       "      <td>1.166961</td>\n",
       "      <td>0.225971</td>\n",
       "      <td>0.042497</td>\n",
       "      <td>0.699116</td>\n",
       "      <td>1.713670</td>\n",
       "      <td>2.332496</td>\n",
       "    </tr>\n",
       "    <tr>\n",
       "      <th>3</th>\n",
       "      <td>-562.58900</td>\n",
       "      <td>88.77356</td>\n",
       "      <td>71.557740</td>\n",
       "      <td>49.522438</td>\n",
       "      <td>29.541950</td>\n",
       "      <td>16.664858</td>\n",
       "      <td>12.350879</td>\n",
       "      <td>14.427670</td>\n",
       "      <td>18.631382</td>\n",
       "      <td>20.879950</td>\n",
       "      <td>...</td>\n",
       "      <td>0.486486</td>\n",
       "      <td>0.984788</td>\n",
       "      <td>1.662023</td>\n",
       "      <td>2.113323</td>\n",
       "      <td>2.125078</td>\n",
       "      <td>1.752352</td>\n",
       "      <td>1.235468</td>\n",
       "      <td>0.835051</td>\n",
       "      <td>0.692907</td>\n",
       "      <td>0.788556</td>\n",
       "    </tr>\n",
       "    <tr>\n",
       "      <th>4</th>\n",
       "      <td>-489.47345</td>\n",
       "      <td>65.72582</td>\n",
       "      <td>57.030285</td>\n",
       "      <td>45.383488</td>\n",
       "      <td>33.820340</td>\n",
       "      <td>24.795256</td>\n",
       "      <td>19.436210</td>\n",
       "      <td>17.373821</td>\n",
       "      <td>17.174334</td>\n",
       "      <td>17.152473</td>\n",
       "      <td>...</td>\n",
       "      <td>2.368080</td>\n",
       "      <td>2.122123</td>\n",
       "      <td>2.094586</td>\n",
       "      <td>2.164926</td>\n",
       "      <td>2.183312</td>\n",
       "      <td>2.057845</td>\n",
       "      <td>1.794090</td>\n",
       "      <td>1.474256</td>\n",
       "      <td>1.199110</td>\n",
       "      <td>1.032410</td>\n",
       "    </tr>\n",
       "  </tbody>\n",
       "</table>\n",
       "<p>5 rows × 40 columns</p>\n",
       "</div>"
      ],
      "text/plain": [
       "           0          1           2          3          4          5  \\\n",
       "0 -577.74457  116.68117   82.454210  40.931873   7.485605  -7.887007   \n",
       "1 -628.81630  136.51126  100.357864  56.209590  19.551243   0.428206   \n",
       "2 -601.18340   77.22223   61.623146  42.221630  25.632828  16.337782   \n",
       "3 -562.58900   88.77356   71.557740  49.522438  29.541950  16.664858   \n",
       "4 -489.47345   65.72582   57.030285  45.383488  33.820340  24.795256   \n",
       "\n",
       "           6          7          8          9  ...        30        31  \\\n",
       "0  -4.491601  10.008358  24.508472  30.438593  ...  3.970105  5.994569   \n",
       "1  -0.259094  10.158183  21.104572  24.655876  ...  2.601242  3.507886   \n",
       "2  15.002048  18.738730  23.003593  24.039800  ...  2.034146  2.748103   \n",
       "3  12.350879  14.427670  18.631382  20.879950  ...  0.486486  0.984788   \n",
       "4  19.436210  17.373821  17.174334  17.152473  ...  2.368080  2.122123   \n",
       "\n",
       "         32        33        34        35        36        37        38  \\\n",
       "0  5.839570  3.671601  0.848826 -1.004319 -1.004396  0.530715  2.398161   \n",
       "1  2.841200  1.227278 -0.146953 -0.405241  0.449801  1.629177  2.186590   \n",
       "2  2.922751  2.290715  1.166961  0.225971  0.042497  0.699116  1.713670   \n",
       "3  1.662023  2.113323  2.125078  1.752352  1.235468  0.835051  0.692907   \n",
       "4  2.094586  2.164926  2.183312  2.057845  1.794090  1.474256  1.199110   \n",
       "\n",
       "         39  \n",
       "0  3.331668  \n",
       "1  1.692338  \n",
       "2  2.332496  \n",
       "3  0.788556  \n",
       "4  1.032410  \n",
       "\n",
       "[5 rows x 40 columns]"
      ]
     },
     "execution_count": 10,
     "metadata": {},
     "output_type": "execute_result"
    }
   ],
   "source": [
    "X.head()"
   ]
  },
  {
   "cell_type": "code",
   "execution_count": 11,
   "metadata": {},
   "outputs": [],
   "source": [
    "y = df[[\"labels\"]]"
   ]
  },
  {
   "cell_type": "code",
   "execution_count": 12,
   "metadata": {},
   "outputs": [
    {
     "data": {
      "text/plain": [
       "(3240, 1)"
      ]
     },
     "execution_count": 12,
     "metadata": {},
     "output_type": "execute_result"
    }
   ],
   "source": [
    "y.shape"
   ]
  },
  {
   "cell_type": "markdown",
   "metadata": {},
   "source": [
    "# Without balancing the dataset"
   ]
  },
  {
   "cell_type": "code",
   "execution_count": 13,
   "metadata": {},
   "outputs": [],
   "source": [
    "from sklearn.model_selection import train_test_split\n",
    "A_train,A_test,b_train,b_test=train_test_split(X,y,test_size=0.2,random_state=0)"
   ]
  },
  {
   "cell_type": "markdown",
   "metadata": {},
   "source": [
    "# Linear SVC without hyperparameter tuning"
   ]
  },
  {
   "cell_type": "code",
   "execution_count": 14,
   "metadata": {},
   "outputs": [
    {
     "name": "stderr",
     "output_type": "stream",
     "text": [
      "C:\\Users\\heera\\anaconda3\\lib\\site-packages\\sklearn\\utils\\validation.py:985: DataConversionWarning: A column-vector y was passed when a 1d array was expected. Please change the shape of y to (n_samples, ), for example using ravel().\n",
      "  y = column_or_1d(y, warn=True)\n"
     ]
    },
    {
     "name": "stdout",
     "output_type": "stream",
     "text": [
      "SVM\n",
      "---------------------\n",
      "              precision    recall  f1-score   support\n",
      "\n",
      "           0       0.81      1.00      0.90       526\n",
      "           1       0.00      0.00      0.00       122\n",
      "\n",
      "    accuracy                           0.81       648\n",
      "   macro avg       0.41      0.50      0.45       648\n",
      "weighted avg       0.66      0.81      0.73       648\n",
      "\n",
      "\n"
     ]
    },
    {
     "name": "stderr",
     "output_type": "stream",
     "text": [
      "C:\\Users\\heera\\anaconda3\\lib\\site-packages\\sklearn\\metrics\\_classification.py:1308: UndefinedMetricWarning: Precision and F-score are ill-defined and being set to 0.0 in labels with no predicted samples. Use `zero_division` parameter to control this behavior.\n",
      "  _warn_prf(average, modifier, msg_start, len(result))\n",
      "C:\\Users\\heera\\anaconda3\\lib\\site-packages\\sklearn\\metrics\\_classification.py:1308: UndefinedMetricWarning: Precision and F-score are ill-defined and being set to 0.0 in labels with no predicted samples. Use `zero_division` parameter to control this behavior.\n",
      "  _warn_prf(average, modifier, msg_start, len(result))\n",
      "C:\\Users\\heera\\anaconda3\\lib\\site-packages\\sklearn\\metrics\\_classification.py:1308: UndefinedMetricWarning: Precision and F-score are ill-defined and being set to 0.0 in labels with no predicted samples. Use `zero_division` parameter to control this behavior.\n",
      "  _warn_prf(average, modifier, msg_start, len(result))\n"
     ]
    }
   ],
   "source": [
    "# from sklearn import svm\n",
    "from sklearn.svm import SVC  \n",
    "from sklearn.metrics import classification_report\n",
    "model = SVC(kernel='rbf', random_state=0)   # SVC Model\n",
    "model.fit(A_train, b_train) \n",
    "b_pred = model.predict(A_test)\n",
    "print('SVM')\n",
    "print('---------------------')\n",
    "print(classification_report(b_test, b_pred))\n",
    "print('')\n"
   ]
  },
  {
   "cell_type": "markdown",
   "metadata": {},
   "source": [
    "# We can see that as data is imbalanced it gives biased results"
   ]
  },
  {
   "cell_type": "markdown",
   "metadata": {},
   "source": [
    "# Using SMOTE Algorithm to balance data"
   ]
  },
  {
   "cell_type": "code",
   "execution_count": 15,
   "metadata": {},
   "outputs": [],
   "source": [
    "from imblearn.over_sampling import SMOTE\n",
    "sm = SMOTE(random_state=40)\n",
    "X_sm, y_sm = sm.fit_resample(X, y)"
   ]
  },
  {
   "cell_type": "code",
   "execution_count": 16,
   "metadata": {},
   "outputs": [
    {
     "data": {
      "text/plain": [
       "(5150, 40)"
      ]
     },
     "execution_count": 16,
     "metadata": {},
     "output_type": "execute_result"
    }
   ],
   "source": [
    "X_sm.shape"
   ]
  },
  {
   "cell_type": "code",
   "execution_count": 17,
   "metadata": {},
   "outputs": [
    {
     "data": {
      "text/plain": [
       "(5150, 1)"
      ]
     },
     "execution_count": 17,
     "metadata": {},
     "output_type": "execute_result"
    }
   ],
   "source": [
    "y_sm.shape"
   ]
  },
  {
   "cell_type": "code",
   "execution_count": 18,
   "metadata": {},
   "outputs": [],
   "source": [
    "### Train Test Split\n",
    "from sklearn.model_selection import train_test_split\n",
    "X_train,X_test,y_train,y_test=train_test_split(X_sm,y_sm,test_size=0.2,random_state=0)\n"
   ]
  },
  {
   "cell_type": "markdown",
   "metadata": {},
   "source": [
    "# Linear SVC without hyperparameter tuning"
   ]
  },
  {
   "cell_type": "code",
   "execution_count": 19,
   "metadata": {},
   "outputs": [
    {
     "name": "stderr",
     "output_type": "stream",
     "text": [
      "C:\\Users\\heera\\anaconda3\\lib\\site-packages\\sklearn\\utils\\validation.py:985: DataConversionWarning: A column-vector y was passed when a 1d array was expected. Please change the shape of y to (n_samples, ), for example using ravel().\n",
      "  y = column_or_1d(y, warn=True)\n"
     ]
    },
    {
     "name": "stdout",
     "output_type": "stream",
     "text": [
      "SVM\n",
      "---------------------\n",
      "              precision    recall  f1-score   support\n",
      "\n",
      "           0       0.81      0.68      0.74       526\n",
      "           1       0.71      0.83      0.77       504\n",
      "\n",
      "    accuracy                           0.75      1030\n",
      "   macro avg       0.76      0.75      0.75      1030\n",
      "weighted avg       0.76      0.75      0.75      1030\n",
      "\n",
      "\n"
     ]
    }
   ],
   "source": [
    "from sklearn import svm\n",
    "from sklearn.svm import SVC  \n",
    "model = SVC(kernel='rbf', random_state=0)   # SVC Model\n",
    "model.fit(X_train, y_train) \n",
    "y_pred = model.predict(X_test)\n",
    "print('SVM')\n",
    "print('---------------------')\n",
    "print(classification_report(y_test, y_pred))\n",
    "print('')\n"
   ]
  },
  {
   "cell_type": "markdown",
   "metadata": {},
   "source": [
    "# SVM with Hyperparameter tuning"
   ]
  },
  {
   "cell_type": "code",
   "execution_count": 20,
   "metadata": {},
   "outputs": [
    {
     "name": "stdout",
     "output_type": "stream",
     "text": [
      "Fitting 10 folds for each of 35 candidates, totalling 350 fits\n"
     ]
    },
    {
     "name": "stderr",
     "output_type": "stream",
     "text": [
      "C:\\Users\\heera\\anaconda3\\lib\\site-packages\\sklearn\\model_selection\\_validation.py:372: FitFailedWarning: \n",
      "50 fits failed out of a total of 350.\n",
      "The score on these train-test partitions for these parameters will be set to nan.\n",
      "If these failures are not expected, you can try to debug them by setting error_score='raise'.\n",
      "\n",
      "Below are more details about the failures:\n",
      "--------------------------------------------------------------------------------\n",
      "50 fits failed with the following error:\n",
      "Traceback (most recent call last):\n",
      "  File \"C:\\Users\\heera\\anaconda3\\lib\\site-packages\\sklearn\\model_selection\\_validation.py\", line 681, in _fit_and_score\n",
      "    estimator.fit(X_train, y_train, **fit_params)\n",
      "  File \"C:\\Users\\heera\\anaconda3\\lib\\site-packages\\sklearn\\svm\\_base.py\", line 255, in fit\n",
      "    fit(X, y, sample_weight, solver_type, kernel, random_seed=seed)\n",
      "  File \"C:\\Users\\heera\\anaconda3\\lib\\site-packages\\sklearn\\svm\\_base.py\", line 315, in _dense_fit\n",
      "    ) = libsvm.fit(\n",
      "  File \"sklearn\\svm\\_libsvm.pyx\", line 192, in sklearn.svm._libsvm.fit\n",
      "ValueError: C <= 0\n",
      "\n",
      "  warnings.warn(some_fits_failed_message, FitFailedWarning)\n",
      "C:\\Users\\heera\\anaconda3\\lib\\site-packages\\sklearn\\model_selection\\_search.py:969: UserWarning: One or more of the test scores are non-finite: [       nan        nan        nan        nan        nan 0.5026699\n",
      " 0.5026699  0.5026699  0.7288835  0.69150485 0.5026699  0.5026699\n",
      " 0.84684466 0.84757282 0.7868932  0.63956311 0.83665049 0.95242718\n",
      " 0.90072816 0.86043689 0.67742718 0.86237864 0.95339806 0.90461165\n",
      " 0.86334951 0.69296117 0.87281553 0.95461165 0.90703883 0.86796117\n",
      " 0.69296117 0.87281553 0.95703883 0.93398058 0.87985437]\n",
      "  warnings.warn(\n",
      "C:\\Users\\heera\\anaconda3\\lib\\site-packages\\sklearn\\utils\\validation.py:985: DataConversionWarning: A column-vector y was passed when a 1d array was expected. Please change the shape of y to (n_samples, ), for example using ravel().\n",
      "  y = column_or_1d(y, warn=True)\n"
     ]
    },
    {
     "name": "stdout",
     "output_type": "stream",
     "text": [
      "{'C': 10, 'gamma': 0.01, 'kernel': 'rbf'}\n",
      "SVC(C=10, gamma=0.01, random_state=0)\n",
      "              precision    recall  f1-score   support\n",
      "\n",
      "           0       0.97      0.94      0.96       526\n",
      "           1       0.94      0.97      0.96       504\n",
      "\n",
      "    accuracy                           0.96      1030\n",
      "   macro avg       0.96      0.96      0.96      1030\n",
      "weighted avg       0.96      0.96      0.96      1030\n",
      "\n"
     ]
    }
   ],
   "source": [
    "from sklearn.model_selection import GridSearchCV\n",
    "  \n",
    "# defining parameter range\n",
    "param_grid = {'C': [0,0.01,0.1,0.8,1,1.2,10], \n",
    "              'gamma': [1, 0.1, 0.01, 0.001, 0.0001],\n",
    "              'kernel':['rbf'] } \n",
    "  \n",
    "grid = GridSearchCV(svm.SVC(random_state=0), param_grid,verbose=1,n_jobs=-1,cv=10)\n",
    "  \n",
    "# fitting the model for grid search\n",
    "grid.fit(X_train, y_train)\n",
    "print(grid.best_params_)\n",
    "print(grid.best_estimator_)\n",
    "grid_predictions = grid.predict(X_test)\n",
    "  \n",
    "# print classification report\n",
    "print(classification_report(y_test, grid_predictions))"
   ]
  },
  {
   "cell_type": "code",
   "execution_count": 21,
   "metadata": {},
   "outputs": [
    {
     "name": "stdout",
     "output_type": "stream",
     "text": [
      "[[497  29]\n",
      " [ 16 488]]\n"
     ]
    }
   ],
   "source": [
    "from sklearn import metrics\n",
    "print(metrics.confusion_matrix(y_test, grid_predictions))"
   ]
  },
  {
   "cell_type": "code",
   "execution_count": 22,
   "metadata": {},
   "outputs": [],
   "source": [
    "# Confusion matrix for test  data"
   ]
  },
  {
   "cell_type": "code",
   "execution_count": 23,
   "metadata": {},
   "outputs": [
    {
     "name": "stderr",
     "output_type": "stream",
     "text": [
      "C:\\Users\\heera\\anaconda3\\lib\\site-packages\\sklearn\\utils\\deprecation.py:87: FutureWarning: Function plot_confusion_matrix is deprecated; Function `plot_confusion_matrix` is deprecated in 1.0 and will be removed in 1.2. Use one of the class methods: ConfusionMatrixDisplay.from_predictions or ConfusionMatrixDisplay.from_estimator.\n",
      "  warnings.warn(msg, category=FutureWarning)\n"
     ]
    },
    {
     "data": {
      "image/png": "[encoded data removed]",
      "text/plain": [
       "<Figure size 432x288 with 2 Axes>"
      ]
     },
     "metadata": {
      "needs_background": "light"
     },
     "output_type": "display_data"
    }
   ],
   "source": [
    "from sklearn.metrics import plot_confusion_matrix\n",
    "plot_confusion_matrix(grid,X_test, y_test)  \n",
    "plt.show()"
   ]
  },
  {
   "cell_type": "code",
   "execution_count": 25,
   "metadata": {},
   "outputs": [],
   "source": [
    "df_val = pd.read_csv('C:/Users/heera/Desktop/Dissertation/Data Physionet/validation/merged_val.csv')\n"
   ]
  },
  {
   "cell_type": "code",
   "execution_count": 26,
   "metadata": {},
   "outputs": [
    {
     "data": {
      "text/html": [
       "<div>\n",
       "<style scoped>\n",
       "    .dataframe tbody tr th:only-of-type {\n",
       "        vertical-align: middle;\n",
       "    }\n",
       "\n",
       "    .dataframe tbody tr th {\n",
       "        vertical-align: top;\n",
       "    }\n",
       "\n",
       "    .dataframe thead th {\n",
       "        text-align: right;\n",
       "    }\n",
       "</style>\n",
       "<table border=\"1\" class=\"dataframe\">\n",
       "  <thead>\n",
       "    <tr style=\"text-align: right;\">\n",
       "      <th></th>\n",
       "      <th>0</th>\n",
       "      <th>1</th>\n",
       "      <th>2</th>\n",
       "      <th>3</th>\n",
       "      <th>4</th>\n",
       "      <th>5</th>\n",
       "      <th>6</th>\n",
       "      <th>7</th>\n",
       "      <th>8</th>\n",
       "      <th>9</th>\n",
       "      <th>...</th>\n",
       "      <th>31</th>\n",
       "      <th>32</th>\n",
       "      <th>33</th>\n",
       "      <th>34</th>\n",
       "      <th>35</th>\n",
       "      <th>36</th>\n",
       "      <th>37</th>\n",
       "      <th>38</th>\n",
       "      <th>39</th>\n",
       "      <th>0.1</th>\n",
       "    </tr>\n",
       "  </thead>\n",
       "  <tbody>\n",
       "    <tr>\n",
       "      <th>0</th>\n",
       "      <td>-577.74457</td>\n",
       "      <td>116.68117</td>\n",
       "      <td>82.454210</td>\n",
       "      <td>40.931873</td>\n",
       "      <td>7.485605</td>\n",
       "      <td>-7.887007</td>\n",
       "      <td>-4.491601</td>\n",
       "      <td>10.008358</td>\n",
       "      <td>24.508472</td>\n",
       "      <td>30.438593</td>\n",
       "      <td>...</td>\n",
       "      <td>5.994569</td>\n",
       "      <td>5.839570</td>\n",
       "      <td>3.671601</td>\n",
       "      <td>0.848826</td>\n",
       "      <td>-1.004319</td>\n",
       "      <td>-1.004396</td>\n",
       "      <td>0.530715</td>\n",
       "      <td>2.398161</td>\n",
       "      <td>3.331668</td>\n",
       "      <td>1</td>\n",
       "    </tr>\n",
       "    <tr>\n",
       "      <th>1</th>\n",
       "      <td>-628.81630</td>\n",
       "      <td>136.51126</td>\n",
       "      <td>100.357864</td>\n",
       "      <td>56.209590</td>\n",
       "      <td>19.551243</td>\n",
       "      <td>0.428206</td>\n",
       "      <td>-0.259094</td>\n",
       "      <td>10.158183</td>\n",
       "      <td>21.104572</td>\n",
       "      <td>24.655876</td>\n",
       "      <td>...</td>\n",
       "      <td>3.507886</td>\n",
       "      <td>2.841200</td>\n",
       "      <td>1.227278</td>\n",
       "      <td>-0.146953</td>\n",
       "      <td>-0.405241</td>\n",
       "      <td>0.449801</td>\n",
       "      <td>1.629177</td>\n",
       "      <td>2.186590</td>\n",
       "      <td>1.692338</td>\n",
       "      <td>1</td>\n",
       "    </tr>\n",
       "    <tr>\n",
       "      <th>2</th>\n",
       "      <td>-601.18340</td>\n",
       "      <td>77.22223</td>\n",
       "      <td>61.623146</td>\n",
       "      <td>42.221630</td>\n",
       "      <td>25.632828</td>\n",
       "      <td>16.337782</td>\n",
       "      <td>15.002048</td>\n",
       "      <td>18.738730</td>\n",
       "      <td>23.003593</td>\n",
       "      <td>24.039800</td>\n",
       "      <td>...</td>\n",
       "      <td>2.748103</td>\n",
       "      <td>2.922751</td>\n",
       "      <td>2.290715</td>\n",
       "      <td>1.166961</td>\n",
       "      <td>0.225971</td>\n",
       "      <td>0.042497</td>\n",
       "      <td>0.699116</td>\n",
       "      <td>1.713670</td>\n",
       "      <td>2.332496</td>\n",
       "      <td>1</td>\n",
       "    </tr>\n",
       "    <tr>\n",
       "      <th>3</th>\n",
       "      <td>-562.58900</td>\n",
       "      <td>88.77356</td>\n",
       "      <td>71.557740</td>\n",
       "      <td>49.522438</td>\n",
       "      <td>29.541950</td>\n",
       "      <td>16.664858</td>\n",
       "      <td>12.350879</td>\n",
       "      <td>14.427670</td>\n",
       "      <td>18.631382</td>\n",
       "      <td>20.879950</td>\n",
       "      <td>...</td>\n",
       "      <td>0.984788</td>\n",
       "      <td>1.662023</td>\n",
       "      <td>2.113323</td>\n",
       "      <td>2.125078</td>\n",
       "      <td>1.752352</td>\n",
       "      <td>1.235468</td>\n",
       "      <td>0.835051</td>\n",
       "      <td>0.692907</td>\n",
       "      <td>0.788556</td>\n",
       "      <td>1</td>\n",
       "    </tr>\n",
       "    <tr>\n",
       "      <th>4</th>\n",
       "      <td>-489.47345</td>\n",
       "      <td>65.72582</td>\n",
       "      <td>57.030285</td>\n",
       "      <td>45.383488</td>\n",
       "      <td>33.820340</td>\n",
       "      <td>24.795256</td>\n",
       "      <td>19.436210</td>\n",
       "      <td>17.373821</td>\n",
       "      <td>17.174334</td>\n",
       "      <td>17.152473</td>\n",
       "      <td>...</td>\n",
       "      <td>2.122123</td>\n",
       "      <td>2.094586</td>\n",
       "      <td>2.164926</td>\n",
       "      <td>2.183312</td>\n",
       "      <td>2.057845</td>\n",
       "      <td>1.794090</td>\n",
       "      <td>1.474256</td>\n",
       "      <td>1.199110</td>\n",
       "      <td>1.032410</td>\n",
       "      <td>1</td>\n",
       "    </tr>\n",
       "  </tbody>\n",
       "</table>\n",
       "<p>5 rows × 41 columns</p>\n",
       "</div>"
      ],
      "text/plain": [
       "           0          1           2          3          4          5  \\\n",
       "0 -577.74457  116.68117   82.454210  40.931873   7.485605  -7.887007   \n",
       "1 -628.81630  136.51126  100.357864  56.209590  19.551243   0.428206   \n",
       "2 -601.18340   77.22223   61.623146  42.221630  25.632828  16.337782   \n",
       "3 -562.58900   88.77356   71.557740  49.522438  29.541950  16.664858   \n",
       "4 -489.47345   65.72582   57.030285  45.383488  33.820340  24.795256   \n",
       "\n",
       "           6          7          8          9  ...        31        32  \\\n",
       "0  -4.491601  10.008358  24.508472  30.438593  ...  5.994569  5.839570   \n",
       "1  -0.259094  10.158183  21.104572  24.655876  ...  3.507886  2.841200   \n",
       "2  15.002048  18.738730  23.003593  24.039800  ...  2.748103  2.922751   \n",
       "3  12.350879  14.427670  18.631382  20.879950  ...  0.984788  1.662023   \n",
       "4  19.436210  17.373821  17.174334  17.152473  ...  2.122123  2.094586   \n",
       "\n",
       "         33        34        35        36        37        38        39  0.1  \n",
       "0  3.671601  0.848826 -1.004319 -1.004396  0.530715  2.398161  3.331668    1  \n",
       "1  1.227278 -0.146953 -0.405241  0.449801  1.629177  2.186590  1.692338    1  \n",
       "2  2.290715  1.166961  0.225971  0.042497  0.699116  1.713670  2.332496    1  \n",
       "3  2.113323  2.125078  1.752352  1.235468  0.835051  0.692907  0.788556    1  \n",
       "4  2.164926  2.183312  2.057845  1.794090  1.474256  1.199110  1.032410    1  \n",
       "\n",
       "[5 rows x 41 columns]"
      ]
     },
     "execution_count": 26,
     "metadata": {},
     "output_type": "execute_result"
    }
   ],
   "source": [
    "df_val.head() "
   ]
  },
  {
   "cell_type": "code",
   "execution_count": 27,
   "metadata": {},
   "outputs": [],
   "source": [
    "df_val= df_val.rename(columns={\"0.1\": \"labels\"})"
   ]
  },
  {
   "cell_type": "code",
   "execution_count": 28,
   "metadata": {},
   "outputs": [
    {
     "data": {
      "text/plain": [
       "1    151\n",
       "0    150\n",
       "Name: labels, dtype: int64"
      ]
     },
     "execution_count": 28,
     "metadata": {},
     "output_type": "execute_result"
    }
   ],
   "source": [
    "df_val[\"labels\"].value_counts()"
   ]
  },
  {
   "cell_type": "code",
   "execution_count": 29,
   "metadata": {},
   "outputs": [],
   "source": [
    "Xv = df_val.iloc[:,0:40]\n",
    "# y = df[\"class\"]"
   ]
  },
  {
   "cell_type": "code",
   "execution_count": 30,
   "metadata": {},
   "outputs": [],
   "source": [
    "yv= df_val[[\"labels\"]]"
   ]
  },
  {
   "cell_type": "code",
   "execution_count": 31,
   "metadata": {},
   "outputs": [
    {
     "data": {
      "text/plain": [
       "(301, 1)"
      ]
     },
     "execution_count": 31,
     "metadata": {},
     "output_type": "execute_result"
    }
   ],
   "source": [
    "yv.shape"
   ]
  },
  {
   "cell_type": "code",
   "execution_count": 32,
   "metadata": {},
   "outputs": [
    {
     "data": {
      "text/plain": [
       "(3240, 40)"
      ]
     },
     "execution_count": 32,
     "metadata": {},
     "output_type": "execute_result"
    }
   ],
   "source": [
    "X.shape"
   ]
  },
  {
   "cell_type": "code",
   "execution_count": 33,
   "metadata": {},
   "outputs": [],
   "source": [
    "from sklearn.model_selection import train_test_split\n",
    "X_train = X\n",
    "y_train =y\n",
    "l_test =Xv\n",
    "m_test =yv"
   ]
  },
  {
   "cell_type": "code",
   "execution_count": 34,
   "metadata": {},
   "outputs": [
    {
     "name": "stderr",
     "output_type": "stream",
     "text": [
      "C:\\Users\\heera\\anaconda3\\lib\\site-packages\\sklearn\\base.py:445: UserWarning: X does not have valid feature names, but SVC was fitted with feature names\n",
      "  warnings.warn(\n"
     ]
    },
    {
     "data": {
      "text/plain": [
       "0.9867109634551495"
      ]
     },
     "execution_count": 34,
     "metadata": {},
     "output_type": "execute_result"
    }
   ],
   "source": [
    "# Validation Accuracy\n",
    "grid.score(l_test.values, m_test.values)"
   ]
  },
  {
   "cell_type": "code",
   "execution_count": 35,
   "metadata": {},
   "outputs": [
    {
     "name": "stderr",
     "output_type": "stream",
     "text": [
      "C:\\Users\\heera\\anaconda3\\lib\\site-packages\\sklearn\\base.py:445: UserWarning: X does not have valid feature names, but SVC was fitted with feature names\n",
      "  warnings.warn(\n"
     ]
    },
    {
     "data": {
      "text/plain": [
       "0.9563106796116505"
      ]
     },
     "execution_count": 35,
     "metadata": {},
     "output_type": "execute_result"
    }
   ],
   "source": [
    "#Test Accuracy\n",
    "grid.score(X_test.values, y_test.values)"
   ]
  },
  {
   "cell_type": "code",
   "execution_count": 36,
   "metadata": {},
   "outputs": [],
   "source": [
    "# Confusin matrix for validation data\n"
   ]
  },
  {
   "cell_type": "code",
   "execution_count": 37,
   "metadata": {
    "scrolled": true
   },
   "outputs": [
    {
     "name": "stderr",
     "output_type": "stream",
     "text": [
      "C:\\Users\\heera\\anaconda3\\lib\\site-packages\\sklearn\\utils\\deprecation.py:87: FutureWarning: Function plot_confusion_matrix is deprecated; Function `plot_confusion_matrix` is deprecated in 1.0 and will be removed in 1.2. Use one of the class methods: ConfusionMatrixDisplay.from_predictions or ConfusionMatrixDisplay.from_estimator.\n",
      "  warnings.warn(msg, category=FutureWarning)\n"
     ]
    },
    {
     "data": {
      "image/png": "[encoded data removed]",
      "text/plain": [
       "<Figure size 432x288 with 2 Axes>"
      ]
     },
     "metadata": {
      "needs_background": "light"
     },
     "output_type": "display_data"
    }
   ],
   "source": [
    "plot_confusion_matrix(grid,l_test, m_test)  \n",
    "plt.show()"
   ]
  },
  {
   "cell_type": "markdown",
   "metadata": {},
   "source": [
    "# 5 Fold cross validation"
   ]
  },
  {
   "cell_type": "code",
   "execution_count": 38,
   "metadata": {},
   "outputs": [],
   "source": [
    "import pandas\n",
    "from sklearn.model_selection import KFold\n",
    "from sklearn.preprocessing import MinMaxScaler\n",
    "from sklearn.svm import SVR\n",
    "import numpy as np"
   ]
  },
  {
   "cell_type": "code",
   "execution_count": 39,
   "metadata": {},
   "outputs": [],
   "source": [
    "dataset = pd.concat([df, df_val])"
   ]
  },
  {
   "cell_type": "code",
   "execution_count": 40,
   "metadata": {},
   "outputs": [
    {
     "data": {
      "text/plain": [
       "0           1           2           3          4          5           6           7          8          9          10         11         12          13          14         15         16         17         18         19         20         21         22         23         24        25        26         27         28         29         30         31         32         33        34         35         36         37         38         39         labels\n",
       "-769.55676  138.452220  107.299640  67.536960  31.606808   8.432062    0.287191   3.003927   9.060970   11.771116  8.391644   0.722520   -6.784737   -10.058901  -7.784902  -1.906820  3.795021   6.042208   3.893194   -0.921731  -5.213430  -6.262261  -3.316064   2.128430  7.297077  9.709415   8.436174   4.403301  -0.300409  -3.612047  -4.487105  -3.212341  -0.990804  0.856485   1.584437   1.270859   0.576312   0.239978   0.627463   1.557677  1         2\n",
       "-555.07166  108.996550  76.340800   37.841454  8.742563   -1.908288    5.051618   20.603024  33.270374  35.416650  26.637316  12.732757   1.402862   -2.446099    0.971424   7.367223  11.674855  11.268613  7.139828    2.597324   0.680564   2.141463   5.241895   7.269388  6.548086  3.524748   0.278221  -1.064111   0.185726   2.904328   5.068111   5.216750   3.411816  1.059878  -0.196248   0.324878   1.911019   3.055449   2.611702   0.656384  1         2\n",
       "-550.94135  90.938370   70.272415   44.134968  20.987045   6.907995    3.471746   7.781673   14.473883  18.579216  17.750093  12.837497   6.785624    2.663249    1.981330   4.142600  7.133051   8.874148   8.391196    6.174859   3.647055   2.174602   2.274854   3.443678  4.612290  4.876625   4.026786   2.583049   1.383216   1.030529   1.553538   2.457829   3.089240  3.048069   2.397006   1.562653   1.027888   1.029664   1.446995   1.920872  1         2\n",
       "-440.62128  40.084286   38.439472   36.020023  33.122010   29.974860   26.758718  23.635742  20.733704  18.114704  15.782214  13.718232   11.906420   10.330379   8.971573   7.817870  6.867379   6.118819   5.560577    5.169246   4.912479   4.750030   4.637518   4.536860  4.426288  4.301614   4.170505   4.046180   3.941748   3.863921   3.809046   3.765178   3.718008  3.655371   3.569074   3.456238   3.320098   3.168409   3.010096   2.852927  1         2\n",
       "-475.97495  90.567116   71.885900   48.431860  26.807077   12.444874   7.346555   9.804691   15.686553  20.455150  21.261478  17.782532   11.865628   6.195775    2.878476   2.527252  4.255755   6.435188   7.647373    7.356287   5.963440   4.388149   3.433218   3.359484  3.853574  4.333530   4.357231   3.866993   3.173082   2.694011   2.673078   3.036239   3.468886  3.634304   3.389720   2.866369   2.368352   2.174886   2.364427   2.778181  1         2\n",
       "                                                                                                                                                                                                                                                                                                                                                                                                                                                                     ..\n",
       "-435.85760  61.230003   54.884357   46.370407  37.801483   30.777560   25.935572  22.943619  20.854880  18.657679  15.786161  12.345575   8.953619    6.331352    4.903178   4.607414  4.970922   5.373536   5.354525    4.803334   3.947251   3.170412   2.786992   2.890941  3.339673  3.855894   4.180664   4.193935   3.945492   3.596714   3.321477   3.222815   3.299004  3.463499   3.599923   3.620348   3.498920   3.271781   3.012771   2.799969  0         1\n",
       "-435.96994  120.044040  87.823746   47.896225  14.133237  -3.992914   -4.953242   5.378417   17.682460  24.217700  22.251860  14.364859   5.933103    1.579619    2.692214   7.214856  11.459495  12.569868  10.093326   5.864680   2.523939   1.767068   3.437921   5.900079  7.276931  6.665474   4.566016   2.362813   1.312528   1.752615   3.010560   3.982155   3.916471  2.867046   1.552863   0.791938   0.934938   1.678591   2.343191   2.377364  1         1\n",
       "-435.98110  94.412690   72.053300   44.177710  20.314482   7.069631    5.640433   12.075192  19.903110  23.593275  21.029701  13.890261   6.034224    1.032941    0.281236   2.615472  5.411476   6.321868   4.576371    1.171551  -1.992297  -3.371136  -2.641335  -0.718878  0.955962  1.340629   0.343527  -1.266398  -2.446505  -2.542136  -1.618728  -0.317110   0.607964  0.741652   0.187484  -0.588261  -1.094775  -1.103420  -0.722730  -0.259747  0         1\n",
       "-435.99893  105.765816  83.048410   54.639824  29.799433   15.017647   11.578072  15.795663  21.528740  23.534520  19.878387  12.280504   4.508973   -0.043498   -0.194952   2.692707  5.860115   6.923718   5.172950    1.715137  -1.455840  -2.779396  -2.005978  -0.163499  1.248311  1.246806  -0.087201  -1.787704  -2.714415  -2.294350  -0.826932   0.789555   1.674842  1.504456   0.639141  -0.192606  -0.408405   0.068064   0.815368   1.247438  0         1\n",
       "-452.70453  50.806526   46.225260   39.904053  33.292130   27.612768   23.494703  20.880291  19.213580  17.791035  16.103195  14.023145   11.784713   9.794170    8.387894   7.658630  7.425584   7.345800   7.095399    6.522226   5.696352   4.844677   4.216146   3.953605  4.034934  4.302556   4.553405   4.635752   4.504627   4.216279   3.875808   3.573186   3.342646  3.162041   2.984508   2.778099   2.548357   2.332442   2.172108   2.084830  0         1\n",
       "Length: 3240, dtype: int64"
      ]
     },
     "execution_count": 40,
     "metadata": {},
     "output_type": "execute_result"
    }
   ],
   "source": [
    "dataset.value_counts()"
   ]
  },
  {
   "cell_type": "code",
   "execution_count": 41,
   "metadata": {},
   "outputs": [],
   "source": [
    "Xa = dataset.iloc[:,0:40]\n",
    "# y = df[\"class\"]"
   ]
  },
  {
   "cell_type": "code",
   "execution_count": 42,
   "metadata": {},
   "outputs": [],
   "source": [
    "ya = dataset[[\"labels\"]]"
   ]
  },
  {
   "cell_type": "code",
   "execution_count": 43,
   "metadata": {},
   "outputs": [],
   "source": [
    "from imblearn.over_sampling import SMOTE\n",
    "sm = SMOTE(random_state=40)\n",
    "X_sma, y_sma = sm.fit_resample(Xa, ya)"
   ]
  },
  {
   "cell_type": "code",
   "execution_count": 44,
   "metadata": {},
   "outputs": [],
   "source": [
    "X_traina,X_testa,y_traina,y_testa=train_test_split(X_sma,y_sma,test_size=0.2,random_state=0)\n"
   ]
  },
  {
   "cell_type": "code",
   "execution_count": 47,
   "metadata": {},
   "outputs": [
    {
     "name": "stdout",
     "output_type": "stream",
     "text": [
      "Train Index:  [   1    2    3 ... 3237 3238 3239] \n",
      "\n",
      "Test Index:  [   0   14   17   26   30   32   33   44   45   51   52   63   70   76\n",
      "   93  102  120  134  139  144  149  152  170  173  174  178  179  183\n",
      "  184  192  194  203  211  214  218  229  239  240  251  254  256  257\n",
      "  263  270  279  289  291  298  299  309  314  321  322  325  331  332\n",
      "  346  354  387  411  414  416  433  438  442  449  450  457  463  478\n",
      "  479  485  486  495  501  506  507  527  528  538  554  568  581  599\n",
      "  602  605  610  611  612  655  665  670  679  691  693  705  729  746\n",
      "  756  765  772  785  789  794  803  811  829  839  844  867  871  881\n",
      "  887  927  942  944  945  962  969  978  990  999 1003 1006 1017 1027\n",
      " 1034 1042 1044 1052 1053 1057 1064 1084 1108 1116 1117 1127 1161 1173\n",
      " 1181 1188 1192 1210 1221 1244 1255 1258 1264 1270 1278 1283 1298 1309\n",
      " 1313 1317 1330 1336 1338 1359 1362 1366 1373 1381 1404 1412 1419 1421\n",
      " 1427 1429 1444 1447 1451 1472 1474 1483 1491 1502 1503 1509 1510 1518\n",
      " 1554 1556 1572 1609 1620 1623 1624 1626 1627 1644 1684 1694 1703 1713\n",
      " 1714 1716 1717 1741 1745 1749 1770 1775 1788 1791 1800 1820 1825 1844\n",
      " 1849 1860 1861 1876 1878 1902 1924 1929 1949 1954 1956 1960 1963 1983\n",
      " 1999 2005 2015 2018 2043 2045 2046 2089 2092 2093 2097 2102 2121 2153\n",
      " 2163 2174 2203 2212 2213 2240 2251 2256 2279 2309 2316 2330 2332 2335\n",
      " 2339 2345 2365 2375 2406 2408 2412 2416 2441 2464 2471 2473 2476 2519\n",
      " 2538 2542 2547 2551 2574 2580 2602 2619 2620 2644 2654 2683 2726 2743\n",
      " 2746 2751 2752 2753 2759 2769 2820 2823 2841 2844 2846 2875 2881 2890\n",
      " 2920 2928 2946 2947 2950 2954 2964 2987 3000 3002 3013 3014 3018 3036\n",
      " 3038 3074 3079 3080 3083 3085 3088 3097 3136 3140 3148 3158 3220 3223\n",
      " 3229 3232]\n",
      "Fitting 10 folds for each of 35 candidates, totalling 350 fits\n"
     ]
    },
    {
     "name": "stderr",
     "output_type": "stream",
     "text": [
      "C:\\Users\\heera\\anaconda3\\lib\\site-packages\\sklearn\\model_selection\\_validation.py:372: FitFailedWarning: \n",
      "50 fits failed out of a total of 350.\n",
      "The score on these train-test partitions for these parameters will be set to nan.\n",
      "If these failures are not expected, you can try to debug them by setting error_score='raise'.\n",
      "\n",
      "Below are more details about the failures:\n",
      "--------------------------------------------------------------------------------\n",
      "50 fits failed with the following error:\n",
      "Traceback (most recent call last):\n",
      "  File \"C:\\Users\\heera\\anaconda3\\lib\\site-packages\\sklearn\\model_selection\\_validation.py\", line 681, in _fit_and_score\n",
      "    estimator.fit(X_train, y_train, **fit_params)\n",
      "  File \"C:\\Users\\heera\\anaconda3\\lib\\site-packages\\sklearn\\svm\\_base.py\", line 255, in fit\n",
      "    fit(X, y, sample_weight, solver_type, kernel, random_seed=seed)\n",
      "  File \"C:\\Users\\heera\\anaconda3\\lib\\site-packages\\sklearn\\svm\\_base.py\", line 315, in _dense_fit\n",
      "    ) = libsvm.fit(\n",
      "  File \"sklearn\\svm\\_libsvm.pyx\", line 192, in sklearn.svm._libsvm.fit\n",
      "ValueError: C <= 0\n",
      "\n",
      "  warnings.warn(some_fits_failed_message, FitFailedWarning)\n",
      "C:\\Users\\heera\\anaconda3\\lib\\site-packages\\sklearn\\model_selection\\_search.py:969: UserWarning: One or more of the test scores are non-finite: [       nan        nan        nan        nan        nan 0.79475309\n",
      " 0.79475309 0.79475309 0.79475309 0.79475309 0.79475309 0.79475309\n",
      " 0.7962963  0.79845679 0.79382716 0.79475309 0.79598765 0.83703704\n",
      " 0.86049383 0.80679012 0.79475309 0.79598765 0.83734568 0.85895062\n",
      " 0.81111111 0.79475309 0.7962963  0.8367284  0.85648148 0.82098765\n",
      " 0.79475309 0.79845679 0.83981481 0.85       0.86450617]\n",
      "  warnings.warn(\n",
      "C:\\Users\\heera\\anaconda3\\lib\\site-packages\\sklearn\\utils\\validation.py:985: DataConversionWarning: A column-vector y was passed when a 1d array was expected. Please change the shape of y to (n_samples, ), for example using ravel().\n",
      "  y = column_or_1d(y, warn=True)\n"
     ]
    },
    {
     "ename": "NameError",
     "evalue": "name 'scores' is not defined",
     "output_type": "error",
     "traceback": [
      "\u001b[1;31m---------------------------------------------------------------------------\u001b[0m",
      "\u001b[1;31mNameError\u001b[0m                                 Traceback (most recent call last)",
      "\u001b[1;32m<ipython-input-47-0d0ef5a2d175>\u001b[0m in \u001b[0;36m<module>\u001b[1;34m\u001b[0m\n\u001b[0;32m      4\u001b[0m     \u001b[0mprint\u001b[0m\u001b[1;33m(\u001b[0m\u001b[1;34m\"Test Index: \"\u001b[0m\u001b[1;33m,\u001b[0m \u001b[0mtest_index\u001b[0m\u001b[1;33m)\u001b[0m\u001b[1;33m\u001b[0m\u001b[1;33m\u001b[0m\u001b[0m\n\u001b[0;32m      5\u001b[0m     \u001b[0mgrid\u001b[0m\u001b[1;33m.\u001b[0m\u001b[0mfit\u001b[0m\u001b[1;33m(\u001b[0m\u001b[0mX_train\u001b[0m\u001b[1;33m,\u001b[0m \u001b[0my_train\u001b[0m\u001b[1;33m)\u001b[0m\u001b[1;33m\u001b[0m\u001b[1;33m\u001b[0m\u001b[0m\n\u001b[1;32m----> 6\u001b[1;33m     \u001b[0mscores\u001b[0m\u001b[1;33m.\u001b[0m\u001b[0mappend\u001b[0m\u001b[1;33m(\u001b[0m\u001b[0mgrid\u001b[0m\u001b[1;33m.\u001b[0m\u001b[0mscore\u001b[0m\u001b[1;33m(\u001b[0m\u001b[0mX_test\u001b[0m\u001b[1;33m,\u001b[0m \u001b[0my_test\u001b[0m\u001b[1;33m)\u001b[0m\u001b[1;33m)\u001b[0m\u001b[1;33m\u001b[0m\u001b[1;33m\u001b[0m\u001b[0m\n\u001b[0m",
      "\u001b[1;31mNameError\u001b[0m: name 'scores' is not defined"
     ]
    }
   ],
   "source": [
    "cv = KFold(n_splits=5, random_state=42, shuffle=True)\n",
    "for train_index, test_index in cv.split(X):\n",
    "    print(\"Train Index: \", train_index, \"\\n\")\n",
    "    print(\"Test Index: \", test_index)\n",
    "    grid.fit(X_train, y_train)\n",
    "    scores.append(grid.score(X_test, y_test))"
   ]
  },
  {
   "cell_type": "code",
   "execution_count": 49,
   "metadata": {},
   "outputs": [],
   "source": [
    "from sklearn.model_selection import cross_val_score"
   ]
  },
  {
   "cell_type": "code",
   "execution_count": 51,
   "metadata": {},
   "outputs": [
    {
     "name": "stdout",
     "output_type": "stream",
     "text": [
      "Fitting 10 folds for each of 35 candidates, totalling 350 fits\n"
     ]
    },
    {
     "name": "stderr",
     "output_type": "stream",
     "text": [
      "C:\\Users\\heera\\anaconda3\\lib\\site-packages\\sklearn\\model_selection\\_validation.py:372: FitFailedWarning: \n",
      "50 fits failed out of a total of 350.\n",
      "The score on these train-test partitions for these parameters will be set to nan.\n",
      "If these failures are not expected, you can try to debug them by setting error_score='raise'.\n",
      "\n",
      "Below are more details about the failures:\n",
      "--------------------------------------------------------------------------------\n",
      "50 fits failed with the following error:\n",
      "Traceback (most recent call last):\n",
      "  File \"C:\\Users\\heera\\anaconda3\\lib\\site-packages\\sklearn\\model_selection\\_validation.py\", line 681, in _fit_and_score\n",
      "    estimator.fit(X_train, y_train, **fit_params)\n",
      "  File \"C:\\Users\\heera\\anaconda3\\lib\\site-packages\\sklearn\\svm\\_base.py\", line 255, in fit\n",
      "    fit(X, y, sample_weight, solver_type, kernel, random_seed=seed)\n",
      "  File \"C:\\Users\\heera\\anaconda3\\lib\\site-packages\\sklearn\\svm\\_base.py\", line 315, in _dense_fit\n",
      "    ) = libsvm.fit(\n",
      "  File \"sklearn\\svm\\_libsvm.pyx\", line 192, in sklearn.svm._libsvm.fit\n",
      "ValueError: C <= 0\n",
      "\n",
      "  warnings.warn(some_fits_failed_message, FitFailedWarning)\n",
      "C:\\Users\\heera\\anaconda3\\lib\\site-packages\\sklearn\\model_selection\\_search.py:969: UserWarning: One or more of the test scores are non-finite: [       nan        nan        nan        nan        nan 0.55802752\n",
      " 0.54518349 0.6146789  0.78211009 0.74357798 0.55802752 0.54678899\n",
      " 0.90389908 0.91651376 0.84862385 0.69954128 0.85986239 0.96100917\n",
      " 0.94862385 0.925      0.72362385 0.87637615 0.96146789 0.94908257\n",
      " 0.92706422 0.7337156  0.88646789 0.96146789 0.94931193 0.93027523\n",
      " 0.7337156  0.88692661 0.96192661 0.96169725 0.9440367 ]\n",
      "  warnings.warn(\n",
      "C:\\Users\\heera\\anaconda3\\lib\\site-packages\\sklearn\\utils\\validation.py:985: DataConversionWarning: A column-vector y was passed when a 1d array was expected. Please change the shape of y to (n_samples, ), for example using ravel().\n",
      "  y = column_or_1d(y, warn=True)\n"
     ]
    },
    {
     "name": "stdout",
     "output_type": "stream",
     "text": [
      "Fitting 10 folds for each of 35 candidates, totalling 350 fits\n"
     ]
    },
    {
     "name": "stderr",
     "output_type": "stream",
     "text": [
      "C:\\Users\\heera\\anaconda3\\lib\\site-packages\\sklearn\\model_selection\\_validation.py:372: FitFailedWarning: \n",
      "50 fits failed out of a total of 350.\n",
      "The score on these train-test partitions for these parameters will be set to nan.\n",
      "If these failures are not expected, you can try to debug them by setting error_score='raise'.\n",
      "\n",
      "Below are more details about the failures:\n",
      "--------------------------------------------------------------------------------\n",
      "50 fits failed with the following error:\n",
      "Traceback (most recent call last):\n",
      "  File \"C:\\Users\\heera\\anaconda3\\lib\\site-packages\\sklearn\\model_selection\\_validation.py\", line 681, in _fit_and_score\n",
      "    estimator.fit(X_train, y_train, **fit_params)\n",
      "  File \"C:\\Users\\heera\\anaconda3\\lib\\site-packages\\sklearn\\svm\\_base.py\", line 255, in fit\n",
      "    fit(X, y, sample_weight, solver_type, kernel, random_seed=seed)\n",
      "  File \"C:\\Users\\heera\\anaconda3\\lib\\site-packages\\sklearn\\svm\\_base.py\", line 315, in _dense_fit\n",
      "    ) = libsvm.fit(\n",
      "  File \"sklearn\\svm\\_libsvm.pyx\", line 192, in sklearn.svm._libsvm.fit\n",
      "ValueError: C <= 0\n",
      "\n",
      "  warnings.warn(some_fits_failed_message, FitFailedWarning)\n",
      "C:\\Users\\heera\\anaconda3\\lib\\site-packages\\sklearn\\model_selection\\_search.py:969: UserWarning: One or more of the test scores are non-finite: [       nan        nan        nan        nan        nan 0.53486239\n",
      " 0.53440367 0.57798165 0.70183486 0.61811927 0.53486239 0.53440367\n",
      " 0.81972477 0.79426606 0.72110092 0.69426606 0.86307339 0.94633028\n",
      " 0.8587156  0.7706422  0.71880734 0.88165138 0.94954128 0.86444954\n",
      " 0.77316514 0.72844037 0.8896789  0.95137615 0.87133028 0.77866972\n",
      " 0.72844037 0.89013761 0.95688073 0.91949541 0.82568807]\n",
      "  warnings.warn(\n",
      "C:\\Users\\heera\\anaconda3\\lib\\site-packages\\sklearn\\utils\\validation.py:985: DataConversionWarning: A column-vector y was passed when a 1d array was expected. Please change the shape of y to (n_samples, ), for example using ravel().\n",
      "  y = column_or_1d(y, warn=True)\n"
     ]
    },
    {
     "name": "stdout",
     "output_type": "stream",
     "text": [
      "Fitting 10 folds for each of 35 candidates, totalling 350 fits\n"
     ]
    },
    {
     "name": "stderr",
     "output_type": "stream",
     "text": [
      "C:\\Users\\heera\\anaconda3\\lib\\site-packages\\sklearn\\model_selection\\_validation.py:372: FitFailedWarning: \n",
      "50 fits failed out of a total of 350.\n",
      "The score on these train-test partitions for these parameters will be set to nan.\n",
      "If these failures are not expected, you can try to debug them by setting error_score='raise'.\n",
      "\n",
      "Below are more details about the failures:\n",
      "--------------------------------------------------------------------------------\n",
      "50 fits failed with the following error:\n",
      "Traceback (most recent call last):\n",
      "  File \"C:\\Users\\heera\\anaconda3\\lib\\site-packages\\sklearn\\model_selection\\_validation.py\", line 681, in _fit_and_score\n",
      "    estimator.fit(X_train, y_train, **fit_params)\n",
      "  File \"C:\\Users\\heera\\anaconda3\\lib\\site-packages\\sklearn\\svm\\_base.py\", line 255, in fit\n",
      "    fit(X, y, sample_weight, solver_type, kernel, random_seed=seed)\n",
      "  File \"C:\\Users\\heera\\anaconda3\\lib\\site-packages\\sklearn\\svm\\_base.py\", line 315, in _dense_fit\n",
      "    ) = libsvm.fit(\n",
      "  File \"sklearn\\svm\\_libsvm.pyx\", line 192, in sklearn.svm._libsvm.fit\n",
      "ValueError: C <= 0\n",
      "\n",
      "  warnings.warn(some_fits_failed_message, FitFailedWarning)\n",
      "C:\\Users\\heera\\anaconda3\\lib\\site-packages\\sklearn\\model_selection\\_search.py:969: UserWarning: One or more of the test scores are non-finite: [       nan        nan        nan        nan        nan 0.58394495\n",
      " 0.56055046 0.5690367  0.69357798 0.62522936 0.58394495 0.56055046\n",
      " 0.81376147 0.77201835 0.71330275 0.71330275 0.86559633 0.93876147\n",
      " 0.8559633  0.76513761 0.73142202 0.88394495 0.94380734 0.86009174\n",
      " 0.76834862 0.74059633 0.89357798 0.9456422  0.8646789  0.77362385\n",
      " 0.74059633 0.89426606 0.95068807 0.91582569 0.81146789]\n",
      "  warnings.warn(\n",
      "C:\\Users\\heera\\anaconda3\\lib\\site-packages\\sklearn\\utils\\validation.py:985: DataConversionWarning: A column-vector y was passed when a 1d array was expected. Please change the shape of y to (n_samples, ), for example using ravel().\n",
      "  y = column_or_1d(y, warn=True)\n"
     ]
    },
    {
     "name": "stdout",
     "output_type": "stream",
     "text": [
      "Fitting 10 folds for each of 35 candidates, totalling 350 fits\n"
     ]
    },
    {
     "name": "stderr",
     "output_type": "stream",
     "text": [
      "C:\\Users\\heera\\anaconda3\\lib\\site-packages\\sklearn\\model_selection\\_validation.py:372: FitFailedWarning: \n",
      "50 fits failed out of a total of 350.\n",
      "The score on these train-test partitions for these parameters will be set to nan.\n",
      "If these failures are not expected, you can try to debug them by setting error_score='raise'.\n",
      "\n",
      "Below are more details about the failures:\n",
      "--------------------------------------------------------------------------------\n",
      "50 fits failed with the following error:\n",
      "Traceback (most recent call last):\n",
      "  File \"C:\\Users\\heera\\anaconda3\\lib\\site-packages\\sklearn\\model_selection\\_validation.py\", line 681, in _fit_and_score\n",
      "    estimator.fit(X_train, y_train, **fit_params)\n",
      "  File \"C:\\Users\\heera\\anaconda3\\lib\\site-packages\\sklearn\\svm\\_base.py\", line 255, in fit\n",
      "    fit(X, y, sample_weight, solver_type, kernel, random_seed=seed)\n",
      "  File \"C:\\Users\\heera\\anaconda3\\lib\\site-packages\\sklearn\\svm\\_base.py\", line 315, in _dense_fit\n",
      "    ) = libsvm.fit(\n",
      "  File \"sklearn\\svm\\_libsvm.pyx\", line 192, in sklearn.svm._libsvm.fit\n",
      "ValueError: C <= 0\n",
      "\n",
      "  warnings.warn(some_fits_failed_message, FitFailedWarning)\n",
      "C:\\Users\\heera\\anaconda3\\lib\\site-packages\\sklearn\\model_selection\\_search.py:969: UserWarning: One or more of the test scores are non-finite: [       nan        nan        nan        nan        nan 0.59977064\n",
      " 0.58669725 0.60206422 0.7043578  0.62775229 0.59977064 0.58669725\n",
      " 0.81880734 0.7690367  0.71995413 0.71376147 0.86720183 0.94174312\n",
      " 0.85068807 0.76100917 0.73188073 0.88394495 0.94426606 0.85504587\n",
      " 0.76834862 0.74266055 0.89266055 0.94655963 0.85802752 0.77178899\n",
      " 0.74243119 0.89357798 0.9516055  0.91192661 0.80940367]\n",
      "  warnings.warn(\n",
      "C:\\Users\\heera\\anaconda3\\lib\\site-packages\\sklearn\\utils\\validation.py:985: DataConversionWarning: A column-vector y was passed when a 1d array was expected. Please change the shape of y to (n_samples, ), for example using ravel().\n",
      "  y = column_or_1d(y, warn=True)\n"
     ]
    },
    {
     "name": "stdout",
     "output_type": "stream",
     "text": [
      "Fitting 10 folds for each of 35 candidates, totalling 350 fits\n"
     ]
    },
    {
     "name": "stderr",
     "output_type": "stream",
     "text": [
      "C:\\Users\\heera\\anaconda3\\lib\\site-packages\\sklearn\\model_selection\\_validation.py:372: FitFailedWarning: \n",
      "50 fits failed out of a total of 350.\n",
      "The score on these train-test partitions for these parameters will be set to nan.\n",
      "If these failures are not expected, you can try to debug them by setting error_score='raise'.\n",
      "\n",
      "Below are more details about the failures:\n",
      "--------------------------------------------------------------------------------\n",
      "50 fits failed with the following error:\n",
      "Traceback (most recent call last):\n",
      "  File \"C:\\Users\\heera\\anaconda3\\lib\\site-packages\\sklearn\\model_selection\\_validation.py\", line 681, in _fit_and_score\n",
      "    estimator.fit(X_train, y_train, **fit_params)\n",
      "  File \"C:\\Users\\heera\\anaconda3\\lib\\site-packages\\sklearn\\svm\\_base.py\", line 255, in fit\n",
      "    fit(X, y, sample_weight, solver_type, kernel, random_seed=seed)\n",
      "  File \"C:\\Users\\heera\\anaconda3\\lib\\site-packages\\sklearn\\svm\\_base.py\", line 315, in _dense_fit\n",
      "    ) = libsvm.fit(\n",
      "  File \"sklearn\\svm\\_libsvm.pyx\", line 192, in sklearn.svm._libsvm.fit\n",
      "ValueError: C <= 0\n",
      "\n",
      "  warnings.warn(some_fits_failed_message, FitFailedWarning)\n",
      "C:\\Users\\heera\\anaconda3\\lib\\site-packages\\sklearn\\model_selection\\_search.py:969: UserWarning: One or more of the test scores are non-finite: [       nan        nan        nan        nan        nan 0.56100917\n",
      " 0.54770642 0.58486239 0.7266055  0.6603211  0.56100917 0.54770642\n",
      " 0.82866972 0.83142202 0.75573394 0.71582569 0.86674312 0.94243119\n",
      " 0.87270642 0.8337156  0.73440367 0.88188073 0.94334862 0.87981651\n",
      " 0.83807339 0.74610092 0.89059633 0.94426606 0.88577982 0.83899083\n",
      " 0.74610092 0.89151376 0.9483945  0.92178899 0.85366972]\n",
      "  warnings.warn(\n",
      "C:\\Users\\heera\\anaconda3\\lib\\site-packages\\sklearn\\utils\\validation.py:985: DataConversionWarning: A column-vector y was passed when a 1d array was expected. Please change the shape of y to (n_samples, ), for example using ravel().\n",
      "  y = column_or_1d(y, warn=True)\n"
     ]
    },
    {
     "data": {
      "text/plain": [
       "array([0.79908257, 0.98165138, 0.99449541, 0.99082569, 0.96330275])"
      ]
     },
     "execution_count": 51,
     "metadata": {},
     "output_type": "execute_result"
    }
   ],
   "source": [
    "cross_val_score(grid, X_sma, y_sma, cv=5)"
   ]
  },
  {
   "cell_type": "code",
   "execution_count": 53,
   "metadata": {},
   "outputs": [],
   "source": [
    "a= np.array([0.79908257, 0.98165138, 0.99449541, 0.99082569, 0.96330275])"
   ]
  },
  {
   "cell_type": "code",
   "execution_count": 54,
   "metadata": {},
   "outputs": [
    {
     "data": {
      "text/plain": [
       "0.94587156"
      ]
     },
     "execution_count": 54,
     "metadata": {},
     "output_type": "execute_result"
    }
   ],
   "source": [
    "np.mean(a)"
   ]
  },
  {
   "cell_type": "code",
   "execution_count": null,
   "metadata": {},
   "outputs": [],
   "source": []
  }
 ],
 "metadata": {
  "kernelspec": {
   "display_name": "Python 3",
   "language": "python",
   "name": "python3"
  },
  "language_info": {
   "codemirror_mode": {
    "name": "ipython",
    "version": 3
   },
   "file_extension": ".py",
   "mimetype": "text/x-python",
   "name": "python",
   "nbconvert_exporter": "python",
   "pygments_lexer": "ipython3",
   "version": "3.8.5"
  }
 },
 "nbformat": 4,
 "nbformat_minor": 5
}
