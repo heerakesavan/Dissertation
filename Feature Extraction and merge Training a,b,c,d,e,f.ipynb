{
 "cells": [
  {
   "cell_type": "code",
   "execution_count": 1,
   "metadata": {},
   "outputs": [],
   "source": [
    "import os\n",
    "import numpy as np\n",
    "import scipy.io.wavfile as wf\n",
    "import matplotlib.pyplot as plt\n",
    "import librosa\n",
    "import pandas as pd\n",
    "from sklearn.metrics import classification_report"
   ]
  },
  {
   "cell_type": "markdown",
   "metadata": {},
   "source": [
    "# Training-a"
   ]
  },
  {
   "cell_type": "code",
   "execution_count": 2,
   "metadata": {},
   "outputs": [],
   "source": [
    "audio_dataset_path_a = 'C:/Users/heera/OneDrive - Heerak/Desktop/Dissertation/traindata/training-a'"
   ]
  },
  {
   "cell_type": "code",
   "execution_count": 3,
   "metadata": {},
   "outputs": [],
   "source": [
    "metadata_a=pd.read_csv('C:/Users/heera/OneDrive - Heerak/Desktop/Dissertation/traindata/training-a/REFERENCE.csv',header= None)"
   ]
  },
  {
   "cell_type": "code",
   "execution_count": 4,
   "metadata": {},
   "outputs": [
    {
     "data": {
      "text/html": [
       "<div>\n",
       "<style scoped>\n",
       "    .dataframe tbody tr th:only-of-type {\n",
       "        vertical-align: middle;\n",
       "    }\n",
       "\n",
       "    .dataframe tbody tr th {\n",
       "        vertical-align: top;\n",
       "    }\n",
       "\n",
       "    .dataframe thead th {\n",
       "        text-align: right;\n",
       "    }\n",
       "</style>\n",
       "<table border=\"1\" class=\"dataframe\">\n",
       "  <thead>\n",
       "    <tr style=\"text-align: right;\">\n",
       "      <th></th>\n",
       "      <th>0</th>\n",
       "      <th>1</th>\n",
       "      <th>2</th>\n",
       "    </tr>\n",
       "  </thead>\n",
       "  <tbody>\n",
       "    <tr>\n",
       "      <th>0</th>\n",
       "      <td>a0001.wav</td>\n",
       "      <td>a0001</td>\n",
       "      <td>1</td>\n",
       "    </tr>\n",
       "    <tr>\n",
       "      <th>1</th>\n",
       "      <td>a0002.wav</td>\n",
       "      <td>a0002</td>\n",
       "      <td>1</td>\n",
       "    </tr>\n",
       "    <tr>\n",
       "      <th>2</th>\n",
       "      <td>a0003.wav</td>\n",
       "      <td>a0003</td>\n",
       "      <td>1</td>\n",
       "    </tr>\n",
       "    <tr>\n",
       "      <th>3</th>\n",
       "      <td>a0004.wav</td>\n",
       "      <td>a0004</td>\n",
       "      <td>1</td>\n",
       "    </tr>\n",
       "    <tr>\n",
       "      <th>4</th>\n",
       "      <td>a0005.wav</td>\n",
       "      <td>a0005</td>\n",
       "      <td>1</td>\n",
       "    </tr>\n",
       "  </tbody>\n",
       "</table>\n",
       "</div>"
      ],
      "text/plain": [
       "           0      1  2\n",
       "0  a0001.wav  a0001  1\n",
       "1  a0002.wav  a0002  1\n",
       "2  a0003.wav  a0003  1\n",
       "3  a0004.wav  a0004  1\n",
       "4  a0005.wav  a0005  1"
      ]
     },
     "execution_count": 4,
     "metadata": {},
     "output_type": "execute_result"
    }
   ],
   "source": [
    "metadata_a.head()"
   ]
  },
  {
   "cell_type": "code",
   "execution_count": 5,
   "metadata": {},
   "outputs": [],
   "source": [
    "metadata_a = metadata_a.rename(columns={0: \"File_name\",1:\"names\", 2: \"Class\"})"
   ]
  },
  {
   "cell_type": "code",
   "execution_count": 6,
   "metadata": {},
   "outputs": [],
   "source": [
    "metadata_a['Class'] = metadata_a['Class'].map({1: 1, -1: 0})"
   ]
  },
  {
   "cell_type": "code",
   "execution_count": 7,
   "metadata": {},
   "outputs": [
    {
     "data": {
      "text/html": [
       "<div>\n",
       "<style scoped>\n",
       "    .dataframe tbody tr th:only-of-type {\n",
       "        vertical-align: middle;\n",
       "    }\n",
       "\n",
       "    .dataframe tbody tr th {\n",
       "        vertical-align: top;\n",
       "    }\n",
       "\n",
       "    .dataframe thead th {\n",
       "        text-align: right;\n",
       "    }\n",
       "</style>\n",
       "<table border=\"1\" class=\"dataframe\">\n",
       "  <thead>\n",
       "    <tr style=\"text-align: right;\">\n",
       "      <th></th>\n",
       "      <th>File_name</th>\n",
       "      <th>names</th>\n",
       "      <th>Class</th>\n",
       "    </tr>\n",
       "  </thead>\n",
       "  <tbody>\n",
       "    <tr>\n",
       "      <th>0</th>\n",
       "      <td>a0001.wav</td>\n",
       "      <td>a0001</td>\n",
       "      <td>1</td>\n",
       "    </tr>\n",
       "    <tr>\n",
       "      <th>1</th>\n",
       "      <td>a0002.wav</td>\n",
       "      <td>a0002</td>\n",
       "      <td>1</td>\n",
       "    </tr>\n",
       "    <tr>\n",
       "      <th>2</th>\n",
       "      <td>a0003.wav</td>\n",
       "      <td>a0003</td>\n",
       "      <td>1</td>\n",
       "    </tr>\n",
       "    <tr>\n",
       "      <th>3</th>\n",
       "      <td>a0004.wav</td>\n",
       "      <td>a0004</td>\n",
       "      <td>1</td>\n",
       "    </tr>\n",
       "    <tr>\n",
       "      <th>4</th>\n",
       "      <td>a0005.wav</td>\n",
       "      <td>a0005</td>\n",
       "      <td>1</td>\n",
       "    </tr>\n",
       "  </tbody>\n",
       "</table>\n",
       "</div>"
      ],
      "text/plain": [
       "   File_name  names  Class\n",
       "0  a0001.wav  a0001      1\n",
       "1  a0002.wav  a0002      1\n",
       "2  a0003.wav  a0003      1\n",
       "3  a0004.wav  a0004      1\n",
       "4  a0005.wav  a0005      1"
      ]
     },
     "execution_count": 7,
     "metadata": {},
     "output_type": "execute_result"
    }
   ],
   "source": [
    "metadata_a.head()"
   ]
  },
  {
   "cell_type": "code",
   "execution_count": 8,
   "metadata": {},
   "outputs": [
    {
     "data": {
      "text/plain": [
       "1    292\n",
       "0    117\n",
       "Name: Class, dtype: int64"
      ]
     },
     "execution_count": 8,
     "metadata": {},
     "output_type": "execute_result"
    }
   ],
   "source": [
    "metadata_a['Class'].value_counts()"
   ]
  },
  {
   "cell_type": "code",
   "execution_count": 9,
   "metadata": {},
   "outputs": [],
   "source": [
    "def features_extractor(file):\n",
    "    audio, sample_rate = librosa.load(file_name, res_type='kaiser_fast') \n",
    "    mfccs_features = librosa.feature.mfcc(y=audio, sr=sample_rate, n_mfcc=40,dct_type=2)\n",
    "    mfccs_scaled_features = np.mean(mfccs_features.T,axis=0)\n",
    "    \n",
    "    return mfccs_scaled_features\n",
    "    "
   ]
  },
  {
   "cell_type": "code",
   "execution_count": 10,
   "metadata": {},
   "outputs": [
    {
     "name": "stderr",
     "output_type": "stream",
     "text": [
      "409it [01:53,  3.61it/s]\n"
     ]
    }
   ],
   "source": [
    "import numpy as np\n",
    "from tqdm import tqdm\n",
    "### Now we iterate through every audio file and extract features \n",
    "### using Mel-Frequency Cepstral Coefficients\n",
    "extracted_features_a=[]\n",
    "for index_num,row in tqdm(metadata_a.iterrows()):\n",
    "    file_name = os.path.join(os.path.abspath(audio_dataset_path_a),str(row[\"File_name\"]))\n",
    "    final_class_labels=row[\"Class\"]\n",
    "    data=features_extractor(file_name)\n",
    "    extracted_features_a.append([data,final_class_labels])"
   ]
  },
  {
   "cell_type": "code",
   "execution_count": 11,
   "metadata": {},
   "outputs": [
    {
     "data": {
      "text/html": [
       "<div>\n",
       "<style scoped>\n",
       "    .dataframe tbody tr th:only-of-type {\n",
       "        vertical-align: middle;\n",
       "    }\n",
       "\n",
       "    .dataframe tbody tr th {\n",
       "        vertical-align: top;\n",
       "    }\n",
       "\n",
       "    .dataframe thead th {\n",
       "        text-align: right;\n",
       "    }\n",
       "</style>\n",
       "<table border=\"1\" class=\"dataframe\">\n",
       "  <thead>\n",
       "    <tr style=\"text-align: right;\">\n",
       "      <th></th>\n",
       "      <th>feature</th>\n",
       "      <th>class</th>\n",
       "    </tr>\n",
       "  </thead>\n",
       "  <tbody>\n",
       "    <tr>\n",
       "      <th>0</th>\n",
       "      <td>[-577.74457, 116.68117, 82.45421, 40.931873, 7...</td>\n",
       "      <td>1</td>\n",
       "    </tr>\n",
       "    <tr>\n",
       "      <th>1</th>\n",
       "      <td>[-628.8163, 136.51126, 100.357864, 56.20959, 1...</td>\n",
       "      <td>1</td>\n",
       "    </tr>\n",
       "    <tr>\n",
       "      <th>2</th>\n",
       "      <td>[-601.1834, 77.22223, 61.623146, 42.22163, 25....</td>\n",
       "      <td>1</td>\n",
       "    </tr>\n",
       "    <tr>\n",
       "      <th>3</th>\n",
       "      <td>[-562.589, 88.77356, 71.55774, 49.522438, 29.5...</td>\n",
       "      <td>1</td>\n",
       "    </tr>\n",
       "    <tr>\n",
       "      <th>4</th>\n",
       "      <td>[-489.47345, 65.72582, 57.030285, 45.383488, 3...</td>\n",
       "      <td>1</td>\n",
       "    </tr>\n",
       "  </tbody>\n",
       "</table>\n",
       "</div>"
      ],
      "text/plain": [
       "                                             feature  class\n",
       "0  [-577.74457, 116.68117, 82.45421, 40.931873, 7...      1\n",
       "1  [-628.8163, 136.51126, 100.357864, 56.20959, 1...      1\n",
       "2  [-601.1834, 77.22223, 61.623146, 42.22163, 25....      1\n",
       "3  [-562.589, 88.77356, 71.55774, 49.522438, 29.5...      1\n",
       "4  [-489.47345, 65.72582, 57.030285, 45.383488, 3...      1"
      ]
     },
     "execution_count": 11,
     "metadata": {},
     "output_type": "execute_result"
    }
   ],
   "source": [
    "### converting extracted_features to Pandas dataframe\n",
    "extracted_features_df_a=pd.DataFrame(extracted_features_a,columns=['feature','class'])\n",
    "extracted_features_df_a.head()"
   ]
  },
  {
   "cell_type": "code",
   "execution_count": 12,
   "metadata": {},
   "outputs": [
    {
     "data": {
      "text/plain": [
       "1    292\n",
       "0    117\n",
       "Name: class, dtype: int64"
      ]
     },
     "execution_count": 12,
     "metadata": {},
     "output_type": "execute_result"
    }
   ],
   "source": [
    "extracted_features_df_a[\"class\"].value_counts()"
   ]
  },
  {
   "cell_type": "markdown",
   "metadata": {},
   "source": [
    "# Training-b"
   ]
  },
  {
   "cell_type": "code",
   "execution_count": 13,
   "metadata": {},
   "outputs": [],
   "source": [
    "audio_dataset_path_b = 'C:/Users/heera/OneDrive - Heerak/Desktop/Dissertation/traindata/training-b'\n"
   ]
  },
  {
   "cell_type": "code",
   "execution_count": 14,
   "metadata": {},
   "outputs": [],
   "source": [
    "metadata_b=pd.read_csv('C:/Users/heera/OneDrive - Heerak/Desktop/Dissertation/traindata/training-b/REFERENCE.csv',header= None)"
   ]
  },
  {
   "cell_type": "code",
   "execution_count": 15,
   "metadata": {},
   "outputs": [
    {
     "data": {
      "text/html": [
       "<div>\n",
       "<style scoped>\n",
       "    .dataframe tbody tr th:only-of-type {\n",
       "        vertical-align: middle;\n",
       "    }\n",
       "\n",
       "    .dataframe tbody tr th {\n",
       "        vertical-align: top;\n",
       "    }\n",
       "\n",
       "    .dataframe thead th {\n",
       "        text-align: right;\n",
       "    }\n",
       "</style>\n",
       "<table border=\"1\" class=\"dataframe\">\n",
       "  <thead>\n",
       "    <tr style=\"text-align: right;\">\n",
       "      <th></th>\n",
       "      <th>0</th>\n",
       "      <th>1</th>\n",
       "      <th>2</th>\n",
       "    </tr>\n",
       "  </thead>\n",
       "  <tbody>\n",
       "    <tr>\n",
       "      <th>0</th>\n",
       "      <td>b0001.wav</td>\n",
       "      <td>b0001</td>\n",
       "      <td>-1</td>\n",
       "    </tr>\n",
       "    <tr>\n",
       "      <th>1</th>\n",
       "      <td>b0002.wav</td>\n",
       "      <td>b0002</td>\n",
       "      <td>-1</td>\n",
       "    </tr>\n",
       "    <tr>\n",
       "      <th>2</th>\n",
       "      <td>b0003.wav</td>\n",
       "      <td>b0003</td>\n",
       "      <td>-1</td>\n",
       "    </tr>\n",
       "    <tr>\n",
       "      <th>3</th>\n",
       "      <td>b0004.wav</td>\n",
       "      <td>b0004</td>\n",
       "      <td>-1</td>\n",
       "    </tr>\n",
       "    <tr>\n",
       "      <th>4</th>\n",
       "      <td>b0005.wav</td>\n",
       "      <td>b0005</td>\n",
       "      <td>-1</td>\n",
       "    </tr>\n",
       "  </tbody>\n",
       "</table>\n",
       "</div>"
      ],
      "text/plain": [
       "           0      1  2\n",
       "0  b0001.wav  b0001 -1\n",
       "1  b0002.wav  b0002 -1\n",
       "2  b0003.wav  b0003 -1\n",
       "3  b0004.wav  b0004 -1\n",
       "4  b0005.wav  b0005 -1"
      ]
     },
     "execution_count": 15,
     "metadata": {},
     "output_type": "execute_result"
    }
   ],
   "source": [
    "metadata_b.head()"
   ]
  },
  {
   "cell_type": "code",
   "execution_count": 16,
   "metadata": {},
   "outputs": [],
   "source": [
    "metadata_b = metadata_b.rename(columns={0: \"File_name\",1:\"names\", 2: \"Class\"})"
   ]
  },
  {
   "cell_type": "code",
   "execution_count": 17,
   "metadata": {},
   "outputs": [],
   "source": [
    "metadata_b['Class'] = metadata_b['Class'].map({1: 1, -1: 0})"
   ]
  },
  {
   "cell_type": "code",
   "execution_count": 18,
   "metadata": {},
   "outputs": [
    {
     "data": {
      "text/html": [
       "<div>\n",
       "<style scoped>\n",
       "    .dataframe tbody tr th:only-of-type {\n",
       "        vertical-align: middle;\n",
       "    }\n",
       "\n",
       "    .dataframe tbody tr th {\n",
       "        vertical-align: top;\n",
       "    }\n",
       "\n",
       "    .dataframe thead th {\n",
       "        text-align: right;\n",
       "    }\n",
       "</style>\n",
       "<table border=\"1\" class=\"dataframe\">\n",
       "  <thead>\n",
       "    <tr style=\"text-align: right;\">\n",
       "      <th></th>\n",
       "      <th>File_name</th>\n",
       "      <th>names</th>\n",
       "      <th>Class</th>\n",
       "    </tr>\n",
       "  </thead>\n",
       "  <tbody>\n",
       "    <tr>\n",
       "      <th>0</th>\n",
       "      <td>b0001.wav</td>\n",
       "      <td>b0001</td>\n",
       "      <td>0</td>\n",
       "    </tr>\n",
       "    <tr>\n",
       "      <th>1</th>\n",
       "      <td>b0002.wav</td>\n",
       "      <td>b0002</td>\n",
       "      <td>0</td>\n",
       "    </tr>\n",
       "    <tr>\n",
       "      <th>2</th>\n",
       "      <td>b0003.wav</td>\n",
       "      <td>b0003</td>\n",
       "      <td>0</td>\n",
       "    </tr>\n",
       "    <tr>\n",
       "      <th>3</th>\n",
       "      <td>b0004.wav</td>\n",
       "      <td>b0004</td>\n",
       "      <td>0</td>\n",
       "    </tr>\n",
       "    <tr>\n",
       "      <th>4</th>\n",
       "      <td>b0005.wav</td>\n",
       "      <td>b0005</td>\n",
       "      <td>0</td>\n",
       "    </tr>\n",
       "  </tbody>\n",
       "</table>\n",
       "</div>"
      ],
      "text/plain": [
       "   File_name  names  Class\n",
       "0  b0001.wav  b0001      0\n",
       "1  b0002.wav  b0002      0\n",
       "2  b0003.wav  b0003      0\n",
       "3  b0004.wav  b0004      0\n",
       "4  b0005.wav  b0005      0"
      ]
     },
     "execution_count": 18,
     "metadata": {},
     "output_type": "execute_result"
    }
   ],
   "source": [
    "metadata_b.head()"
   ]
  },
  {
   "cell_type": "code",
   "execution_count": 19,
   "metadata": {},
   "outputs": [
    {
     "data": {
      "text/plain": [
       "0    386\n",
       "1    104\n",
       "Name: Class, dtype: int64"
      ]
     },
     "execution_count": 19,
     "metadata": {},
     "output_type": "execute_result"
    }
   ],
   "source": [
    "metadata_b['Class'].value_counts()"
   ]
  },
  {
   "cell_type": "code",
   "execution_count": 20,
   "metadata": {},
   "outputs": [
    {
     "name": "stderr",
     "output_type": "stream",
     "text": [
      "490it [00:39, 12.43it/s]\n"
     ]
    }
   ],
   "source": [
    "import numpy as np\n",
    "from tqdm import tqdm\n",
    "### Now we iterate through every audio file and extract features \n",
    "### using Mel-Frequency Cepstral Coefficients\n",
    "extracted_features_b=[]\n",
    "for index_num,row in tqdm(metadata_b.iterrows()):\n",
    "    file_name = os.path.join(os.path.abspath(audio_dataset_path_b),str(row[\"File_name\"]))\n",
    "    final_class_labels=row[\"Class\"]\n",
    "    data=features_extractor(file_name)\n",
    "    extracted_features_b.append([data,final_class_labels])"
   ]
  },
  {
   "cell_type": "code",
   "execution_count": 21,
   "metadata": {},
   "outputs": [
    {
     "data": {
      "text/html": [
       "<div>\n",
       "<style scoped>\n",
       "    .dataframe tbody tr th:only-of-type {\n",
       "        vertical-align: middle;\n",
       "    }\n",
       "\n",
       "    .dataframe tbody tr th {\n",
       "        vertical-align: top;\n",
       "    }\n",
       "\n",
       "    .dataframe thead th {\n",
       "        text-align: right;\n",
       "    }\n",
       "</style>\n",
       "<table border=\"1\" class=\"dataframe\">\n",
       "  <thead>\n",
       "    <tr style=\"text-align: right;\">\n",
       "      <th></th>\n",
       "      <th>feature</th>\n",
       "      <th>class</th>\n",
       "    </tr>\n",
       "  </thead>\n",
       "  <tbody>\n",
       "    <tr>\n",
       "      <th>0</th>\n",
       "      <td>[-433.87863, 79.64535, 65.05969, 46.481567, 29...</td>\n",
       "      <td>0</td>\n",
       "    </tr>\n",
       "    <tr>\n",
       "      <th>1</th>\n",
       "      <td>[-446.7317, 53.865833, 50.054825, 44.660587, 3...</td>\n",
       "      <td>0</td>\n",
       "    </tr>\n",
       "    <tr>\n",
       "      <th>2</th>\n",
       "      <td>[-445.3087, 59.22738, 51.841167, 42.04721, 32....</td>\n",
       "      <td>0</td>\n",
       "    </tr>\n",
       "    <tr>\n",
       "      <th>3</th>\n",
       "      <td>[-428.39783, 116.43821, 90.566895, 57.912445, ...</td>\n",
       "      <td>0</td>\n",
       "    </tr>\n",
       "    <tr>\n",
       "      <th>4</th>\n",
       "      <td>[-446.5004, 99.203636, 79.11679, 53.690357, 30...</td>\n",
       "      <td>0</td>\n",
       "    </tr>\n",
       "  </tbody>\n",
       "</table>\n",
       "</div>"
      ],
      "text/plain": [
       "                                             feature  class\n",
       "0  [-433.87863, 79.64535, 65.05969, 46.481567, 29...      0\n",
       "1  [-446.7317, 53.865833, 50.054825, 44.660587, 3...      0\n",
       "2  [-445.3087, 59.22738, 51.841167, 42.04721, 32....      0\n",
       "3  [-428.39783, 116.43821, 90.566895, 57.912445, ...      0\n",
       "4  [-446.5004, 99.203636, 79.11679, 53.690357, 30...      0"
      ]
     },
     "execution_count": 21,
     "metadata": {},
     "output_type": "execute_result"
    }
   ],
   "source": [
    "### converting extracted_features to Pandas dataframe\n",
    "extracted_features_df_b=pd.DataFrame(extracted_features_b,columns=['feature','class'])\n",
    "extracted_features_df_b.head()"
   ]
  },
  {
   "cell_type": "code",
   "execution_count": 22,
   "metadata": {},
   "outputs": [
    {
     "data": {
      "text/plain": [
       "0    386\n",
       "1    104\n",
       "Name: class, dtype: int64"
      ]
     },
     "execution_count": 22,
     "metadata": {},
     "output_type": "execute_result"
    }
   ],
   "source": [
    "extracted_features_df_b[\"class\"].value_counts()"
   ]
  },
  {
   "cell_type": "markdown",
   "metadata": {},
   "source": [
    "# Training c"
   ]
  },
  {
   "cell_type": "code",
   "execution_count": 23,
   "metadata": {},
   "outputs": [],
   "source": [
    "audio_dataset_path_c = 'C:/Users/heera/OneDrive - Heerak/Desktop/Dissertation/traindata/training-c'"
   ]
  },
  {
   "cell_type": "code",
   "execution_count": 24,
   "metadata": {},
   "outputs": [],
   "source": [
    "metadata_c=pd.read_csv('C:/Users/heera/OneDrive - Heerak/Desktop/Dissertation/traindata/training-c/REFERENCE.csv',header= None)"
   ]
  },
  {
   "cell_type": "code",
   "execution_count": 25,
   "metadata": {},
   "outputs": [
    {
     "data": {
      "text/html": [
       "<div>\n",
       "<style scoped>\n",
       "    .dataframe tbody tr th:only-of-type {\n",
       "        vertical-align: middle;\n",
       "    }\n",
       "\n",
       "    .dataframe tbody tr th {\n",
       "        vertical-align: top;\n",
       "    }\n",
       "\n",
       "    .dataframe thead th {\n",
       "        text-align: right;\n",
       "    }\n",
       "</style>\n",
       "<table border=\"1\" class=\"dataframe\">\n",
       "  <thead>\n",
       "    <tr style=\"text-align: right;\">\n",
       "      <th></th>\n",
       "      <th>0</th>\n",
       "      <th>1</th>\n",
       "      <th>2</th>\n",
       "    </tr>\n",
       "  </thead>\n",
       "  <tbody>\n",
       "    <tr>\n",
       "      <th>0</th>\n",
       "      <td>c0001.wav</td>\n",
       "      <td>c0001</td>\n",
       "      <td>1</td>\n",
       "    </tr>\n",
       "    <tr>\n",
       "      <th>1</th>\n",
       "      <td>c0002.wav</td>\n",
       "      <td>c0002</td>\n",
       "      <td>1</td>\n",
       "    </tr>\n",
       "    <tr>\n",
       "      <th>2</th>\n",
       "      <td>c0003.wav</td>\n",
       "      <td>c0003</td>\n",
       "      <td>-1</td>\n",
       "    </tr>\n",
       "    <tr>\n",
       "      <th>3</th>\n",
       "      <td>c0004.wav</td>\n",
       "      <td>c0004</td>\n",
       "      <td>1</td>\n",
       "    </tr>\n",
       "    <tr>\n",
       "      <th>4</th>\n",
       "      <td>c0005.wav</td>\n",
       "      <td>c0005</td>\n",
       "      <td>1</td>\n",
       "    </tr>\n",
       "  </tbody>\n",
       "</table>\n",
       "</div>"
      ],
      "text/plain": [
       "           0      1  2\n",
       "0  c0001.wav  c0001  1\n",
       "1  c0002.wav  c0002  1\n",
       "2  c0003.wav  c0003 -1\n",
       "3  c0004.wav  c0004  1\n",
       "4  c0005.wav  c0005  1"
      ]
     },
     "execution_count": 25,
     "metadata": {},
     "output_type": "execute_result"
    }
   ],
   "source": [
    "metadata_c.head()"
   ]
  },
  {
   "cell_type": "code",
   "execution_count": 26,
   "metadata": {},
   "outputs": [],
   "source": [
    "metadata_c = metadata_c.rename(columns={0: \"File_name\",1:\"names\", 2: \"Class\"})"
   ]
  },
  {
   "cell_type": "code",
   "execution_count": 27,
   "metadata": {},
   "outputs": [],
   "source": [
    "metadata_c['Class'] = metadata_c['Class'].map({1: 1, -1: 0})"
   ]
  },
  {
   "cell_type": "code",
   "execution_count": 28,
   "metadata": {},
   "outputs": [
    {
     "data": {
      "text/html": [
       "<div>\n",
       "<style scoped>\n",
       "    .dataframe tbody tr th:only-of-type {\n",
       "        vertical-align: middle;\n",
       "    }\n",
       "\n",
       "    .dataframe tbody tr th {\n",
       "        vertical-align: top;\n",
       "    }\n",
       "\n",
       "    .dataframe thead th {\n",
       "        text-align: right;\n",
       "    }\n",
       "</style>\n",
       "<table border=\"1\" class=\"dataframe\">\n",
       "  <thead>\n",
       "    <tr style=\"text-align: right;\">\n",
       "      <th></th>\n",
       "      <th>File_name</th>\n",
       "      <th>names</th>\n",
       "      <th>Class</th>\n",
       "    </tr>\n",
       "  </thead>\n",
       "  <tbody>\n",
       "    <tr>\n",
       "      <th>0</th>\n",
       "      <td>c0001.wav</td>\n",
       "      <td>c0001</td>\n",
       "      <td>1</td>\n",
       "    </tr>\n",
       "    <tr>\n",
       "      <th>1</th>\n",
       "      <td>c0002.wav</td>\n",
       "      <td>c0002</td>\n",
       "      <td>1</td>\n",
       "    </tr>\n",
       "    <tr>\n",
       "      <th>2</th>\n",
       "      <td>c0003.wav</td>\n",
       "      <td>c0003</td>\n",
       "      <td>0</td>\n",
       "    </tr>\n",
       "    <tr>\n",
       "      <th>3</th>\n",
       "      <td>c0004.wav</td>\n",
       "      <td>c0004</td>\n",
       "      <td>1</td>\n",
       "    </tr>\n",
       "    <tr>\n",
       "      <th>4</th>\n",
       "      <td>c0005.wav</td>\n",
       "      <td>c0005</td>\n",
       "      <td>1</td>\n",
       "    </tr>\n",
       "  </tbody>\n",
       "</table>\n",
       "</div>"
      ],
      "text/plain": [
       "   File_name  names  Class\n",
       "0  c0001.wav  c0001      1\n",
       "1  c0002.wav  c0002      1\n",
       "2  c0003.wav  c0003      0\n",
       "3  c0004.wav  c0004      1\n",
       "4  c0005.wav  c0005      1"
      ]
     },
     "execution_count": 28,
     "metadata": {},
     "output_type": "execute_result"
    }
   ],
   "source": [
    "metadata_c.head()"
   ]
  },
  {
   "cell_type": "code",
   "execution_count": 29,
   "metadata": {},
   "outputs": [
    {
     "data": {
      "text/plain": [
       "1    24\n",
       "0     7\n",
       "Name: Class, dtype: int64"
      ]
     },
     "execution_count": 29,
     "metadata": {},
     "output_type": "execute_result"
    }
   ],
   "source": [
    "metadata_c['Class'].value_counts()"
   ]
  },
  {
   "cell_type": "code",
   "execution_count": 30,
   "metadata": {},
   "outputs": [
    {
     "name": "stderr",
     "output_type": "stream",
     "text": [
      "31it [00:11,  2.64it/s]\n"
     ]
    }
   ],
   "source": [
    "import numpy as np\n",
    "from tqdm import tqdm\n",
    "### Now we iterate through every audio file and extract features \n",
    "### using Mel-Frequency Cepstral Coefficients\n",
    "extracted_features_c=[]\n",
    "for index_num,row in tqdm(metadata_c.iterrows()):\n",
    "    file_name = os.path.join(os.path.abspath(audio_dataset_path_c),str(row[\"File_name\"]))\n",
    "    final_class_labels=row[\"Class\"]\n",
    "    data=features_extractor(file_name)\n",
    "    extracted_features_c.append([data,final_class_labels])"
   ]
  },
  {
   "cell_type": "code",
   "execution_count": 31,
   "metadata": {},
   "outputs": [
    {
     "data": {
      "text/html": [
       "<div>\n",
       "<style scoped>\n",
       "    .dataframe tbody tr th:only-of-type {\n",
       "        vertical-align: middle;\n",
       "    }\n",
       "\n",
       "    .dataframe tbody tr th {\n",
       "        vertical-align: top;\n",
       "    }\n",
       "\n",
       "    .dataframe thead th {\n",
       "        text-align: right;\n",
       "    }\n",
       "</style>\n",
       "<table border=\"1\" class=\"dataframe\">\n",
       "  <thead>\n",
       "    <tr style=\"text-align: right;\">\n",
       "      <th></th>\n",
       "      <th>feature</th>\n",
       "      <th>class</th>\n",
       "    </tr>\n",
       "  </thead>\n",
       "  <tbody>\n",
       "    <tr>\n",
       "      <th>0</th>\n",
       "      <td>[-579.58185, 50.943283, 46.651367, 40.794743, ...</td>\n",
       "      <td>1</td>\n",
       "    </tr>\n",
       "    <tr>\n",
       "      <th>1</th>\n",
       "      <td>[-594.84357, 59.629078, 53.675842, 45.549576, ...</td>\n",
       "      <td>1</td>\n",
       "    </tr>\n",
       "    <tr>\n",
       "      <th>2</th>\n",
       "      <td>[-412.30063, 96.63816, 79.15537, 56.299557, 34...</td>\n",
       "      <td>0</td>\n",
       "    </tr>\n",
       "    <tr>\n",
       "      <th>3</th>\n",
       "      <td>[-558.97015, 51.65941, 47.772663, 42.396885, 3...</td>\n",
       "      <td>1</td>\n",
       "    </tr>\n",
       "    <tr>\n",
       "      <th>4</th>\n",
       "      <td>[-625.97504, 71.32771, 60.507927, 47.32617, 34...</td>\n",
       "      <td>1</td>\n",
       "    </tr>\n",
       "  </tbody>\n",
       "</table>\n",
       "</div>"
      ],
      "text/plain": [
       "                                             feature  class\n",
       "0  [-579.58185, 50.943283, 46.651367, 40.794743, ...      1\n",
       "1  [-594.84357, 59.629078, 53.675842, 45.549576, ...      1\n",
       "2  [-412.30063, 96.63816, 79.15537, 56.299557, 34...      0\n",
       "3  [-558.97015, 51.65941, 47.772663, 42.396885, 3...      1\n",
       "4  [-625.97504, 71.32771, 60.507927, 47.32617, 34...      1"
      ]
     },
     "execution_count": 31,
     "metadata": {},
     "output_type": "execute_result"
    }
   ],
   "source": [
    "### converting extracted_features to Pandas dataframe\n",
    "extracted_features_df_c=pd.DataFrame(extracted_features_c,columns=['feature','class'])\n",
    "extracted_features_df_c.head()"
   ]
  },
  {
   "cell_type": "code",
   "execution_count": 32,
   "metadata": {},
   "outputs": [
    {
     "data": {
      "text/plain": [
       "1    24\n",
       "0     7\n",
       "Name: class, dtype: int64"
      ]
     },
     "execution_count": 32,
     "metadata": {},
     "output_type": "execute_result"
    }
   ],
   "source": [
    "extracted_features_df_c[\"class\"].value_counts()"
   ]
  },
  {
   "cell_type": "markdown",
   "metadata": {},
   "source": [
    "# Training d\n"
   ]
  },
  {
   "cell_type": "code",
   "execution_count": 33,
   "metadata": {},
   "outputs": [],
   "source": [
    "audio_dataset_path_d = 'C:/Users/heera/OneDrive - Heerak/Desktop/Dissertation/traindata/training-d'"
   ]
  },
  {
   "cell_type": "code",
   "execution_count": 34,
   "metadata": {},
   "outputs": [],
   "source": [
    "metadata_d=pd.read_csv('C:/Users/heera/OneDrive - Heerak/Desktop/Dissertation/traindata/training-d/REFERENCE.csv',header= None)"
   ]
  },
  {
   "cell_type": "code",
   "execution_count": 35,
   "metadata": {},
   "outputs": [
    {
     "data": {
      "text/html": [
       "<div>\n",
       "<style scoped>\n",
       "    .dataframe tbody tr th:only-of-type {\n",
       "        vertical-align: middle;\n",
       "    }\n",
       "\n",
       "    .dataframe tbody tr th {\n",
       "        vertical-align: top;\n",
       "    }\n",
       "\n",
       "    .dataframe thead th {\n",
       "        text-align: right;\n",
       "    }\n",
       "</style>\n",
       "<table border=\"1\" class=\"dataframe\">\n",
       "  <thead>\n",
       "    <tr style=\"text-align: right;\">\n",
       "      <th></th>\n",
       "      <th>0</th>\n",
       "      <th>1</th>\n",
       "      <th>2</th>\n",
       "    </tr>\n",
       "  </thead>\n",
       "  <tbody>\n",
       "    <tr>\n",
       "      <th>0</th>\n",
       "      <td>d0001.wav</td>\n",
       "      <td>d0001</td>\n",
       "      <td>-1</td>\n",
       "    </tr>\n",
       "    <tr>\n",
       "      <th>1</th>\n",
       "      <td>d0002.wav</td>\n",
       "      <td>d0002</td>\n",
       "      <td>1</td>\n",
       "    </tr>\n",
       "    <tr>\n",
       "      <th>2</th>\n",
       "      <td>d0003.wav</td>\n",
       "      <td>d0003</td>\n",
       "      <td>1</td>\n",
       "    </tr>\n",
       "    <tr>\n",
       "      <th>3</th>\n",
       "      <td>d0004.wav</td>\n",
       "      <td>d0004</td>\n",
       "      <td>1</td>\n",
       "    </tr>\n",
       "    <tr>\n",
       "      <th>4</th>\n",
       "      <td>d0005.wav</td>\n",
       "      <td>d0005</td>\n",
       "      <td>-1</td>\n",
       "    </tr>\n",
       "  </tbody>\n",
       "</table>\n",
       "</div>"
      ],
      "text/plain": [
       "           0      1  2\n",
       "0  d0001.wav  d0001 -1\n",
       "1  d0002.wav  d0002  1\n",
       "2  d0003.wav  d0003  1\n",
       "3  d0004.wav  d0004  1\n",
       "4  d0005.wav  d0005 -1"
      ]
     },
     "execution_count": 35,
     "metadata": {},
     "output_type": "execute_result"
    }
   ],
   "source": [
    "metadata_d.head()"
   ]
  },
  {
   "cell_type": "code",
   "execution_count": 36,
   "metadata": {},
   "outputs": [],
   "source": [
    "metadata_d = metadata_d.rename(columns={0: \"File_name\",1:\"names\", 2: \"Class\"})"
   ]
  },
  {
   "cell_type": "code",
   "execution_count": 37,
   "metadata": {},
   "outputs": [],
   "source": [
    "metadata_d['Class'] = metadata_d['Class'].map({1: 1, -1: 0})"
   ]
  },
  {
   "cell_type": "code",
   "execution_count": 38,
   "metadata": {},
   "outputs": [
    {
     "data": {
      "text/html": [
       "<div>\n",
       "<style scoped>\n",
       "    .dataframe tbody tr th:only-of-type {\n",
       "        vertical-align: middle;\n",
       "    }\n",
       "\n",
       "    .dataframe tbody tr th {\n",
       "        vertical-align: top;\n",
       "    }\n",
       "\n",
       "    .dataframe thead th {\n",
       "        text-align: right;\n",
       "    }\n",
       "</style>\n",
       "<table border=\"1\" class=\"dataframe\">\n",
       "  <thead>\n",
       "    <tr style=\"text-align: right;\">\n",
       "      <th></th>\n",
       "      <th>File_name</th>\n",
       "      <th>names</th>\n",
       "      <th>Class</th>\n",
       "    </tr>\n",
       "  </thead>\n",
       "  <tbody>\n",
       "    <tr>\n",
       "      <th>0</th>\n",
       "      <td>d0001.wav</td>\n",
       "      <td>d0001</td>\n",
       "      <td>0</td>\n",
       "    </tr>\n",
       "    <tr>\n",
       "      <th>1</th>\n",
       "      <td>d0002.wav</td>\n",
       "      <td>d0002</td>\n",
       "      <td>1</td>\n",
       "    </tr>\n",
       "    <tr>\n",
       "      <th>2</th>\n",
       "      <td>d0003.wav</td>\n",
       "      <td>d0003</td>\n",
       "      <td>1</td>\n",
       "    </tr>\n",
       "    <tr>\n",
       "      <th>3</th>\n",
       "      <td>d0004.wav</td>\n",
       "      <td>d0004</td>\n",
       "      <td>1</td>\n",
       "    </tr>\n",
       "    <tr>\n",
       "      <th>4</th>\n",
       "      <td>d0005.wav</td>\n",
       "      <td>d0005</td>\n",
       "      <td>0</td>\n",
       "    </tr>\n",
       "  </tbody>\n",
       "</table>\n",
       "</div>"
      ],
      "text/plain": [
       "   File_name  names  Class\n",
       "0  d0001.wav  d0001      0\n",
       "1  d0002.wav  d0002      1\n",
       "2  d0003.wav  d0003      1\n",
       "3  d0004.wav  d0004      1\n",
       "4  d0005.wav  d0005      0"
      ]
     },
     "execution_count": 38,
     "metadata": {},
     "output_type": "execute_result"
    }
   ],
   "source": [
    "metadata_d.head()"
   ]
  },
  {
   "cell_type": "code",
   "execution_count": 39,
   "metadata": {},
   "outputs": [
    {
     "data": {
      "text/plain": [
       "1    28\n",
       "0    27\n",
       "Name: Class, dtype: int64"
      ]
     },
     "execution_count": 39,
     "metadata": {},
     "output_type": "execute_result"
    }
   ],
   "source": [
    "metadata_d['Class'].value_counts()"
   ]
  },
  {
   "cell_type": "code",
   "execution_count": 40,
   "metadata": {},
   "outputs": [
    {
     "name": "stderr",
     "output_type": "stream",
     "text": [
      "55it [00:07,  7.55it/s]\n"
     ]
    }
   ],
   "source": [
    "import numpy as np\n",
    "from tqdm import tqdm\n",
    "### Now we iterate through every audio file and extract features \n",
    "### using Mel-Frequency Cepstral Coefficients\n",
    "extracted_features_d=[]\n",
    "for index_num,row in tqdm(metadata_d.iterrows()):\n",
    "    file_name = os.path.join(os.path.abspath(audio_dataset_path_d),str(row[\"File_name\"]))\n",
    "    final_class_labels=row[\"Class\"]\n",
    "    data=features_extractor(file_name)\n",
    "    extracted_features_d.append([data,final_class_labels])"
   ]
  },
  {
   "cell_type": "code",
   "execution_count": 41,
   "metadata": {},
   "outputs": [
    {
     "data": {
      "text/html": [
       "<div>\n",
       "<style scoped>\n",
       "    .dataframe tbody tr th:only-of-type {\n",
       "        vertical-align: middle;\n",
       "    }\n",
       "\n",
       "    .dataframe tbody tr th {\n",
       "        vertical-align: top;\n",
       "    }\n",
       "\n",
       "    .dataframe thead th {\n",
       "        text-align: right;\n",
       "    }\n",
       "</style>\n",
       "<table border=\"1\" class=\"dataframe\">\n",
       "  <thead>\n",
       "    <tr style=\"text-align: right;\">\n",
       "      <th></th>\n",
       "      <th>feature</th>\n",
       "      <th>class</th>\n",
       "    </tr>\n",
       "  </thead>\n",
       "  <tbody>\n",
       "    <tr>\n",
       "      <th>0</th>\n",
       "      <td>[-593.3391, 80.76215, 68.65943, 52.654858, 36....</td>\n",
       "      <td>0</td>\n",
       "    </tr>\n",
       "    <tr>\n",
       "      <th>1</th>\n",
       "      <td>[-659.3176, 88.1984, 73.341934, 53.485588, 33....</td>\n",
       "      <td>1</td>\n",
       "    </tr>\n",
       "    <tr>\n",
       "      <th>2</th>\n",
       "      <td>[-586.1907, 73.33472, 62.49694, 48.268295, 34....</td>\n",
       "      <td>1</td>\n",
       "    </tr>\n",
       "    <tr>\n",
       "      <th>3</th>\n",
       "      <td>[-729.93585, 136.42511, 104.818634, 64.8677, 2...</td>\n",
       "      <td>1</td>\n",
       "    </tr>\n",
       "    <tr>\n",
       "      <th>4</th>\n",
       "      <td>[-510.3166, 64.93548, 56.87729, 46.201912, 35....</td>\n",
       "      <td>0</td>\n",
       "    </tr>\n",
       "  </tbody>\n",
       "</table>\n",
       "</div>"
      ],
      "text/plain": [
       "                                             feature  class\n",
       "0  [-593.3391, 80.76215, 68.65943, 52.654858, 36....      0\n",
       "1  [-659.3176, 88.1984, 73.341934, 53.485588, 33....      1\n",
       "2  [-586.1907, 73.33472, 62.49694, 48.268295, 34....      1\n",
       "3  [-729.93585, 136.42511, 104.818634, 64.8677, 2...      1\n",
       "4  [-510.3166, 64.93548, 56.87729, 46.201912, 35....      0"
      ]
     },
     "execution_count": 41,
     "metadata": {},
     "output_type": "execute_result"
    }
   ],
   "source": [
    "### converting extracted_features to Pandas dataframe\n",
    "extracted_features_df_d=pd.DataFrame(extracted_features_d,columns=['feature','class'])\n",
    "extracted_features_df_d.head()"
   ]
  },
  {
   "cell_type": "code",
   "execution_count": 42,
   "metadata": {},
   "outputs": [
    {
     "data": {
      "text/plain": [
       "1    28\n",
       "0    27\n",
       "Name: class, dtype: int64"
      ]
     },
     "execution_count": 42,
     "metadata": {},
     "output_type": "execute_result"
    }
   ],
   "source": [
    "extracted_features_df_d[\"class\"].value_counts()"
   ]
  },
  {
   "cell_type": "markdown",
   "metadata": {},
   "source": [
    "# Training e"
   ]
  },
  {
   "cell_type": "code",
   "execution_count": 43,
   "metadata": {},
   "outputs": [],
   "source": [
    "audio_dataset_path_e = 'C:/Users/heera/OneDrive - Heerak/Desktop/Dissertation/traindata/training-e'"
   ]
  },
  {
   "cell_type": "code",
   "execution_count": 44,
   "metadata": {},
   "outputs": [],
   "source": [
    "metadata_e=pd.read_csv('C:/Users/heera/OneDrive - Heerak/Desktop/Dissertation/traindata/training-e/REFERENCE.csv',header= None)"
   ]
  },
  {
   "cell_type": "code",
   "execution_count": 45,
   "metadata": {},
   "outputs": [
    {
     "data": {
      "text/html": [
       "<div>\n",
       "<style scoped>\n",
       "    .dataframe tbody tr th:only-of-type {\n",
       "        vertical-align: middle;\n",
       "    }\n",
       "\n",
       "    .dataframe tbody tr th {\n",
       "        vertical-align: top;\n",
       "    }\n",
       "\n",
       "    .dataframe thead th {\n",
       "        text-align: right;\n",
       "    }\n",
       "</style>\n",
       "<table border=\"1\" class=\"dataframe\">\n",
       "  <thead>\n",
       "    <tr style=\"text-align: right;\">\n",
       "      <th></th>\n",
       "      <th>0</th>\n",
       "      <th>1</th>\n",
       "      <th>2</th>\n",
       "    </tr>\n",
       "  </thead>\n",
       "  <tbody>\n",
       "    <tr>\n",
       "      <th>0</th>\n",
       "      <td>e00001.wav</td>\n",
       "      <td>e00001</td>\n",
       "      <td>-1</td>\n",
       "    </tr>\n",
       "    <tr>\n",
       "      <th>1</th>\n",
       "      <td>e00002.wav</td>\n",
       "      <td>e00002</td>\n",
       "      <td>-1</td>\n",
       "    </tr>\n",
       "    <tr>\n",
       "      <th>2</th>\n",
       "      <td>e00003.wav</td>\n",
       "      <td>e00003</td>\n",
       "      <td>-1</td>\n",
       "    </tr>\n",
       "    <tr>\n",
       "      <th>3</th>\n",
       "      <td>e00004.wav</td>\n",
       "      <td>e00004</td>\n",
       "      <td>-1</td>\n",
       "    </tr>\n",
       "    <tr>\n",
       "      <th>4</th>\n",
       "      <td>e00005.wav</td>\n",
       "      <td>e00005</td>\n",
       "      <td>-1</td>\n",
       "    </tr>\n",
       "  </tbody>\n",
       "</table>\n",
       "</div>"
      ],
      "text/plain": [
       "            0       1  2\n",
       "0  e00001.wav  e00001 -1\n",
       "1  e00002.wav  e00002 -1\n",
       "2  e00003.wav  e00003 -1\n",
       "3  e00004.wav  e00004 -1\n",
       "4  e00005.wav  e00005 -1"
      ]
     },
     "execution_count": 45,
     "metadata": {},
     "output_type": "execute_result"
    }
   ],
   "source": [
    "metadata_e.head()"
   ]
  },
  {
   "cell_type": "code",
   "execution_count": 46,
   "metadata": {},
   "outputs": [],
   "source": [
    "metadata_e = metadata_e.rename(columns={0: \"File_name\",1:\"names\", 2: \"Class\"})"
   ]
  },
  {
   "cell_type": "code",
   "execution_count": 47,
   "metadata": {},
   "outputs": [],
   "source": [
    "metadata_e['Class'] = metadata_e['Class'].map({1: 1, -1: 0})"
   ]
  },
  {
   "cell_type": "code",
   "execution_count": 48,
   "metadata": {},
   "outputs": [
    {
     "data": {
      "text/html": [
       "<div>\n",
       "<style scoped>\n",
       "    .dataframe tbody tr th:only-of-type {\n",
       "        vertical-align: middle;\n",
       "    }\n",
       "\n",
       "    .dataframe tbody tr th {\n",
       "        vertical-align: top;\n",
       "    }\n",
       "\n",
       "    .dataframe thead th {\n",
       "        text-align: right;\n",
       "    }\n",
       "</style>\n",
       "<table border=\"1\" class=\"dataframe\">\n",
       "  <thead>\n",
       "    <tr style=\"text-align: right;\">\n",
       "      <th></th>\n",
       "      <th>File_name</th>\n",
       "      <th>names</th>\n",
       "      <th>Class</th>\n",
       "    </tr>\n",
       "  </thead>\n",
       "  <tbody>\n",
       "    <tr>\n",
       "      <th>0</th>\n",
       "      <td>e00001.wav</td>\n",
       "      <td>e00001</td>\n",
       "      <td>0</td>\n",
       "    </tr>\n",
       "    <tr>\n",
       "      <th>1</th>\n",
       "      <td>e00002.wav</td>\n",
       "      <td>e00002</td>\n",
       "      <td>0</td>\n",
       "    </tr>\n",
       "    <tr>\n",
       "      <th>2</th>\n",
       "      <td>e00003.wav</td>\n",
       "      <td>e00003</td>\n",
       "      <td>0</td>\n",
       "    </tr>\n",
       "    <tr>\n",
       "      <th>3</th>\n",
       "      <td>e00004.wav</td>\n",
       "      <td>e00004</td>\n",
       "      <td>0</td>\n",
       "    </tr>\n",
       "    <tr>\n",
       "      <th>4</th>\n",
       "      <td>e00005.wav</td>\n",
       "      <td>e00005</td>\n",
       "      <td>0</td>\n",
       "    </tr>\n",
       "  </tbody>\n",
       "</table>\n",
       "</div>"
      ],
      "text/plain": [
       "    File_name   names  Class\n",
       "0  e00001.wav  e00001      0\n",
       "1  e00002.wav  e00002      0\n",
       "2  e00003.wav  e00003      0\n",
       "3  e00004.wav  e00004      0\n",
       "4  e00005.wav  e00005      0"
      ]
     },
     "execution_count": 48,
     "metadata": {},
     "output_type": "execute_result"
    }
   ],
   "source": [
    "metadata_e.head()"
   ]
  },
  {
   "cell_type": "code",
   "execution_count": 49,
   "metadata": {},
   "outputs": [
    {
     "data": {
      "text/plain": [
       "0    1958\n",
       "1     183\n",
       "Name: Class, dtype: int64"
      ]
     },
     "execution_count": 49,
     "metadata": {},
     "output_type": "execute_result"
    }
   ],
   "source": [
    "metadata_e['Class'].value_counts()"
   ]
  },
  {
   "cell_type": "code",
   "execution_count": 50,
   "metadata": {},
   "outputs": [
    {
     "name": "stderr",
     "output_type": "stream",
     "text": [
      "2141it [07:05,  5.03it/s]\n"
     ]
    }
   ],
   "source": [
    "import numpy as np\n",
    "from tqdm import tqdm\n",
    "### Now we iterate through every audio file and extract features \n",
    "### using Mel-Frequency Cepstral Coefficients\n",
    "extracted_features_e=[]\n",
    "for index_num,row in tqdm(metadata_e.iterrows()):\n",
    "    file_name = os.path.join(os.path.abspath(audio_dataset_path_e),str(row[\"File_name\"]))\n",
    "    final_class_labels=row[\"Class\"]\n",
    "    data=features_extractor(file_name)\n",
    "    extracted_features_e.append([data,final_class_labels])"
   ]
  },
  {
   "cell_type": "code",
   "execution_count": 51,
   "metadata": {},
   "outputs": [
    {
     "data": {
      "text/html": [
       "<div>\n",
       "<style scoped>\n",
       "    .dataframe tbody tr th:only-of-type {\n",
       "        vertical-align: middle;\n",
       "    }\n",
       "\n",
       "    .dataframe tbody tr th {\n",
       "        vertical-align: top;\n",
       "    }\n",
       "\n",
       "    .dataframe thead th {\n",
       "        text-align: right;\n",
       "    }\n",
       "</style>\n",
       "<table border=\"1\" class=\"dataframe\">\n",
       "  <thead>\n",
       "    <tr style=\"text-align: right;\">\n",
       "      <th></th>\n",
       "      <th>feature</th>\n",
       "      <th>class</th>\n",
       "    </tr>\n",
       "  </thead>\n",
       "  <tbody>\n",
       "    <tr>\n",
       "      <th>0</th>\n",
       "      <td>[-465.1559, 41.453213, 35.34255, 27.562836, 20...</td>\n",
       "      <td>0</td>\n",
       "    </tr>\n",
       "    <tr>\n",
       "      <th>1</th>\n",
       "      <td>[-538.3001, 99.9056, 79.675835, 53.92516, 30.8...</td>\n",
       "      <td>0</td>\n",
       "    </tr>\n",
       "    <tr>\n",
       "      <th>2</th>\n",
       "      <td>[-474.03848, 114.84031, 88.07827, 54.94203, 26...</td>\n",
       "      <td>0</td>\n",
       "    </tr>\n",
       "    <tr>\n",
       "      <th>3</th>\n",
       "      <td>[-464.6292, 111.15359, 87.399796, 57.478626, 3...</td>\n",
       "      <td>0</td>\n",
       "    </tr>\n",
       "    <tr>\n",
       "      <th>4</th>\n",
       "      <td>[-483.5378, 114.851746, 82.261215, 42.617752, ...</td>\n",
       "      <td>0</td>\n",
       "    </tr>\n",
       "  </tbody>\n",
       "</table>\n",
       "</div>"
      ],
      "text/plain": [
       "                                             feature  class\n",
       "0  [-465.1559, 41.453213, 35.34255, 27.562836, 20...      0\n",
       "1  [-538.3001, 99.9056, 79.675835, 53.92516, 30.8...      0\n",
       "2  [-474.03848, 114.84031, 88.07827, 54.94203, 26...      0\n",
       "3  [-464.6292, 111.15359, 87.399796, 57.478626, 3...      0\n",
       "4  [-483.5378, 114.851746, 82.261215, 42.617752, ...      0"
      ]
     },
     "execution_count": 51,
     "metadata": {},
     "output_type": "execute_result"
    }
   ],
   "source": [
    "### converting extracted_features to Pandas dataframe\n",
    "extracted_features_df_e=pd.DataFrame(extracted_features_e,columns=['feature','class'])\n",
    "extracted_features_df_e.head()"
   ]
  },
  {
   "cell_type": "code",
   "execution_count": 52,
   "metadata": {},
   "outputs": [
    {
     "data": {
      "text/plain": [
       "0    1958\n",
       "1     183\n",
       "Name: class, dtype: int64"
      ]
     },
     "execution_count": 52,
     "metadata": {},
     "output_type": "execute_result"
    }
   ],
   "source": [
    "extracted_features_df_e[\"class\"].value_counts()"
   ]
  },
  {
   "cell_type": "markdown",
   "metadata": {},
   "source": [
    "# Training f"
   ]
  },
  {
   "cell_type": "code",
   "execution_count": 53,
   "metadata": {},
   "outputs": [],
   "source": [
    "audio_dataset_path_f = 'C:/Users/heera/OneDrive - Heerak/Desktop/Dissertation/traindata/training-f'"
   ]
  },
  {
   "cell_type": "code",
   "execution_count": 54,
   "metadata": {},
   "outputs": [],
   "source": [
    "metadata_f=pd.read_csv('C:/Users/heera/OneDrive - Heerak/Desktop/Dissertation/traindata/training-f/REFERENCE.csv',header= None)"
   ]
  },
  {
   "cell_type": "code",
   "execution_count": 55,
   "metadata": {},
   "outputs": [
    {
     "data": {
      "text/html": [
       "<div>\n",
       "<style scoped>\n",
       "    .dataframe tbody tr th:only-of-type {\n",
       "        vertical-align: middle;\n",
       "    }\n",
       "\n",
       "    .dataframe tbody tr th {\n",
       "        vertical-align: top;\n",
       "    }\n",
       "\n",
       "    .dataframe thead th {\n",
       "        text-align: right;\n",
       "    }\n",
       "</style>\n",
       "<table border=\"1\" class=\"dataframe\">\n",
       "  <thead>\n",
       "    <tr style=\"text-align: right;\">\n",
       "      <th></th>\n",
       "      <th>0</th>\n",
       "      <th>1</th>\n",
       "      <th>2</th>\n",
       "    </tr>\n",
       "  </thead>\n",
       "  <tbody>\n",
       "    <tr>\n",
       "      <th>0</th>\n",
       "      <td>f0001.wav</td>\n",
       "      <td>f0001</td>\n",
       "      <td>-1</td>\n",
       "    </tr>\n",
       "    <tr>\n",
       "      <th>1</th>\n",
       "      <td>f0002.wav</td>\n",
       "      <td>f0002</td>\n",
       "      <td>-1</td>\n",
       "    </tr>\n",
       "    <tr>\n",
       "      <th>2</th>\n",
       "      <td>f0003.wav</td>\n",
       "      <td>f0003</td>\n",
       "      <td>1</td>\n",
       "    </tr>\n",
       "    <tr>\n",
       "      <th>3</th>\n",
       "      <td>f0004.wav</td>\n",
       "      <td>f0004</td>\n",
       "      <td>-1</td>\n",
       "    </tr>\n",
       "    <tr>\n",
       "      <th>4</th>\n",
       "      <td>f0005.wav</td>\n",
       "      <td>f0005</td>\n",
       "      <td>-1</td>\n",
       "    </tr>\n",
       "  </tbody>\n",
       "</table>\n",
       "</div>"
      ],
      "text/plain": [
       "           0      1  2\n",
       "0  f0001.wav  f0001 -1\n",
       "1  f0002.wav  f0002 -1\n",
       "2  f0003.wav  f0003  1\n",
       "3  f0004.wav  f0004 -1\n",
       "4  f0005.wav  f0005 -1"
      ]
     },
     "execution_count": 55,
     "metadata": {},
     "output_type": "execute_result"
    }
   ],
   "source": [
    "metadata_f.head()"
   ]
  },
  {
   "cell_type": "code",
   "execution_count": 56,
   "metadata": {},
   "outputs": [],
   "source": [
    "metadata_f = metadata_f.rename(columns={0: \"File_name\",1:\"names\", 2: \"Class\"})"
   ]
  },
  {
   "cell_type": "code",
   "execution_count": 57,
   "metadata": {},
   "outputs": [],
   "source": [
    "metadata_f['Class'] = metadata_f['Class'].map({1: 1, -1: 0})"
   ]
  },
  {
   "cell_type": "code",
   "execution_count": 58,
   "metadata": {},
   "outputs": [
    {
     "data": {
      "text/html": [
       "<div>\n",
       "<style scoped>\n",
       "    .dataframe tbody tr th:only-of-type {\n",
       "        vertical-align: middle;\n",
       "    }\n",
       "\n",
       "    .dataframe tbody tr th {\n",
       "        vertical-align: top;\n",
       "    }\n",
       "\n",
       "    .dataframe thead th {\n",
       "        text-align: right;\n",
       "    }\n",
       "</style>\n",
       "<table border=\"1\" class=\"dataframe\">\n",
       "  <thead>\n",
       "    <tr style=\"text-align: right;\">\n",
       "      <th></th>\n",
       "      <th>File_name</th>\n",
       "      <th>names</th>\n",
       "      <th>Class</th>\n",
       "    </tr>\n",
       "  </thead>\n",
       "  <tbody>\n",
       "    <tr>\n",
       "      <th>0</th>\n",
       "      <td>f0001.wav</td>\n",
       "      <td>f0001</td>\n",
       "      <td>0</td>\n",
       "    </tr>\n",
       "    <tr>\n",
       "      <th>1</th>\n",
       "      <td>f0002.wav</td>\n",
       "      <td>f0002</td>\n",
       "      <td>0</td>\n",
       "    </tr>\n",
       "    <tr>\n",
       "      <th>2</th>\n",
       "      <td>f0003.wav</td>\n",
       "      <td>f0003</td>\n",
       "      <td>1</td>\n",
       "    </tr>\n",
       "    <tr>\n",
       "      <th>3</th>\n",
       "      <td>f0004.wav</td>\n",
       "      <td>f0004</td>\n",
       "      <td>0</td>\n",
       "    </tr>\n",
       "    <tr>\n",
       "      <th>4</th>\n",
       "      <td>f0005.wav</td>\n",
       "      <td>f0005</td>\n",
       "      <td>0</td>\n",
       "    </tr>\n",
       "  </tbody>\n",
       "</table>\n",
       "</div>"
      ],
      "text/plain": [
       "   File_name  names  Class\n",
       "0  f0001.wav  f0001      0\n",
       "1  f0002.wav  f0002      0\n",
       "2  f0003.wav  f0003      1\n",
       "3  f0004.wav  f0004      0\n",
       "4  f0005.wav  f0005      0"
      ]
     },
     "execution_count": 58,
     "metadata": {},
     "output_type": "execute_result"
    }
   ],
   "source": [
    "metadata_f.head()"
   ]
  },
  {
   "cell_type": "code",
   "execution_count": 59,
   "metadata": {},
   "outputs": [
    {
     "data": {
      "text/plain": [
       "0    80\n",
       "1    34\n",
       "Name: Class, dtype: int64"
      ]
     },
     "execution_count": 59,
     "metadata": {},
     "output_type": "execute_result"
    }
   ],
   "source": [
    "metadata_f['Class'].value_counts()"
   ]
  },
  {
   "cell_type": "code",
   "execution_count": 60,
   "metadata": {},
   "outputs": [
    {
     "name": "stderr",
     "output_type": "stream",
     "text": [
      "114it [00:31,  3.66it/s]\n"
     ]
    }
   ],
   "source": [
    "import numpy as np\n",
    "from tqdm import tqdm\n",
    "### Now we iterate through every audio file and extract features \n",
    "### using Mel-Frequency Cepstral Coefficients\n",
    "extracted_features_f=[]\n",
    "for index_num,row in tqdm(metadata_f.iterrows()):\n",
    "    file_name = os.path.join(os.path.abspath(audio_dataset_path_f),str(row[\"File_name\"]))\n",
    "    final_class_labels=row[\"Class\"]\n",
    "    data=features_extractor(file_name)\n",
    "    extracted_features_f.append([data,final_class_labels])"
   ]
  },
  {
   "cell_type": "code",
   "execution_count": 61,
   "metadata": {},
   "outputs": [
    {
     "data": {
      "text/html": [
       "<div>\n",
       "<style scoped>\n",
       "    .dataframe tbody tr th:only-of-type {\n",
       "        vertical-align: middle;\n",
       "    }\n",
       "\n",
       "    .dataframe tbody tr th {\n",
       "        vertical-align: top;\n",
       "    }\n",
       "\n",
       "    .dataframe thead th {\n",
       "        text-align: right;\n",
       "    }\n",
       "</style>\n",
       "<table border=\"1\" class=\"dataframe\">\n",
       "  <thead>\n",
       "    <tr style=\"text-align: right;\">\n",
       "      <th></th>\n",
       "      <th>feature</th>\n",
       "      <th>class</th>\n",
       "    </tr>\n",
       "  </thead>\n",
       "  <tbody>\n",
       "    <tr>\n",
       "      <th>0</th>\n",
       "      <td>[-472.2643, 122.521996, 92.91784, 55.355717, 2...</td>\n",
       "      <td>0</td>\n",
       "    </tr>\n",
       "    <tr>\n",
       "      <th>1</th>\n",
       "      <td>[-462.62396, 129.87538, 96.16401, 53.973408, 1...</td>\n",
       "      <td>0</td>\n",
       "    </tr>\n",
       "    <tr>\n",
       "      <th>2</th>\n",
       "      <td>[-478.85098, 149.49686, 107.33791, 55.324066, ...</td>\n",
       "      <td>1</td>\n",
       "    </tr>\n",
       "    <tr>\n",
       "      <th>3</th>\n",
       "      <td>[-458.41324, 137.59424, 102.75637, 58.65173, 1...</td>\n",
       "      <td>0</td>\n",
       "    </tr>\n",
       "    <tr>\n",
       "      <th>4</th>\n",
       "      <td>[-471.18918, 133.73604, 99.22543, 56.17369, 19...</td>\n",
       "      <td>0</td>\n",
       "    </tr>\n",
       "  </tbody>\n",
       "</table>\n",
       "</div>"
      ],
      "text/plain": [
       "                                             feature  class\n",
       "0  [-472.2643, 122.521996, 92.91784, 55.355717, 2...      0\n",
       "1  [-462.62396, 129.87538, 96.16401, 53.973408, 1...      0\n",
       "2  [-478.85098, 149.49686, 107.33791, 55.324066, ...      1\n",
       "3  [-458.41324, 137.59424, 102.75637, 58.65173, 1...      0\n",
       "4  [-471.18918, 133.73604, 99.22543, 56.17369, 19...      0"
      ]
     },
     "execution_count": 61,
     "metadata": {},
     "output_type": "execute_result"
    }
   ],
   "source": [
    "### converting extracted_features to Pandas dataframe\n",
    "extracted_features_df_f=pd.DataFrame(extracted_features_f,columns=['feature','class'])\n",
    "extracted_features_df_f.head()"
   ]
  },
  {
   "cell_type": "code",
   "execution_count": 62,
   "metadata": {},
   "outputs": [
    {
     "data": {
      "text/plain": [
       "0    80\n",
       "1    34\n",
       "Name: class, dtype: int64"
      ]
     },
     "execution_count": 62,
     "metadata": {},
     "output_type": "execute_result"
    }
   ],
   "source": [
    "extracted_features_df_f[\"class\"].value_counts()"
   ]
  },
  {
   "cell_type": "markdown",
   "metadata": {},
   "source": [
    "# Merge training-a,training-b,training-c,training-d,training-e,training-f"
   ]
  },
  {
   "cell_type": "code",
   "execution_count": 63,
   "metadata": {},
   "outputs": [],
   "source": [
    "extracted_features_df = pd.concat([extracted_features_df_a, extracted_features_df_b , extracted_features_df_c , extracted_features_df_d ,extracted_features_df_e , extracted_features_df_f])"
   ]
  },
  {
   "cell_type": "code",
   "execution_count": 64,
   "metadata": {},
   "outputs": [
    {
     "data": {
      "text/plain": [
       "0    2575\n",
       "1     665\n",
       "Name: class, dtype: int64"
      ]
     },
     "execution_count": 64,
     "metadata": {},
     "output_type": "execute_result"
    }
   ],
   "source": [
    "extracted_features_df[\"class\"].value_counts()"
   ]
  },
  {
   "cell_type": "code",
   "execution_count": 65,
   "metadata": {},
   "outputs": [
    {
     "data": {
      "text/html": [
       "<div>\n",
       "<style scoped>\n",
       "    .dataframe tbody tr th:only-of-type {\n",
       "        vertical-align: middle;\n",
       "    }\n",
       "\n",
       "    .dataframe tbody tr th {\n",
       "        vertical-align: top;\n",
       "    }\n",
       "\n",
       "    .dataframe thead th {\n",
       "        text-align: right;\n",
       "    }\n",
       "</style>\n",
       "<table border=\"1\" class=\"dataframe\">\n",
       "  <thead>\n",
       "    <tr style=\"text-align: right;\">\n",
       "      <th></th>\n",
       "      <th>feature</th>\n",
       "      <th>class</th>\n",
       "    </tr>\n",
       "  </thead>\n",
       "  <tbody>\n",
       "    <tr>\n",
       "      <th>0</th>\n",
       "      <td>[-577.74457, 116.68117, 82.45421, 40.931873, 7...</td>\n",
       "      <td>1</td>\n",
       "    </tr>\n",
       "    <tr>\n",
       "      <th>1</th>\n",
       "      <td>[-628.8163, 136.51126, 100.357864, 56.20959, 1...</td>\n",
       "      <td>1</td>\n",
       "    </tr>\n",
       "    <tr>\n",
       "      <th>2</th>\n",
       "      <td>[-601.1834, 77.22223, 61.623146, 42.22163, 25....</td>\n",
       "      <td>1</td>\n",
       "    </tr>\n",
       "    <tr>\n",
       "      <th>3</th>\n",
       "      <td>[-562.589, 88.77356, 71.55774, 49.522438, 29.5...</td>\n",
       "      <td>1</td>\n",
       "    </tr>\n",
       "    <tr>\n",
       "      <th>4</th>\n",
       "      <td>[-489.47345, 65.72582, 57.030285, 45.383488, 3...</td>\n",
       "      <td>1</td>\n",
       "    </tr>\n",
       "  </tbody>\n",
       "</table>\n",
       "</div>"
      ],
      "text/plain": [
       "                                             feature  class\n",
       "0  [-577.74457, 116.68117, 82.45421, 40.931873, 7...      1\n",
       "1  [-628.8163, 136.51126, 100.357864, 56.20959, 1...      1\n",
       "2  [-601.1834, 77.22223, 61.623146, 42.22163, 25....      1\n",
       "3  [-562.589, 88.77356, 71.55774, 49.522438, 29.5...      1\n",
       "4  [-489.47345, 65.72582, 57.030285, 45.383488, 3...      1"
      ]
     },
     "execution_count": 65,
     "metadata": {},
     "output_type": "execute_result"
    }
   ],
   "source": [
    "extracted_features_df.head()"
   ]
  },
  {
   "cell_type": "markdown",
   "metadata": {},
   "source": [
    "# Split the Dataset and balance the y variable"
   ]
  },
  {
   "cell_type": "code",
   "execution_count": 66,
   "metadata": {},
   "outputs": [],
   "source": [
    "### Split the dataset into independent and dependent dataset\n",
    "X=np.array(extracted_features_df['feature'].tolist())\n",
    "y=np.array(extracted_features_df['class'].tolist())"
   ]
  },
  {
   "cell_type": "code",
   "execution_count": 67,
   "metadata": {},
   "outputs": [
    {
     "data": {
      "text/plain": [
       "(3240, 40)"
      ]
     },
     "execution_count": 67,
     "metadata": {},
     "output_type": "execute_result"
    }
   ],
   "source": [
    "X.shape"
   ]
  },
  {
   "cell_type": "code",
   "execution_count": 68,
   "metadata": {},
   "outputs": [],
   "source": [
    "f = pd.DataFrame(data = X)"
   ]
  },
  {
   "cell_type": "code",
   "execution_count": 69,
   "metadata": {},
   "outputs": [
    {
     "data": {
      "text/html": [
       "<div>\n",
       "<style scoped>\n",
       "    .dataframe tbody tr th:only-of-type {\n",
       "        vertical-align: middle;\n",
       "    }\n",
       "\n",
       "    .dataframe tbody tr th {\n",
       "        vertical-align: top;\n",
       "    }\n",
       "\n",
       "    .dataframe thead th {\n",
       "        text-align: right;\n",
       "    }\n",
       "</style>\n",
       "<table border=\"1\" class=\"dataframe\">\n",
       "  <thead>\n",
       "    <tr style=\"text-align: right;\">\n",
       "      <th></th>\n",
       "      <th>0</th>\n",
       "      <th>1</th>\n",
       "      <th>2</th>\n",
       "      <th>3</th>\n",
       "      <th>4</th>\n",
       "      <th>5</th>\n",
       "      <th>6</th>\n",
       "      <th>7</th>\n",
       "      <th>8</th>\n",
       "      <th>9</th>\n",
       "      <th>...</th>\n",
       "      <th>30</th>\n",
       "      <th>31</th>\n",
       "      <th>32</th>\n",
       "      <th>33</th>\n",
       "      <th>34</th>\n",
       "      <th>35</th>\n",
       "      <th>36</th>\n",
       "      <th>37</th>\n",
       "      <th>38</th>\n",
       "      <th>39</th>\n",
       "    </tr>\n",
       "  </thead>\n",
       "  <tbody>\n",
       "    <tr>\n",
       "      <th>0</th>\n",
       "      <td>-577.744568</td>\n",
       "      <td>116.681168</td>\n",
       "      <td>82.454208</td>\n",
       "      <td>40.931873</td>\n",
       "      <td>7.485605</td>\n",
       "      <td>-7.887007</td>\n",
       "      <td>-4.491601</td>\n",
       "      <td>10.008358</td>\n",
       "      <td>24.508472</td>\n",
       "      <td>30.438593</td>\n",
       "      <td>...</td>\n",
       "      <td>3.970105</td>\n",
       "      <td>5.994569</td>\n",
       "      <td>5.839571</td>\n",
       "      <td>3.671602</td>\n",
       "      <td>0.848826</td>\n",
       "      <td>-1.004319</td>\n",
       "      <td>-1.004396</td>\n",
       "      <td>0.530715</td>\n",
       "      <td>2.398161</td>\n",
       "      <td>3.331668</td>\n",
       "    </tr>\n",
       "    <tr>\n",
       "      <th>1</th>\n",
       "      <td>-628.816284</td>\n",
       "      <td>136.511261</td>\n",
       "      <td>100.357864</td>\n",
       "      <td>56.209591</td>\n",
       "      <td>19.551243</td>\n",
       "      <td>0.428206</td>\n",
       "      <td>-0.259094</td>\n",
       "      <td>10.158183</td>\n",
       "      <td>21.104572</td>\n",
       "      <td>24.655876</td>\n",
       "      <td>...</td>\n",
       "      <td>2.601242</td>\n",
       "      <td>3.507886</td>\n",
       "      <td>2.841200</td>\n",
       "      <td>1.227278</td>\n",
       "      <td>-0.146953</td>\n",
       "      <td>-0.405241</td>\n",
       "      <td>0.449801</td>\n",
       "      <td>1.629177</td>\n",
       "      <td>2.186589</td>\n",
       "      <td>1.692338</td>\n",
       "    </tr>\n",
       "  </tbody>\n",
       "</table>\n",
       "<p>2 rows × 40 columns</p>\n",
       "</div>"
      ],
      "text/plain": [
       "           0           1           2          3          4         5   \\\n",
       "0 -577.744568  116.681168   82.454208  40.931873   7.485605 -7.887007   \n",
       "1 -628.816284  136.511261  100.357864  56.209591  19.551243  0.428206   \n",
       "\n",
       "         6          7          8          9   ...        30        31  \\\n",
       "0 -4.491601  10.008358  24.508472  30.438593  ...  3.970105  5.994569   \n",
       "1 -0.259094  10.158183  21.104572  24.655876  ...  2.601242  3.507886   \n",
       "\n",
       "         32        33        34        35        36        37        38  \\\n",
       "0  5.839571  3.671602  0.848826 -1.004319 -1.004396  0.530715  2.398161   \n",
       "1  2.841200  1.227278 -0.146953 -0.405241  0.449801  1.629177  2.186589   \n",
       "\n",
       "         39  \n",
       "0  3.331668  \n",
       "1  1.692338  \n",
       "\n",
       "[2 rows x 40 columns]"
      ]
     },
     "execution_count": 69,
     "metadata": {},
     "output_type": "execute_result"
    }
   ],
   "source": [
    "f.head(2)"
   ]
  },
  {
   "cell_type": "code",
   "execution_count": 70,
   "metadata": {},
   "outputs": [
    {
     "data": {
      "text/plain": [
       "(3240, 40)"
      ]
     },
     "execution_count": 70,
     "metadata": {},
     "output_type": "execute_result"
    }
   ],
   "source": [
    "f.shape"
   ]
  },
  {
   "cell_type": "code",
   "execution_count": 71,
   "metadata": {},
   "outputs": [
    {
     "data": {
      "text/plain": [
       "(3240,)"
      ]
     },
     "execution_count": 71,
     "metadata": {},
     "output_type": "execute_result"
    }
   ],
   "source": [
    "y.shape"
   ]
  },
  {
   "cell_type": "code",
   "execution_count": 72,
   "metadata": {},
   "outputs": [],
   "source": [
    "c = pd.DataFrame(data = y)"
   ]
  },
  {
   "cell_type": "code",
   "execution_count": 73,
   "metadata": {},
   "outputs": [
    {
     "data": {
      "text/html": [
       "<div>\n",
       "<style scoped>\n",
       "    .dataframe tbody tr th:only-of-type {\n",
       "        vertical-align: middle;\n",
       "    }\n",
       "\n",
       "    .dataframe tbody tr th {\n",
       "        vertical-align: top;\n",
       "    }\n",
       "\n",
       "    .dataframe thead th {\n",
       "        text-align: right;\n",
       "    }\n",
       "</style>\n",
       "<table border=\"1\" class=\"dataframe\">\n",
       "  <thead>\n",
       "    <tr style=\"text-align: right;\">\n",
       "      <th></th>\n",
       "      <th>0</th>\n",
       "    </tr>\n",
       "  </thead>\n",
       "  <tbody>\n",
       "    <tr>\n",
       "      <th>0</th>\n",
       "      <td>1</td>\n",
       "    </tr>\n",
       "    <tr>\n",
       "      <th>1</th>\n",
       "      <td>1</td>\n",
       "    </tr>\n",
       "  </tbody>\n",
       "</table>\n",
       "</div>"
      ],
      "text/plain": [
       "   0\n",
       "0  1\n",
       "1  1"
      ]
     },
     "execution_count": 73,
     "metadata": {},
     "output_type": "execute_result"
    }
   ],
   "source": [
    "c.head(2)"
   ]
  },
  {
   "cell_type": "code",
   "execution_count": 74,
   "metadata": {},
   "outputs": [
    {
     "data": {
      "text/plain": [
       "(3240, 1)"
      ]
     },
     "execution_count": 74,
     "metadata": {},
     "output_type": "execute_result"
    }
   ],
   "source": [
    "c.shape"
   ]
  },
  {
   "cell_type": "code",
   "execution_count": 75,
   "metadata": {},
   "outputs": [],
   "source": [
    "merged = pd.concat([f, c], axis=1)"
   ]
  },
  {
   "cell_type": "code",
   "execution_count": 76,
   "metadata": {},
   "outputs": [
    {
     "data": {
      "text/html": [
       "<div>\n",
       "<style scoped>\n",
       "    .dataframe tbody tr th:only-of-type {\n",
       "        vertical-align: middle;\n",
       "    }\n",
       "\n",
       "    .dataframe tbody tr th {\n",
       "        vertical-align: top;\n",
       "    }\n",
       "\n",
       "    .dataframe thead th {\n",
       "        text-align: right;\n",
       "    }\n",
       "</style>\n",
       "<table border=\"1\" class=\"dataframe\">\n",
       "  <thead>\n",
       "    <tr style=\"text-align: right;\">\n",
       "      <th></th>\n",
       "      <th>0</th>\n",
       "      <th>1</th>\n",
       "      <th>2</th>\n",
       "      <th>3</th>\n",
       "      <th>4</th>\n",
       "      <th>5</th>\n",
       "      <th>6</th>\n",
       "      <th>7</th>\n",
       "      <th>8</th>\n",
       "      <th>9</th>\n",
       "      <th>...</th>\n",
       "      <th>31</th>\n",
       "      <th>32</th>\n",
       "      <th>33</th>\n",
       "      <th>34</th>\n",
       "      <th>35</th>\n",
       "      <th>36</th>\n",
       "      <th>37</th>\n",
       "      <th>38</th>\n",
       "      <th>39</th>\n",
       "      <th>0</th>\n",
       "    </tr>\n",
       "  </thead>\n",
       "  <tbody>\n",
       "    <tr>\n",
       "      <th>0</th>\n",
       "      <td>-577.744568</td>\n",
       "      <td>116.681168</td>\n",
       "      <td>82.454208</td>\n",
       "      <td>40.931873</td>\n",
       "      <td>7.485605</td>\n",
       "      <td>-7.887007</td>\n",
       "      <td>-4.491601</td>\n",
       "      <td>10.008358</td>\n",
       "      <td>24.508472</td>\n",
       "      <td>30.438593</td>\n",
       "      <td>...</td>\n",
       "      <td>5.994569</td>\n",
       "      <td>5.839571</td>\n",
       "      <td>3.671602</td>\n",
       "      <td>0.848826</td>\n",
       "      <td>-1.004319</td>\n",
       "      <td>-1.004396</td>\n",
       "      <td>0.530715</td>\n",
       "      <td>2.398161</td>\n",
       "      <td>3.331668</td>\n",
       "      <td>1</td>\n",
       "    </tr>\n",
       "    <tr>\n",
       "      <th>1</th>\n",
       "      <td>-628.816284</td>\n",
       "      <td>136.511261</td>\n",
       "      <td>100.357864</td>\n",
       "      <td>56.209591</td>\n",
       "      <td>19.551243</td>\n",
       "      <td>0.428206</td>\n",
       "      <td>-0.259094</td>\n",
       "      <td>10.158183</td>\n",
       "      <td>21.104572</td>\n",
       "      <td>24.655876</td>\n",
       "      <td>...</td>\n",
       "      <td>3.507886</td>\n",
       "      <td>2.841200</td>\n",
       "      <td>1.227278</td>\n",
       "      <td>-0.146953</td>\n",
       "      <td>-0.405241</td>\n",
       "      <td>0.449801</td>\n",
       "      <td>1.629177</td>\n",
       "      <td>2.186589</td>\n",
       "      <td>1.692338</td>\n",
       "      <td>1</td>\n",
       "    </tr>\n",
       "    <tr>\n",
       "      <th>2</th>\n",
       "      <td>-601.183411</td>\n",
       "      <td>77.222229</td>\n",
       "      <td>61.623146</td>\n",
       "      <td>42.221630</td>\n",
       "      <td>25.632828</td>\n",
       "      <td>16.337782</td>\n",
       "      <td>15.002048</td>\n",
       "      <td>18.738729</td>\n",
       "      <td>23.003593</td>\n",
       "      <td>24.039801</td>\n",
       "      <td>...</td>\n",
       "      <td>2.748103</td>\n",
       "      <td>2.922751</td>\n",
       "      <td>2.290715</td>\n",
       "      <td>1.166961</td>\n",
       "      <td>0.225971</td>\n",
       "      <td>0.042497</td>\n",
       "      <td>0.699116</td>\n",
       "      <td>1.713670</td>\n",
       "      <td>2.332496</td>\n",
       "      <td>1</td>\n",
       "    </tr>\n",
       "    <tr>\n",
       "      <th>3</th>\n",
       "      <td>-562.588989</td>\n",
       "      <td>88.773560</td>\n",
       "      <td>71.557739</td>\n",
       "      <td>49.522438</td>\n",
       "      <td>29.541950</td>\n",
       "      <td>16.664858</td>\n",
       "      <td>12.350879</td>\n",
       "      <td>14.427670</td>\n",
       "      <td>18.631382</td>\n",
       "      <td>20.879950</td>\n",
       "      <td>...</td>\n",
       "      <td>0.984788</td>\n",
       "      <td>1.662023</td>\n",
       "      <td>2.113323</td>\n",
       "      <td>2.125078</td>\n",
       "      <td>1.752352</td>\n",
       "      <td>1.235468</td>\n",
       "      <td>0.835051</td>\n",
       "      <td>0.692907</td>\n",
       "      <td>0.788556</td>\n",
       "      <td>1</td>\n",
       "    </tr>\n",
       "    <tr>\n",
       "      <th>4</th>\n",
       "      <td>-489.473450</td>\n",
       "      <td>65.725822</td>\n",
       "      <td>57.030285</td>\n",
       "      <td>45.383488</td>\n",
       "      <td>33.820339</td>\n",
       "      <td>24.795256</td>\n",
       "      <td>19.436211</td>\n",
       "      <td>17.373821</td>\n",
       "      <td>17.174334</td>\n",
       "      <td>17.152473</td>\n",
       "      <td>...</td>\n",
       "      <td>2.122123</td>\n",
       "      <td>2.094586</td>\n",
       "      <td>2.164926</td>\n",
       "      <td>2.183312</td>\n",
       "      <td>2.057845</td>\n",
       "      <td>1.794090</td>\n",
       "      <td>1.474256</td>\n",
       "      <td>1.199110</td>\n",
       "      <td>1.032410</td>\n",
       "      <td>1</td>\n",
       "    </tr>\n",
       "    <tr>\n",
       "      <th>5</th>\n",
       "      <td>-521.912231</td>\n",
       "      <td>109.789894</td>\n",
       "      <td>83.131897</td>\n",
       "      <td>51.075043</td>\n",
       "      <td>25.148706</td>\n",
       "      <td>12.496006</td>\n",
       "      <td>13.276185</td>\n",
       "      <td>21.479649</td>\n",
       "      <td>28.873482</td>\n",
       "      <td>29.626736</td>\n",
       "      <td>...</td>\n",
       "      <td>3.874432</td>\n",
       "      <td>3.368307</td>\n",
       "      <td>1.625785</td>\n",
       "      <td>-0.220157</td>\n",
       "      <td>-1.024072</td>\n",
       "      <td>-0.356238</td>\n",
       "      <td>1.263884</td>\n",
       "      <td>2.738425</td>\n",
       "      <td>3.091081</td>\n",
       "      <td>1</td>\n",
       "    </tr>\n",
       "    <tr>\n",
       "      <th>6</th>\n",
       "      <td>-498.956665</td>\n",
       "      <td>72.541809</td>\n",
       "      <td>63.870949</td>\n",
       "      <td>52.172474</td>\n",
       "      <td>40.260586</td>\n",
       "      <td>30.402330</td>\n",
       "      <td>23.705975</td>\n",
       "      <td>19.943716</td>\n",
       "      <td>17.949722</td>\n",
       "      <td>16.366316</td>\n",
       "      <td>...</td>\n",
       "      <td>1.218547</td>\n",
       "      <td>1.346841</td>\n",
       "      <td>1.449242</td>\n",
       "      <td>1.451255</td>\n",
       "      <td>1.343598</td>\n",
       "      <td>1.173696</td>\n",
       "      <td>1.008720</td>\n",
       "      <td>0.897983</td>\n",
       "      <td>0.852941</td>\n",
       "      <td>0</td>\n",
       "    </tr>\n",
       "    <tr>\n",
       "      <th>7</th>\n",
       "      <td>-608.290039</td>\n",
       "      <td>121.804886</td>\n",
       "      <td>83.961304</td>\n",
       "      <td>39.375343</td>\n",
       "      <td>5.452353</td>\n",
       "      <td>-7.348024</td>\n",
       "      <td>0.268497</td>\n",
       "      <td>18.132322</td>\n",
       "      <td>33.093048</td>\n",
       "      <td>36.229198</td>\n",
       "      <td>...</td>\n",
       "      <td>3.747848</td>\n",
       "      <td>3.705591</td>\n",
       "      <td>2.851964</td>\n",
       "      <td>2.033481</td>\n",
       "      <td>1.847434</td>\n",
       "      <td>2.232020</td>\n",
       "      <td>2.619894</td>\n",
       "      <td>2.462989</td>\n",
       "      <td>1.681644</td>\n",
       "      <td>1</td>\n",
       "    </tr>\n",
       "    <tr>\n",
       "      <th>8</th>\n",
       "      <td>-637.361816</td>\n",
       "      <td>136.915863</td>\n",
       "      <td>91.050957</td>\n",
       "      <td>37.788876</td>\n",
       "      <td>-1.203433</td>\n",
       "      <td>-13.863134</td>\n",
       "      <td>-2.607932</td>\n",
       "      <td>18.966412</td>\n",
       "      <td>34.974941</td>\n",
       "      <td>36.172955</td>\n",
       "      <td>...</td>\n",
       "      <td>3.691612</td>\n",
       "      <td>2.384445</td>\n",
       "      <td>0.977667</td>\n",
       "      <td>0.475651</td>\n",
       "      <td>0.934388</td>\n",
       "      <td>1.584123</td>\n",
       "      <td>1.558784</td>\n",
       "      <td>0.596325</td>\n",
       "      <td>-0.809997</td>\n",
       "      <td>0</td>\n",
       "    </tr>\n",
       "    <tr>\n",
       "      <th>9</th>\n",
       "      <td>-618.426880</td>\n",
       "      <td>119.006699</td>\n",
       "      <td>87.037468</td>\n",
       "      <td>48.069096</td>\n",
       "      <td>16.157154</td>\n",
       "      <td>0.287781</td>\n",
       "      <td>0.918467</td>\n",
       "      <td>11.101500</td>\n",
       "      <td>21.160604</td>\n",
       "      <td>24.063671</td>\n",
       "      <td>...</td>\n",
       "      <td>3.019052</td>\n",
       "      <td>2.170335</td>\n",
       "      <td>0.621219</td>\n",
       "      <td>-0.567352</td>\n",
       "      <td>-0.703185</td>\n",
       "      <td>0.121662</td>\n",
       "      <td>1.192087</td>\n",
       "      <td>1.730130</td>\n",
       "      <td>1.425894</td>\n",
       "      <td>1</td>\n",
       "    </tr>\n",
       "  </tbody>\n",
       "</table>\n",
       "<p>10 rows × 41 columns</p>\n",
       "</div>"
      ],
      "text/plain": [
       "           0           1           2          3          4          5   \\\n",
       "0 -577.744568  116.681168   82.454208  40.931873   7.485605  -7.887007   \n",
       "1 -628.816284  136.511261  100.357864  56.209591  19.551243   0.428206   \n",
       "2 -601.183411   77.222229   61.623146  42.221630  25.632828  16.337782   \n",
       "3 -562.588989   88.773560   71.557739  49.522438  29.541950  16.664858   \n",
       "4 -489.473450   65.725822   57.030285  45.383488  33.820339  24.795256   \n",
       "5 -521.912231  109.789894   83.131897  51.075043  25.148706  12.496006   \n",
       "6 -498.956665   72.541809   63.870949  52.172474  40.260586  30.402330   \n",
       "7 -608.290039  121.804886   83.961304  39.375343   5.452353  -7.348024   \n",
       "8 -637.361816  136.915863   91.050957  37.788876  -1.203433 -13.863134   \n",
       "9 -618.426880  119.006699   87.037468  48.069096  16.157154   0.287781   \n",
       "\n",
       "          6          7          8          9   ...        31        32  \\\n",
       "0  -4.491601  10.008358  24.508472  30.438593  ...  5.994569  5.839571   \n",
       "1  -0.259094  10.158183  21.104572  24.655876  ...  3.507886  2.841200   \n",
       "2  15.002048  18.738729  23.003593  24.039801  ...  2.748103  2.922751   \n",
       "3  12.350879  14.427670  18.631382  20.879950  ...  0.984788  1.662023   \n",
       "4  19.436211  17.373821  17.174334  17.152473  ...  2.122123  2.094586   \n",
       "5  13.276185  21.479649  28.873482  29.626736  ...  3.874432  3.368307   \n",
       "6  23.705975  19.943716  17.949722  16.366316  ...  1.218547  1.346841   \n",
       "7   0.268497  18.132322  33.093048  36.229198  ...  3.747848  3.705591   \n",
       "8  -2.607932  18.966412  34.974941  36.172955  ...  3.691612  2.384445   \n",
       "9   0.918467  11.101500  21.160604  24.063671  ...  3.019052  2.170335   \n",
       "\n",
       "         33        34        35        36        37        38        39  0   \n",
       "0  3.671602  0.848826 -1.004319 -1.004396  0.530715  2.398161  3.331668   1  \n",
       "1  1.227278 -0.146953 -0.405241  0.449801  1.629177  2.186589  1.692338   1  \n",
       "2  2.290715  1.166961  0.225971  0.042497  0.699116  1.713670  2.332496   1  \n",
       "3  2.113323  2.125078  1.752352  1.235468  0.835051  0.692907  0.788556   1  \n",
       "4  2.164926  2.183312  2.057845  1.794090  1.474256  1.199110  1.032410   1  \n",
       "5  1.625785 -0.220157 -1.024072 -0.356238  1.263884  2.738425  3.091081   1  \n",
       "6  1.449242  1.451255  1.343598  1.173696  1.008720  0.897983  0.852941   0  \n",
       "7  2.851964  2.033481  1.847434  2.232020  2.619894  2.462989  1.681644   1  \n",
       "8  0.977667  0.475651  0.934388  1.584123  1.558784  0.596325 -0.809997   0  \n",
       "9  0.621219 -0.567352 -0.703185  0.121662  1.192087  1.730130  1.425894   1  \n",
       "\n",
       "[10 rows x 41 columns]"
      ]
     },
     "execution_count": 76,
     "metadata": {},
     "output_type": "execute_result"
    }
   ],
   "source": [
    "merged.head(10)"
   ]
  },
  {
   "cell_type": "code",
   "execution_count": 77,
   "metadata": {},
   "outputs": [
    {
     "data": {
      "text/plain": [
       "(3240, 41)"
      ]
     },
     "execution_count": 77,
     "metadata": {},
     "output_type": "execute_result"
    }
   ],
   "source": [
    "merged.shape"
   ]
  },
  {
   "cell_type": "code",
   "execution_count": 78,
   "metadata": {},
   "outputs": [],
   "source": [
    "merged.to_csv('C:/Users/heera/Desktop/Dissertation/traindata/merged.csv',index=False)"
   ]
  },
  {
   "cell_type": "code",
   "execution_count": null,
   "metadata": {},
   "outputs": [],
   "source": []
  }
 ],
 "metadata": {
  "kernelspec": {
   "display_name": "Python 3",
   "language": "python",
   "name": "python3"
  },
  "language_info": {
   "codemirror_mode": {
    "name": "ipython",
    "version": 3
   },
   "file_extension": ".py",
   "mimetype": "text/x-python",
   "name": "python",
   "nbconvert_exporter": "python",
   "pygments_lexer": "ipython3",
   "version": "3.8.5"
  }
 },
 "nbformat": 4,
 "nbformat_minor": 4
}
