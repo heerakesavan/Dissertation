{
 "cells": [
  {
   "cell_type": "code",
   "execution_count": 1,
   "metadata": {},
   "outputs": [],
   "source": [
    "import os\n",
    "import numpy as np\n",
    "import scipy.io.wavfile as wf\n",
    "import matplotlib.pyplot as plt\n",
    "import librosa\n",
    "import pandas as pd\n",
    "from sklearn.metrics import classification_report"
   ]
  },
  {
   "cell_type": "code",
   "execution_count": 2,
   "metadata": {},
   "outputs": [],
   "source": [
    "df = pd.read_csv(r'C:\\Users\\heera\\Desktop\\Dissertation\\Data Physionet\\traindata\\merged_featureextracted.csv')"
   ]
  },
  {
   "cell_type": "code",
   "execution_count": 3,
   "metadata": {},
   "outputs": [
    {
     "data": {
      "text/html": [
       "<div>\n",
       "<style scoped>\n",
       "    .dataframe tbody tr th:only-of-type {\n",
       "        vertical-align: middle;\n",
       "    }\n",
       "\n",
       "    .dataframe tbody tr th {\n",
       "        vertical-align: top;\n",
       "    }\n",
       "\n",
       "    .dataframe thead th {\n",
       "        text-align: right;\n",
       "    }\n",
       "</style>\n",
       "<table border=\"1\" class=\"dataframe\">\n",
       "  <thead>\n",
       "    <tr style=\"text-align: right;\">\n",
       "      <th></th>\n",
       "      <th>0</th>\n",
       "      <th>1</th>\n",
       "      <th>2</th>\n",
       "      <th>3</th>\n",
       "      <th>4</th>\n",
       "      <th>5</th>\n",
       "      <th>6</th>\n",
       "      <th>7</th>\n",
       "      <th>8</th>\n",
       "      <th>9</th>\n",
       "      <th>...</th>\n",
       "      <th>31</th>\n",
       "      <th>32</th>\n",
       "      <th>33</th>\n",
       "      <th>34</th>\n",
       "      <th>35</th>\n",
       "      <th>36</th>\n",
       "      <th>37</th>\n",
       "      <th>38</th>\n",
       "      <th>39</th>\n",
       "      <th>0.1</th>\n",
       "    </tr>\n",
       "  </thead>\n",
       "  <tbody>\n",
       "    <tr>\n",
       "      <th>0</th>\n",
       "      <td>-577.74457</td>\n",
       "      <td>116.68117</td>\n",
       "      <td>82.454210</td>\n",
       "      <td>40.931873</td>\n",
       "      <td>7.485605</td>\n",
       "      <td>-7.887007</td>\n",
       "      <td>-4.491601</td>\n",
       "      <td>10.008358</td>\n",
       "      <td>24.508472</td>\n",
       "      <td>30.438593</td>\n",
       "      <td>...</td>\n",
       "      <td>5.994569</td>\n",
       "      <td>5.839570</td>\n",
       "      <td>3.671601</td>\n",
       "      <td>0.848826</td>\n",
       "      <td>-1.004319</td>\n",
       "      <td>-1.004396</td>\n",
       "      <td>0.530715</td>\n",
       "      <td>2.398161</td>\n",
       "      <td>3.331668</td>\n",
       "      <td>1</td>\n",
       "    </tr>\n",
       "    <tr>\n",
       "      <th>1</th>\n",
       "      <td>-628.81630</td>\n",
       "      <td>136.51126</td>\n",
       "      <td>100.357864</td>\n",
       "      <td>56.209590</td>\n",
       "      <td>19.551243</td>\n",
       "      <td>0.428206</td>\n",
       "      <td>-0.259094</td>\n",
       "      <td>10.158183</td>\n",
       "      <td>21.104572</td>\n",
       "      <td>24.655876</td>\n",
       "      <td>...</td>\n",
       "      <td>3.507886</td>\n",
       "      <td>2.841200</td>\n",
       "      <td>1.227278</td>\n",
       "      <td>-0.146953</td>\n",
       "      <td>-0.405241</td>\n",
       "      <td>0.449801</td>\n",
       "      <td>1.629177</td>\n",
       "      <td>2.186590</td>\n",
       "      <td>1.692338</td>\n",
       "      <td>1</td>\n",
       "    </tr>\n",
       "    <tr>\n",
       "      <th>2</th>\n",
       "      <td>-601.18340</td>\n",
       "      <td>77.22223</td>\n",
       "      <td>61.623146</td>\n",
       "      <td>42.221630</td>\n",
       "      <td>25.632828</td>\n",
       "      <td>16.337782</td>\n",
       "      <td>15.002048</td>\n",
       "      <td>18.738730</td>\n",
       "      <td>23.003593</td>\n",
       "      <td>24.039800</td>\n",
       "      <td>...</td>\n",
       "      <td>2.748103</td>\n",
       "      <td>2.922751</td>\n",
       "      <td>2.290715</td>\n",
       "      <td>1.166961</td>\n",
       "      <td>0.225971</td>\n",
       "      <td>0.042497</td>\n",
       "      <td>0.699116</td>\n",
       "      <td>1.713670</td>\n",
       "      <td>2.332496</td>\n",
       "      <td>1</td>\n",
       "    </tr>\n",
       "    <tr>\n",
       "      <th>3</th>\n",
       "      <td>-562.58900</td>\n",
       "      <td>88.77356</td>\n",
       "      <td>71.557740</td>\n",
       "      <td>49.522438</td>\n",
       "      <td>29.541950</td>\n",
       "      <td>16.664858</td>\n",
       "      <td>12.350879</td>\n",
       "      <td>14.427670</td>\n",
       "      <td>18.631382</td>\n",
       "      <td>20.879950</td>\n",
       "      <td>...</td>\n",
       "      <td>0.984788</td>\n",
       "      <td>1.662023</td>\n",
       "      <td>2.113323</td>\n",
       "      <td>2.125078</td>\n",
       "      <td>1.752352</td>\n",
       "      <td>1.235468</td>\n",
       "      <td>0.835051</td>\n",
       "      <td>0.692907</td>\n",
       "      <td>0.788556</td>\n",
       "      <td>1</td>\n",
       "    </tr>\n",
       "    <tr>\n",
       "      <th>4</th>\n",
       "      <td>-489.47345</td>\n",
       "      <td>65.72582</td>\n",
       "      <td>57.030285</td>\n",
       "      <td>45.383488</td>\n",
       "      <td>33.820340</td>\n",
       "      <td>24.795256</td>\n",
       "      <td>19.436210</td>\n",
       "      <td>17.373821</td>\n",
       "      <td>17.174334</td>\n",
       "      <td>17.152473</td>\n",
       "      <td>...</td>\n",
       "      <td>2.122123</td>\n",
       "      <td>2.094586</td>\n",
       "      <td>2.164926</td>\n",
       "      <td>2.183312</td>\n",
       "      <td>2.057845</td>\n",
       "      <td>1.794090</td>\n",
       "      <td>1.474256</td>\n",
       "      <td>1.199110</td>\n",
       "      <td>1.032410</td>\n",
       "      <td>1</td>\n",
       "    </tr>\n",
       "  </tbody>\n",
       "</table>\n",
       "<p>5 rows × 41 columns</p>\n",
       "</div>"
      ],
      "text/plain": [
       "           0          1           2          3          4          5  \\\n",
       "0 -577.74457  116.68117   82.454210  40.931873   7.485605  -7.887007   \n",
       "1 -628.81630  136.51126  100.357864  56.209590  19.551243   0.428206   \n",
       "2 -601.18340   77.22223   61.623146  42.221630  25.632828  16.337782   \n",
       "3 -562.58900   88.77356   71.557740  49.522438  29.541950  16.664858   \n",
       "4 -489.47345   65.72582   57.030285  45.383488  33.820340  24.795256   \n",
       "\n",
       "           6          7          8          9  ...        31        32  \\\n",
       "0  -4.491601  10.008358  24.508472  30.438593  ...  5.994569  5.839570   \n",
       "1  -0.259094  10.158183  21.104572  24.655876  ...  3.507886  2.841200   \n",
       "2  15.002048  18.738730  23.003593  24.039800  ...  2.748103  2.922751   \n",
       "3  12.350879  14.427670  18.631382  20.879950  ...  0.984788  1.662023   \n",
       "4  19.436210  17.373821  17.174334  17.152473  ...  2.122123  2.094586   \n",
       "\n",
       "         33        34        35        36        37        38        39  0.1  \n",
       "0  3.671601  0.848826 -1.004319 -1.004396  0.530715  2.398161  3.331668    1  \n",
       "1  1.227278 -0.146953 -0.405241  0.449801  1.629177  2.186590  1.692338    1  \n",
       "2  2.290715  1.166961  0.225971  0.042497  0.699116  1.713670  2.332496    1  \n",
       "3  2.113323  2.125078  1.752352  1.235468  0.835051  0.692907  0.788556    1  \n",
       "4  2.164926  2.183312  2.057845  1.794090  1.474256  1.199110  1.032410    1  \n",
       "\n",
       "[5 rows x 41 columns]"
      ]
     },
     "execution_count": 3,
     "metadata": {},
     "output_type": "execute_result"
    }
   ],
   "source": [
    "df.head()"
   ]
  },
  {
   "cell_type": "code",
   "execution_count": 4,
   "metadata": {},
   "outputs": [],
   "source": [
    "df = df.rename(columns={\"0.1\": \"labels\"})"
   ]
  },
  {
   "cell_type": "code",
   "execution_count": 5,
   "metadata": {},
   "outputs": [
    {
     "data": {
      "text/plain": [
       "0    2575\n",
       "1     665\n",
       "Name: labels, dtype: int64"
      ]
     },
     "execution_count": 5,
     "metadata": {},
     "output_type": "execute_result"
    }
   ],
   "source": [
    "df[\"labels\"].value_counts()"
   ]
  },
  {
   "cell_type": "code",
   "execution_count": 6,
   "metadata": {},
   "outputs": [
    {
     "data": {
      "image/png": "[encoded data removed]",
      "text/plain": [
       "<Figure size 432x288 with 1 Axes>"
      ]
     },
     "metadata": {
      "needs_background": "light"
     },
     "output_type": "display_data"
    }
   ],
   "source": [
    "import seaborn as sns\n",
    "plt.title(\"Distribution or Normal and Abnormal Heart sounds\",fontsize= 16)\n",
    "plt.xticks(fontsize=14,rotation=0)\n",
    "# for spine in plt.gca().spines.values():\n",
    "#     spine.set_visible(False)\n",
    "plt.yticks([])\n",
    "sns.countplot(x='labels',data=df,palette=\"Set2\")\n",
    "plt.show()\n",
    "# for p in ax.patches:\n",
    "#     width, height = p.get_width(), p.get_height()\n",
    "#     x, y = p.get_xy() \n",
    "#     ax.text(x+width/2, \n",
    "#             y+height/2, \n",
    "#             '{:.0f}'.format(height), \n",
    "#             horizontalalignment='center', \n",
    "#             verticalalignment='center')\n"
   ]
  },
  {
   "cell_type": "markdown",
   "metadata": {},
   "source": [
    "# Split the Dataset and balance the y variable"
   ]
  },
  {
   "cell_type": "code",
   "execution_count": 7,
   "metadata": {},
   "outputs": [],
   "source": [
    "### Split the dataset into independent and dependent dataset\n"
   ]
  },
  {
   "cell_type": "code",
   "execution_count": 8,
   "metadata": {},
   "outputs": [],
   "source": [
    "X = df.iloc[:,0:40]\n",
    "# y = df[\"class\"]"
   ]
  },
  {
   "cell_type": "code",
   "execution_count": 9,
   "metadata": {},
   "outputs": [
    {
     "data": {
      "text/plain": [
       "(3240, 40)"
      ]
     },
     "execution_count": 9,
     "metadata": {},
     "output_type": "execute_result"
    }
   ],
   "source": [
    "X.shape"
   ]
  },
  {
   "cell_type": "code",
   "execution_count": 10,
   "metadata": {},
   "outputs": [
    {
     "data": {
      "text/html": [
       "<div>\n",
       "<style scoped>\n",
       "    .dataframe tbody tr th:only-of-type {\n",
       "        vertical-align: middle;\n",
       "    }\n",
       "\n",
       "    .dataframe tbody tr th {\n",
       "        vertical-align: top;\n",
       "    }\n",
       "\n",
       "    .dataframe thead th {\n",
       "        text-align: right;\n",
       "    }\n",
       "</style>\n",
       "<table border=\"1\" class=\"dataframe\">\n",
       "  <thead>\n",
       "    <tr style=\"text-align: right;\">\n",
       "      <th></th>\n",
       "      <th>0</th>\n",
       "      <th>1</th>\n",
       "      <th>2</th>\n",
       "      <th>3</th>\n",
       "      <th>4</th>\n",
       "      <th>5</th>\n",
       "      <th>6</th>\n",
       "      <th>7</th>\n",
       "      <th>8</th>\n",
       "      <th>9</th>\n",
       "      <th>...</th>\n",
       "      <th>30</th>\n",
       "      <th>31</th>\n",
       "      <th>32</th>\n",
       "      <th>33</th>\n",
       "      <th>34</th>\n",
       "      <th>35</th>\n",
       "      <th>36</th>\n",
       "      <th>37</th>\n",
       "      <th>38</th>\n",
       "      <th>39</th>\n",
       "    </tr>\n",
       "  </thead>\n",
       "  <tbody>\n",
       "    <tr>\n",
       "      <th>0</th>\n",
       "      <td>-577.74457</td>\n",
       "      <td>116.68117</td>\n",
       "      <td>82.454210</td>\n",
       "      <td>40.931873</td>\n",
       "      <td>7.485605</td>\n",
       "      <td>-7.887007</td>\n",
       "      <td>-4.491601</td>\n",
       "      <td>10.008358</td>\n",
       "      <td>24.508472</td>\n",
       "      <td>30.438593</td>\n",
       "      <td>...</td>\n",
       "      <td>3.970105</td>\n",
       "      <td>5.994569</td>\n",
       "      <td>5.839570</td>\n",
       "      <td>3.671601</td>\n",
       "      <td>0.848826</td>\n",
       "      <td>-1.004319</td>\n",
       "      <td>-1.004396</td>\n",
       "      <td>0.530715</td>\n",
       "      <td>2.398161</td>\n",
       "      <td>3.331668</td>\n",
       "    </tr>\n",
       "    <tr>\n",
       "      <th>1</th>\n",
       "      <td>-628.81630</td>\n",
       "      <td>136.51126</td>\n",
       "      <td>100.357864</td>\n",
       "      <td>56.209590</td>\n",
       "      <td>19.551243</td>\n",
       "      <td>0.428206</td>\n",
       "      <td>-0.259094</td>\n",
       "      <td>10.158183</td>\n",
       "      <td>21.104572</td>\n",
       "      <td>24.655876</td>\n",
       "      <td>...</td>\n",
       "      <td>2.601242</td>\n",
       "      <td>3.507886</td>\n",
       "      <td>2.841200</td>\n",
       "      <td>1.227278</td>\n",
       "      <td>-0.146953</td>\n",
       "      <td>-0.405241</td>\n",
       "      <td>0.449801</td>\n",
       "      <td>1.629177</td>\n",
       "      <td>2.186590</td>\n",
       "      <td>1.692338</td>\n",
       "    </tr>\n",
       "    <tr>\n",
       "      <th>2</th>\n",
       "      <td>-601.18340</td>\n",
       "      <td>77.22223</td>\n",
       "      <td>61.623146</td>\n",
       "      <td>42.221630</td>\n",
       "      <td>25.632828</td>\n",
       "      <td>16.337782</td>\n",
       "      <td>15.002048</td>\n",
       "      <td>18.738730</td>\n",
       "      <td>23.003593</td>\n",
       "      <td>24.039800</td>\n",
       "      <td>...</td>\n",
       "      <td>2.034146</td>\n",
       "      <td>2.748103</td>\n",
       "      <td>2.922751</td>\n",
       "      <td>2.290715</td>\n",
       "      <td>1.166961</td>\n",
       "      <td>0.225971</td>\n",
       "      <td>0.042497</td>\n",
       "      <td>0.699116</td>\n",
       "      <td>1.713670</td>\n",
       "      <td>2.332496</td>\n",
       "    </tr>\n",
       "    <tr>\n",
       "      <th>3</th>\n",
       "      <td>-562.58900</td>\n",
       "      <td>88.77356</td>\n",
       "      <td>71.557740</td>\n",
       "      <td>49.522438</td>\n",
       "      <td>29.541950</td>\n",
       "      <td>16.664858</td>\n",
       "      <td>12.350879</td>\n",
       "      <td>14.427670</td>\n",
       "      <td>18.631382</td>\n",
       "      <td>20.879950</td>\n",
       "      <td>...</td>\n",
       "      <td>0.486486</td>\n",
       "      <td>0.984788</td>\n",
       "      <td>1.662023</td>\n",
       "      <td>2.113323</td>\n",
       "      <td>2.125078</td>\n",
       "      <td>1.752352</td>\n",
       "      <td>1.235468</td>\n",
       "      <td>0.835051</td>\n",
       "      <td>0.692907</td>\n",
       "      <td>0.788556</td>\n",
       "    </tr>\n",
       "    <tr>\n",
       "      <th>4</th>\n",
       "      <td>-489.47345</td>\n",
       "      <td>65.72582</td>\n",
       "      <td>57.030285</td>\n",
       "      <td>45.383488</td>\n",
       "      <td>33.820340</td>\n",
       "      <td>24.795256</td>\n",
       "      <td>19.436210</td>\n",
       "      <td>17.373821</td>\n",
       "      <td>17.174334</td>\n",
       "      <td>17.152473</td>\n",
       "      <td>...</td>\n",
       "      <td>2.368080</td>\n",
       "      <td>2.122123</td>\n",
       "      <td>2.094586</td>\n",
       "      <td>2.164926</td>\n",
       "      <td>2.183312</td>\n",
       "      <td>2.057845</td>\n",
       "      <td>1.794090</td>\n",
       "      <td>1.474256</td>\n",
       "      <td>1.199110</td>\n",
       "      <td>1.032410</td>\n",
       "    </tr>\n",
       "  </tbody>\n",
       "</table>\n",
       "<p>5 rows × 40 columns</p>\n",
       "</div>"
      ],
      "text/plain": [
       "           0          1           2          3          4          5  \\\n",
       "0 -577.74457  116.68117   82.454210  40.931873   7.485605  -7.887007   \n",
       "1 -628.81630  136.51126  100.357864  56.209590  19.551243   0.428206   \n",
       "2 -601.18340   77.22223   61.623146  42.221630  25.632828  16.337782   \n",
       "3 -562.58900   88.77356   71.557740  49.522438  29.541950  16.664858   \n",
       "4 -489.47345   65.72582   57.030285  45.383488  33.820340  24.795256   \n",
       "\n",
       "           6          7          8          9  ...        30        31  \\\n",
       "0  -4.491601  10.008358  24.508472  30.438593  ...  3.970105  5.994569   \n",
       "1  -0.259094  10.158183  21.104572  24.655876  ...  2.601242  3.507886   \n",
       "2  15.002048  18.738730  23.003593  24.039800  ...  2.034146  2.748103   \n",
       "3  12.350879  14.427670  18.631382  20.879950  ...  0.486486  0.984788   \n",
       "4  19.436210  17.373821  17.174334  17.152473  ...  2.368080  2.122123   \n",
       "\n",
       "         32        33        34        35        36        37        38  \\\n",
       "0  5.839570  3.671601  0.848826 -1.004319 -1.004396  0.530715  2.398161   \n",
       "1  2.841200  1.227278 -0.146953 -0.405241  0.449801  1.629177  2.186590   \n",
       "2  2.922751  2.290715  1.166961  0.225971  0.042497  0.699116  1.713670   \n",
       "3  1.662023  2.113323  2.125078  1.752352  1.235468  0.835051  0.692907   \n",
       "4  2.094586  2.164926  2.183312  2.057845  1.794090  1.474256  1.199110   \n",
       "\n",
       "         39  \n",
       "0  3.331668  \n",
       "1  1.692338  \n",
       "2  2.332496  \n",
       "3  0.788556  \n",
       "4  1.032410  \n",
       "\n",
       "[5 rows x 40 columns]"
      ]
     },
     "execution_count": 10,
     "metadata": {},
     "output_type": "execute_result"
    }
   ],
   "source": [
    "X.head()"
   ]
  },
  {
   "cell_type": "code",
   "execution_count": 11,
   "metadata": {},
   "outputs": [],
   "source": [
    "y = df[[\"labels\"]]"
   ]
  },
  {
   "cell_type": "code",
   "execution_count": 12,
   "metadata": {},
   "outputs": [
    {
     "data": {
      "text/plain": [
       "(3240, 1)"
      ]
     },
     "execution_count": 12,
     "metadata": {},
     "output_type": "execute_result"
    }
   ],
   "source": [
    "y.shape"
   ]
  },
  {
   "cell_type": "code",
   "execution_count": 13,
   "metadata": {},
   "outputs": [],
   "source": [
    "### Train Test Split\n",
    "from sklearn.model_selection import train_test_split\n",
    "X_train,X_test,y_train,y_test=train_test_split(X,y,test_size=0.2,random_state=0)"
   ]
  },
  {
   "cell_type": "code",
   "execution_count": 14,
   "metadata": {},
   "outputs": [
    {
     "data": {
      "text/plain": [
       "(2592, 40)"
      ]
     },
     "execution_count": 14,
     "metadata": {},
     "output_type": "execute_result"
    }
   ],
   "source": [
    "X_train.shape"
   ]
  },
  {
   "cell_type": "code",
   "execution_count": 15,
   "metadata": {},
   "outputs": [
    {
     "data": {
      "text/plain": [
       "(648, 40)"
      ]
     },
     "execution_count": 15,
     "metadata": {},
     "output_type": "execute_result"
    }
   ],
   "source": [
    "X_test.shape"
   ]
  },
  {
   "cell_type": "code",
   "execution_count": 16,
   "metadata": {},
   "outputs": [
    {
     "data": {
      "text/plain": [
       "(2592, 1)"
      ]
     },
     "execution_count": 16,
     "metadata": {},
     "output_type": "execute_result"
    }
   ],
   "source": [
    "y_train.shape "
   ]
  },
  {
   "cell_type": "code",
   "execution_count": 17,
   "metadata": {},
   "outputs": [
    {
     "data": {
      "text/plain": [
       "(648, 1)"
      ]
     },
     "execution_count": 17,
     "metadata": {},
     "output_type": "execute_result"
    }
   ],
   "source": [
    "y_test.shape"
   ]
  },
  {
   "cell_type": "code",
   "execution_count": 18,
   "metadata": {},
   "outputs": [
    {
     "name": "stdout",
     "output_type": "stream",
     "text": [
      "2.7.0\n"
     ]
    }
   ],
   "source": [
    "import tensorflow as tf\n",
    "print(tf.__version__)"
   ]
  },
  {
   "cell_type": "code",
   "execution_count": 19,
   "metadata": {},
   "outputs": [],
   "source": [
    "from tensorflow.keras.models import Sequential\n",
    "from tensorflow.keras.layers import Dense,Dropout,Activation,Flatten\n",
    "from tensorflow.keras.optimizers import Adam\n",
    "from sklearn import metrics"
   ]
  },
  {
   "cell_type": "code",
   "execution_count": 20,
   "metadata": {},
   "outputs": [],
   "source": [
    "### No of classes\n",
    "num_labels=1"
   ]
  },
  {
   "cell_type": "markdown",
   "metadata": {},
   "source": [
    "# ANN Architecture"
   ]
  },
  {
   "cell_type": "code",
   "execution_count": 21,
   "metadata": {},
   "outputs": [],
   "source": [
    "model=Sequential()\n",
    "###first layer\n",
    "model.add(Dense(100,input_shape=(40,)))\n",
    "model.add(Activation('relu'))\n",
    "model.add(Dropout(0.5))\n",
    "###second layer\n",
    "model.add(Dense(200))\n",
    "model.add(Activation('relu'))\n",
    "model.add(Dropout(0.5))\n",
    "###third layer\n",
    "model.add(Dense(100))\n",
    "model.add(Activation('relu'))\n",
    "model.add(Dropout(0.5))\n",
    "\n",
    "###final layer\n",
    "model.add(Dense(num_labels))\n",
    "model.add(Activation('sigmoid'))"
   ]
  },
  {
   "cell_type": "code",
   "execution_count": 22,
   "metadata": {},
   "outputs": [
    {
     "name": "stdout",
     "output_type": "stream",
     "text": [
      "Model: \"sequential\"\n",
      "_________________________________________________________________\n",
      " Layer (type)                Output Shape              Param #   \n",
      "=================================================================\n",
      " dense (Dense)               (None, 100)               4100      \n",
      "                                                                 \n",
      " activation (Activation)     (None, 100)               0         \n",
      "                                                                 \n",
      " dropout (Dropout)           (None, 100)               0         \n",
      "                                                                 \n",
      " dense_1 (Dense)             (None, 200)               20200     \n",
      "                                                                 \n",
      " activation_1 (Activation)   (None, 200)               0         \n",
      "                                                                 \n",
      " dropout_1 (Dropout)         (None, 200)               0         \n",
      "                                                                 \n",
      " dense_2 (Dense)             (None, 100)               20100     \n",
      "                                                                 \n",
      " activation_2 (Activation)   (None, 100)               0         \n",
      "                                                                 \n",
      " dropout_2 (Dropout)         (None, 100)               0         \n",
      "                                                                 \n",
      " dense_3 (Dense)             (None, 1)                 101       \n",
      "                                                                 \n",
      " activation_3 (Activation)   (None, 1)                 0         \n",
      "                                                                 \n",
      "=================================================================\n",
      "Total params: 44,501\n",
      "Trainable params: 44,501\n",
      "Non-trainable params: 0\n",
      "_________________________________________________________________\n"
     ]
    }
   ],
   "source": [
    "model.summary()"
   ]
  },
  {
   "cell_type": "code",
   "execution_count": 23,
   "metadata": {},
   "outputs": [],
   "source": [
    "model.compile(loss='binary_crossentropy',metrics=['accuracy'],optimizer='adam')"
   ]
  },
  {
   "cell_type": "code",
   "execution_count": 24,
   "metadata": {},
   "outputs": [
    {
     "name": "stdout",
     "output_type": "stream",
     "text": [
      "Epoch 1/100\n",
      "65/81 [=======================>......] - ETA: 0s - loss: 10.4984 - accuracy: 0.6611\n",
      "Epoch 00001: val_loss improved from inf to 0.47733, saving model to saved_models\\audio_classification.hdf5\n",
      "81/81 [==============================] - 1s 4ms/step - loss: 9.5254 - accuracy: 0.6640 - val_loss: 0.4773 - val_accuracy: 0.8117\n",
      "Epoch 2/100\n",
      "69/81 [========================>.....] - ETA: 0s - loss: 3.0865 - accuracy: 0.6685\n",
      "Epoch 00002: val_loss did not improve from 0.47733\n",
      "81/81 [==============================] - 0s 2ms/step - loss: 2.9716 - accuracy: 0.6620 - val_loss: 0.5037 - val_accuracy: 0.8117\n",
      "Epoch 3/100\n",
      "71/81 [=========================>....] - ETA: 0s - loss: 1.5189 - accuracy: 0.6703\n",
      "Epoch 00003: val_loss did not improve from 0.47733\n",
      "81/81 [==============================] - 0s 2ms/step - loss: 1.4687 - accuracy: 0.6721 - val_loss: 0.5859 - val_accuracy: 0.8117\n",
      "Epoch 4/100\n",
      "69/81 [========================>.....] - ETA: 0s - loss: 0.9042 - accuracy: 0.7133\n",
      "Epoch 00004: val_loss did not improve from 0.47733\n",
      "81/81 [==============================] - 0s 2ms/step - loss: 0.8905 - accuracy: 0.7191 - val_loss: 0.5872 - val_accuracy: 0.8117\n",
      "Epoch 5/100\n",
      "75/81 [==========================>...] - ETA: 0s - loss: 0.7454 - accuracy: 0.7400\n",
      "Epoch 00005: val_loss did not improve from 0.47733\n",
      "81/81 [==============================] - 0s 3ms/step - loss: 0.7389 - accuracy: 0.7419 - val_loss: 0.5729 - val_accuracy: 0.8117\n",
      "Epoch 6/100\n",
      "63/81 [======================>.......] - ETA: 0s - loss: 0.6793 - accuracy: 0.7470\n",
      "Epoch 00006: val_loss did not improve from 0.47733\n",
      "81/81 [==============================] - 0s 2ms/step - loss: 0.6680 - accuracy: 0.7504 - val_loss: 0.5622 - val_accuracy: 0.8117\n",
      "Epoch 7/100\n",
      "77/81 [===========================>..] - ETA: 0s - loss: 0.6124 - accuracy: 0.7654\n",
      "Epoch 00007: val_loss did not improve from 0.47733\n",
      "81/81 [==============================] - 0s 2ms/step - loss: 0.6155 - accuracy: 0.7650 - val_loss: 0.5493 - val_accuracy: 0.8117\n",
      "Epoch 8/100\n",
      "71/81 [=========================>....] - ETA: 0s - loss: 0.5869 - accuracy: 0.7694\n",
      "Epoch 00008: val_loss did not improve from 0.47733\n",
      "81/81 [==============================] - 0s 2ms/step - loss: 0.5822 - accuracy: 0.7735 - val_loss: 0.5478 - val_accuracy: 0.8117\n",
      "Epoch 9/100\n",
      "77/81 [===========================>..] - ETA: 0s - loss: 0.5718 - accuracy: 0.7788\n",
      "Epoch 00009: val_loss did not improve from 0.47733\n",
      "81/81 [==============================] - 0s 2ms/step - loss: 0.5722 - accuracy: 0.7785 - val_loss: 0.5256 - val_accuracy: 0.8117\n",
      "Epoch 10/100\n",
      "74/81 [==========================>...] - ETA: 0s - loss: 0.5618 - accuracy: 0.7800\n",
      "Epoch 00010: val_loss did not improve from 0.47733\n",
      "81/81 [==============================] - 0s 2ms/step - loss: 0.5611 - accuracy: 0.7793 - val_loss: 0.5439 - val_accuracy: 0.8117\n",
      "Epoch 11/100\n",
      "69/81 [========================>.....] - ETA: 0s - loss: 0.5434 - accuracy: 0.7903\n",
      "Epoch 00011: val_loss did not improve from 0.47733\n",
      "81/81 [==============================] - 0s 2ms/step - loss: 0.5461 - accuracy: 0.7863 - val_loss: 0.5479 - val_accuracy: 0.8117\n",
      "Epoch 12/100\n",
      "68/81 [========================>.....] - ETA: 0s - loss: 0.5440 - accuracy: 0.7891\n",
      "Epoch 00012: val_loss did not improve from 0.47733\n",
      "81/81 [==============================] - 0s 2ms/step - loss: 0.5466 - accuracy: 0.7843 - val_loss: 0.5353 - val_accuracy: 0.8117\n",
      "Epoch 13/100\n",
      "45/81 [===============>..............] - ETA: 0s - loss: 0.5250 - accuracy: 0.7924\n",
      "Epoch 00013: val_loss did not improve from 0.47733\n",
      "81/81 [==============================] - 0s 2ms/step - loss: 0.5332 - accuracy: 0.7847 - val_loss: 0.4961 - val_accuracy: 0.8117\n",
      "Epoch 14/100\n",
      "79/81 [============================>.] - ETA: 0s - loss: 0.5344 - accuracy: 0.7864\n",
      "Epoch 00014: val_loss did not improve from 0.47733\n",
      "81/81 [==============================] - 0s 2ms/step - loss: 0.5325 - accuracy: 0.7878 - val_loss: 0.4993 - val_accuracy: 0.8117\n",
      "Epoch 15/100\n",
      "74/81 [==========================>...] - ETA: 0s - loss: 0.5144 - accuracy: 0.7905\n",
      "Epoch 00015: val_loss did not improve from 0.47733\n",
      "81/81 [==============================] - 0s 2ms/step - loss: 0.5156 - accuracy: 0.7894 - val_loss: 0.4847 - val_accuracy: 0.8117\n",
      "Epoch 16/100\n",
      "72/81 [=========================>....] - ETA: 0s - loss: 0.5089 - accuracy: 0.7873\n",
      "Epoch 00016: val_loss improved from 0.47733 to 0.46802, saving model to saved_models\\audio_classification.hdf5\n",
      "81/81 [==============================] - 0s 2ms/step - loss: 0.5105 - accuracy: 0.7878 - val_loss: 0.4680 - val_accuracy: 0.8117\n",
      "Epoch 17/100\n",
      "63/81 [======================>.......] - ETA: 0s - loss: 0.5144 - accuracy: 0.7897\n",
      "Epoch 00017: val_loss did not improve from 0.46802\n",
      "81/81 [==============================] - 0s 2ms/step - loss: 0.5120 - accuracy: 0.7878 - val_loss: 0.4800 - val_accuracy: 0.8117\n",
      "Epoch 18/100\n",
      "64/81 [======================>.......] - ETA: 0s - loss: 0.5043 - accuracy: 0.7871\n",
      "Epoch 00018: val_loss improved from 0.46802 to 0.46002, saving model to saved_models\\audio_classification.hdf5\n",
      "81/81 [==============================] - 0s 2ms/step - loss: 0.5014 - accuracy: 0.7870 - val_loss: 0.4600 - val_accuracy: 0.8117\n",
      "Epoch 19/100\n",
      "59/81 [====================>.........] - ETA: 0s - loss: 0.4945 - accuracy: 0.7913\n",
      "Epoch 00019: val_loss improved from 0.46002 to 0.44821, saving model to saved_models\\audio_classification.hdf5\n",
      "81/81 [==============================] - 0s 3ms/step - loss: 0.4932 - accuracy: 0.7859 - val_loss: 0.4482 - val_accuracy: 0.8117\n",
      "Epoch 20/100\n",
      "73/81 [==========================>...] - ETA: 0s - loss: 0.4744 - accuracy: 0.7885\n",
      "Epoch 00020: val_loss improved from 0.44821 to 0.42631, saving model to saved_models\\audio_classification.hdf5\n",
      "81/81 [==============================] - 0s 2ms/step - loss: 0.4746 - accuracy: 0.7894 - val_loss: 0.4263 - val_accuracy: 0.8117\n",
      "Epoch 21/100\n",
      "69/81 [========================>.....] - ETA: 0s - loss: 0.4695 - accuracy: 0.7894\n",
      "Epoch 00021: val_loss improved from 0.42631 to 0.41751, saving model to saved_models\\audio_classification.hdf5\n",
      "81/81 [==============================] - 0s 3ms/step - loss: 0.4670 - accuracy: 0.7897 - val_loss: 0.4175 - val_accuracy: 0.8117\n",
      "Epoch 22/100\n",
      "66/81 [=======================>......] - ETA: 0s - loss: 0.4520 - accuracy: 0.7926\n",
      "Epoch 00022: val_loss did not improve from 0.41751\n",
      "81/81 [==============================] - 0s 2ms/step - loss: 0.4594 - accuracy: 0.7867 - val_loss: 0.4233 - val_accuracy: 0.8117\n",
      "Epoch 23/100\n",
      "72/81 [=========================>....] - ETA: 0s - loss: 0.4493 - accuracy: 0.7865\n",
      "Epoch 00023: val_loss improved from 0.41751 to 0.39226, saving model to saved_models\\audio_classification.hdf5\n",
      "81/81 [==============================] - 0s 2ms/step - loss: 0.4479 - accuracy: 0.7886 - val_loss: 0.3923 - val_accuracy: 0.8117\n",
      "Epoch 24/100\n",
      "66/81 [=======================>......] - ETA: 0s - loss: 0.4412 - accuracy: 0.7917\n",
      "Epoch 00024: val_loss improved from 0.39226 to 0.38118, saving model to saved_models\\audio_classification.hdf5\n",
      "81/81 [==============================] - 0s 2ms/step - loss: 0.4395 - accuracy: 0.7890 - val_loss: 0.3812 - val_accuracy: 0.8117\n",
      "Epoch 25/100\n",
      "69/81 [========================>.....] - ETA: 0s - loss: 0.4362 - accuracy: 0.7840\n",
      "Epoch 00025: val_loss improved from 0.38118 to 0.37080, saving model to saved_models\\audio_classification.hdf5\n",
      "81/81 [==============================] - 0s 2ms/step - loss: 0.4321 - accuracy: 0.7851 - val_loss: 0.3708 - val_accuracy: 0.8117\n",
      "Epoch 26/100\n",
      "73/81 [==========================>...] - ETA: 0s - loss: 0.4200 - accuracy: 0.7894\n",
      "Epoch 00026: val_loss did not improve from 0.37080\n",
      "81/81 [==============================] - 0s 2ms/step - loss: 0.4211 - accuracy: 0.7890 - val_loss: 0.3921 - val_accuracy: 0.8117\n",
      "Epoch 27/100\n",
      "77/81 [===========================>..] - ETA: 0s - loss: 0.4181 - accuracy: 0.7950\n",
      "Epoch 00027: val_loss did not improve from 0.37080\n",
      "81/81 [==============================] - 0s 2ms/step - loss: 0.4215 - accuracy: 0.7917 - val_loss: 0.3853 - val_accuracy: 0.8117\n",
      "Epoch 28/100\n",
      "73/81 [==========================>...] - ETA: 0s - loss: 0.4097 - accuracy: 0.7872\n",
      "Epoch 00028: val_loss improved from 0.37080 to 0.36433, saving model to saved_models\\audio_classification.hdf5\n",
      "81/81 [==============================] - 0s 2ms/step - loss: 0.4058 - accuracy: 0.7890 - val_loss: 0.3643 - val_accuracy: 0.8117\n"
     ]
    },
    {
     "name": "stdout",
     "output_type": "stream",
     "text": [
      "Epoch 29/100\n",
      "71/81 [=========================>....] - ETA: 0s - loss: 0.3955 - accuracy: 0.7870\n",
      "Epoch 00029: val_loss improved from 0.36433 to 0.33847, saving model to saved_models\\audio_classification.hdf5\n",
      "81/81 [==============================] - 0s 2ms/step - loss: 0.3911 - accuracy: 0.7940 - val_loss: 0.3385 - val_accuracy: 0.8117\n",
      "Epoch 30/100\n",
      "66/81 [=======================>......] - ETA: 0s - loss: 0.3868 - accuracy: 0.8007\n",
      "Epoch 00030: val_loss did not improve from 0.33847\n",
      "81/81 [==============================] - 0s 2ms/step - loss: 0.3864 - accuracy: 0.8005 - val_loss: 0.3467 - val_accuracy: 0.8117\n",
      "Epoch 31/100\n",
      "73/81 [==========================>...] - ETA: 0s - loss: 0.4017 - accuracy: 0.7864\n",
      "Epoch 00031: val_loss improved from 0.33847 to 0.33081, saving model to saved_models\\audio_classification.hdf5\n",
      "81/81 [==============================] - 0s 2ms/step - loss: 0.3923 - accuracy: 0.7951 - val_loss: 0.3308 - val_accuracy: 0.8117\n",
      "Epoch 32/100\n",
      "72/81 [=========================>....] - ETA: 0s - loss: 0.3879 - accuracy: 0.7982\n",
      "Epoch 00032: val_loss improved from 0.33081 to 0.33013, saving model to saved_models\\audio_classification.hdf5\n",
      "81/81 [==============================] - 0s 2ms/step - loss: 0.3804 - accuracy: 0.7994 - val_loss: 0.3301 - val_accuracy: 0.8117\n",
      "Epoch 33/100\n",
      "80/81 [============================>.] - ETA: 0s - loss: 0.3777 - accuracy: 0.7934\n",
      "Epoch 00033: val_loss improved from 0.33013 to 0.32790, saving model to saved_models\\audio_classification.hdf5\n",
      "81/81 [==============================] - 0s 3ms/step - loss: 0.3769 - accuracy: 0.7940 - val_loss: 0.3279 - val_accuracy: 0.8133\n",
      "Epoch 34/100\n",
      "58/81 [====================>.........] - ETA: 0s - loss: 0.3766 - accuracy: 0.7969\n",
      "Epoch 00034: val_loss improved from 0.32790 to 0.31408, saving model to saved_models\\audio_classification.hdf5\n",
      "81/81 [==============================] - 0s 2ms/step - loss: 0.3686 - accuracy: 0.8025 - val_loss: 0.3141 - val_accuracy: 0.8133\n",
      "Epoch 35/100\n",
      "70/81 [========================>.....] - ETA: 0s - loss: 0.3557 - accuracy: 0.8018\n",
      "Epoch 00035: val_loss did not improve from 0.31408\n",
      "81/81 [==============================] - 0s 2ms/step - loss: 0.3564 - accuracy: 0.8017 - val_loss: 0.3279 - val_accuracy: 0.8302\n",
      "Epoch 36/100\n",
      "73/81 [==========================>...] - ETA: 0s - loss: 0.3609 - accuracy: 0.8009\n",
      "Epoch 00036: val_loss improved from 0.31408 to 0.31044, saving model to saved_models\\audio_classification.hdf5\n",
      "81/81 [==============================] - 0s 3ms/step - loss: 0.3583 - accuracy: 0.8021 - val_loss: 0.3104 - val_accuracy: 0.8225\n",
      "Epoch 37/100\n",
      "67/81 [=======================>......] - ETA: 0s - loss: 0.3708 - accuracy: 0.8050\n",
      "Epoch 00037: val_loss improved from 0.31044 to 0.30884, saving model to saved_models\\audio_classification.hdf5\n",
      "81/81 [==============================] - 0s 2ms/step - loss: 0.3624 - accuracy: 0.8113 - val_loss: 0.3088 - val_accuracy: 0.8395\n",
      "Epoch 38/100\n",
      "56/81 [===================>..........] - ETA: 0s - loss: 0.3588 - accuracy: 0.7974\n",
      "Epoch 00038: val_loss did not improve from 0.30884\n",
      "81/81 [==============================] - 0s 2ms/step - loss: 0.3596 - accuracy: 0.8005 - val_loss: 0.3222 - val_accuracy: 0.8210\n",
      "Epoch 39/100\n",
      "67/81 [=======================>......] - ETA: 0s - loss: 0.3616 - accuracy: 0.8064\n",
      "Epoch 00039: val_loss did not improve from 0.30884\n",
      "81/81 [==============================] - 0s 2ms/step - loss: 0.3676 - accuracy: 0.8036 - val_loss: 0.3103 - val_accuracy: 0.8194\n",
      "Epoch 40/100\n",
      "62/81 [=====================>........] - ETA: 0s - loss: 0.3502 - accuracy: 0.8059\n",
      "Epoch 00040: val_loss improved from 0.30884 to 0.30789, saving model to saved_models\\audio_classification.hdf5\n",
      "81/81 [==============================] - 0s 3ms/step - loss: 0.3550 - accuracy: 0.8079 - val_loss: 0.3079 - val_accuracy: 0.8164\n",
      "Epoch 41/100\n",
      "78/81 [===========================>..] - ETA: 0s - loss: 0.3464 - accuracy: 0.8121\n",
      "Epoch 00041: val_loss improved from 0.30789 to 0.30171, saving model to saved_models\\audio_classification.hdf5\n",
      "81/81 [==============================] - 0s 3ms/step - loss: 0.3442 - accuracy: 0.8140 - val_loss: 0.3017 - val_accuracy: 0.8441\n",
      "Epoch 42/100\n",
      "70/81 [========================>.....] - ETA: 0s - loss: 0.3524 - accuracy: 0.8156\n",
      "Epoch 00042: val_loss did not improve from 0.30171\n",
      "81/81 [==============================] - 0s 2ms/step - loss: 0.3485 - accuracy: 0.8179 - val_loss: 0.3097 - val_accuracy: 0.8441\n",
      "Epoch 43/100\n",
      "71/81 [=========================>....] - ETA: 0s - loss: 0.3297 - accuracy: 0.8222\n",
      "Epoch 00043: val_loss improved from 0.30171 to 0.29395, saving model to saved_models\\audio_classification.hdf5\n",
      "81/81 [==============================] - 0s 2ms/step - loss: 0.3337 - accuracy: 0.8202 - val_loss: 0.2939 - val_accuracy: 0.8457\n",
      "Epoch 44/100\n",
      "76/81 [===========================>..] - ETA: 0s - loss: 0.3367 - accuracy: 0.8236\n",
      "Epoch 00044: val_loss improved from 0.29395 to 0.28319, saving model to saved_models\\audio_classification.hdf5\n",
      "81/81 [==============================] - 0s 3ms/step - loss: 0.3388 - accuracy: 0.8229 - val_loss: 0.2832 - val_accuracy: 0.8549\n",
      "Epoch 45/100\n",
      "59/81 [====================>.........] - ETA: 0s - loss: 0.3295 - accuracy: 0.8385\n",
      "Epoch 00045: val_loss did not improve from 0.28319\n",
      "81/81 [==============================] - 0s 2ms/step - loss: 0.3336 - accuracy: 0.8333 - val_loss: 0.2931 - val_accuracy: 0.8472\n",
      "Epoch 46/100\n",
      "61/81 [=====================>........] - ETA: 0s - loss: 0.3350 - accuracy: 0.8258\n",
      "Epoch 00046: val_loss did not improve from 0.28319\n",
      "81/81 [==============================] - 0s 2ms/step - loss: 0.3405 - accuracy: 0.8279 - val_loss: 0.3195 - val_accuracy: 0.8719\n",
      "Epoch 47/100\n",
      "59/81 [====================>.........] - ETA: 0s - loss: 0.3289 - accuracy: 0.8369\n",
      "Epoch 00047: val_loss improved from 0.28319 to 0.27890, saving model to saved_models\\audio_classification.hdf5\n",
      "81/81 [==============================] - 0s 2ms/step - loss: 0.3302 - accuracy: 0.8318 - val_loss: 0.2789 - val_accuracy: 0.8488\n",
      "Epoch 48/100\n",
      "77/81 [===========================>..] - ETA: 0s - loss: 0.3244 - accuracy: 0.8364\n",
      "Epoch 00048: val_loss did not improve from 0.27890\n",
      "81/81 [==============================] - 0s 3ms/step - loss: 0.3271 - accuracy: 0.8356 - val_loss: 0.2835 - val_accuracy: 0.8765\n",
      "Epoch 49/100\n",
      "68/81 [========================>.....] - ETA: 0s - loss: 0.3291 - accuracy: 0.8359\n",
      "Epoch 00049: val_loss did not improve from 0.27890\n",
      "81/81 [==============================] - 0s 2ms/step - loss: 0.3337 - accuracy: 0.8291 - val_loss: 0.2910 - val_accuracy: 0.8827\n",
      "Epoch 50/100\n",
      "67/81 [=======================>......] - ETA: 0s - loss: 0.3291 - accuracy: 0.8382\n",
      "Epoch 00050: val_loss did not improve from 0.27890\n",
      "81/81 [==============================] - 0s 2ms/step - loss: 0.3369 - accuracy: 0.8333 - val_loss: 0.3103 - val_accuracy: 0.8673\n",
      "Epoch 51/100\n",
      "66/81 [=======================>......] - ETA: 0s - loss: 0.3164 - accuracy: 0.8366\n",
      "Epoch 00051: val_loss did not improve from 0.27890\n",
      "81/81 [==============================] - 0s 2ms/step - loss: 0.3116 - accuracy: 0.8383 - val_loss: 0.2841 - val_accuracy: 0.8781\n",
      "Epoch 52/100\n",
      "64/81 [======================>.......] - ETA: 0s - loss: 0.3284 - accuracy: 0.8413\n",
      "Epoch 00052: val_loss improved from 0.27890 to 0.27086, saving model to saved_models\\audio_classification.hdf5\n",
      "81/81 [==============================] - 0s 2ms/step - loss: 0.3266 - accuracy: 0.8410 - val_loss: 0.2709 - val_accuracy: 0.8843\n",
      "Epoch 53/100\n",
      "66/81 [=======================>......] - ETA: 0s - loss: 0.3152 - accuracy: 0.8532\n",
      "Epoch 00053: val_loss did not improve from 0.27086\n",
      "81/81 [==============================] - 0s 2ms/step - loss: 0.3155 - accuracy: 0.8507 - val_loss: 0.2811 - val_accuracy: 0.8920\n",
      "Epoch 54/100\n",
      "61/81 [=====================>........] - ETA: 0s - loss: 0.3252 - accuracy: 0.8478\n",
      "Epoch 00054: val_loss improved from 0.27086 to 0.26814, saving model to saved_models\\audio_classification.hdf5\n",
      "81/81 [==============================] - 0s 3ms/step - loss: 0.3204 - accuracy: 0.8530 - val_loss: 0.2681 - val_accuracy: 0.8735\n",
      "Epoch 55/100\n",
      "72/81 [=========================>....] - ETA: 0s - loss: 0.3208 - accuracy: 0.8494\n",
      "Epoch 00055: val_loss did not improve from 0.26814\n",
      "81/81 [==============================] - 0s 3ms/step - loss: 0.3235 - accuracy: 0.8503 - val_loss: 0.2764 - val_accuracy: 0.8843\n"
     ]
    },
    {
     "name": "stdout",
     "output_type": "stream",
     "text": [
      "Epoch 56/100\n",
      "70/81 [========================>.....] - ETA: 0s - loss: 0.3187 - accuracy: 0.8464\n",
      "Epoch 00056: val_loss improved from 0.26814 to 0.26441, saving model to saved_models\\audio_classification.hdf5\n",
      "81/81 [==============================] - 0s 2ms/step - loss: 0.3141 - accuracy: 0.8492 - val_loss: 0.2644 - val_accuracy: 0.8873\n",
      "Epoch 57/100\n",
      "67/81 [=======================>......] - ETA: 0s - loss: 0.2917 - accuracy: 0.8638\n",
      "Epoch 00057: val_loss did not improve from 0.26441\n",
      "81/81 [==============================] - 0s 2ms/step - loss: 0.2948 - accuracy: 0.8615 - val_loss: 0.2691 - val_accuracy: 0.8920\n",
      "Epoch 58/100\n",
      "74/81 [==========================>...] - ETA: 0s - loss: 0.3049 - accuracy: 0.8488\n",
      "Epoch 00058: val_loss did not improve from 0.26441\n",
      "81/81 [==============================] - 0s 2ms/step - loss: 0.3025 - accuracy: 0.8503 - val_loss: 0.2657 - val_accuracy: 0.8935\n",
      "Epoch 59/100\n",
      "69/81 [========================>.....] - ETA: 0s - loss: 0.3088 - accuracy: 0.8610\n",
      "Epoch 00059: val_loss improved from 0.26441 to 0.25515, saving model to saved_models\\audio_classification.hdf5\n",
      "81/81 [==============================] - 0s 3ms/step - loss: 0.3069 - accuracy: 0.8607 - val_loss: 0.2551 - val_accuracy: 0.8920\n",
      "Epoch 60/100\n",
      "57/81 [====================>.........] - ETA: 0s - loss: 0.3104 - accuracy: 0.8514\n",
      "Epoch 00060: val_loss did not improve from 0.25515\n",
      "81/81 [==============================] - 0s 2ms/step - loss: 0.3052 - accuracy: 0.8522 - val_loss: 0.2754 - val_accuracy: 0.8966\n",
      "Epoch 61/100\n",
      "56/81 [===================>..........] - ETA: 0s - loss: 0.3280 - accuracy: 0.8560\n",
      "Epoch 00061: val_loss did not improve from 0.25515\n",
      "81/81 [==============================] - 0s 2ms/step - loss: 0.3215 - accuracy: 0.8576 - val_loss: 0.2608 - val_accuracy: 0.8981\n",
      "Epoch 62/100\n",
      "67/81 [=======================>......] - ETA: 0s - loss: 0.3074 - accuracy: 0.8643\n",
      "Epoch 00062: val_loss did not improve from 0.25515\n",
      "81/81 [==============================] - 0s 2ms/step - loss: 0.3052 - accuracy: 0.8634 - val_loss: 0.2736 - val_accuracy: 0.8889\n",
      "Epoch 63/100\n",
      "61/81 [=====================>........] - ETA: 0s - loss: 0.3039 - accuracy: 0.8622\n",
      "Epoch 00063: val_loss did not improve from 0.25515\n",
      "81/81 [==============================] - 0s 2ms/step - loss: 0.3121 - accuracy: 0.8580 - val_loss: 0.2753 - val_accuracy: 0.8935\n",
      "Epoch 64/100\n",
      "69/81 [========================>.....] - ETA: 0s - loss: 0.2897 - accuracy: 0.8727\n",
      "Epoch 00064: val_loss did not improve from 0.25515\n",
      "81/81 [==============================] - 0s 2ms/step - loss: 0.2983 - accuracy: 0.8688 - val_loss: 0.2732 - val_accuracy: 0.8997\n",
      "Epoch 65/100\n",
      "75/81 [==========================>...] - ETA: 0s - loss: 0.2963 - accuracy: 0.8646\n",
      "Epoch 00065: val_loss improved from 0.25515 to 0.25070, saving model to saved_models\\audio_classification.hdf5\n",
      "81/81 [==============================] - 0s 2ms/step - loss: 0.2945 - accuracy: 0.8661 - val_loss: 0.2507 - val_accuracy: 0.8997\n",
      "Epoch 66/100\n",
      "77/81 [===========================>..] - ETA: 0s - loss: 0.2973 - accuracy: 0.8636\n",
      "Epoch 00066: val_loss did not improve from 0.25070\n",
      "81/81 [==============================] - 0s 2ms/step - loss: 0.2983 - accuracy: 0.8646 - val_loss: 0.2641 - val_accuracy: 0.8997\n",
      "Epoch 67/100\n",
      "74/81 [==========================>...] - ETA: 0s - loss: 0.3042 - accuracy: 0.8682\n",
      "Epoch 00067: val_loss did not improve from 0.25070\n",
      "81/81 [==============================] - 0s 2ms/step - loss: 0.3064 - accuracy: 0.8646 - val_loss: 0.2710 - val_accuracy: 0.8920\n",
      "Epoch 68/100\n",
      "63/81 [======================>.......] - ETA: 0s - loss: 0.3208 - accuracy: 0.8507\n",
      "Epoch 00068: val_loss did not improve from 0.25070\n",
      "81/81 [==============================] - 0s 2ms/step - loss: 0.3184 - accuracy: 0.8503 - val_loss: 0.2837 - val_accuracy: 0.9012\n",
      "Epoch 69/100\n",
      "58/81 [====================>.........] - ETA: 0s - loss: 0.3050 - accuracy: 0.8621\n",
      "Epoch 00069: val_loss did not improve from 0.25070\n",
      "81/81 [==============================] - 0s 2ms/step - loss: 0.2992 - accuracy: 0.8634 - val_loss: 0.2576 - val_accuracy: 0.8827\n",
      "Epoch 70/100\n",
      "65/81 [=======================>......] - ETA: 0s - loss: 0.2877 - accuracy: 0.8625\n",
      "Epoch 00070: val_loss did not improve from 0.25070\n",
      "81/81 [==============================] - 0s 2ms/step - loss: 0.2917 - accuracy: 0.8634 - val_loss: 0.2637 - val_accuracy: 0.8951\n",
      "Epoch 71/100\n",
      "76/81 [===========================>..] - ETA: 0s - loss: 0.2911 - accuracy: 0.8635\n",
      "Epoch 00071: val_loss did not improve from 0.25070\n",
      "81/81 [==============================] - 0s 2ms/step - loss: 0.2919 - accuracy: 0.8646 - val_loss: 0.2723 - val_accuracy: 0.8951\n",
      "Epoch 72/100\n",
      "73/81 [==========================>...] - ETA: 0s - loss: 0.2968 - accuracy: 0.8639\n",
      "Epoch 00072: val_loss did not improve from 0.25070\n",
      "81/81 [==============================] - 0s 2ms/step - loss: 0.2922 - accuracy: 0.8665 - val_loss: 0.2663 - val_accuracy: 0.8935\n",
      "Epoch 73/100\n",
      "75/81 [==========================>...] - ETA: 0s - loss: 0.2892 - accuracy: 0.8704\n",
      "Epoch 00073: val_loss did not improve from 0.25070\n",
      "81/81 [==============================] - 0s 2ms/step - loss: 0.2857 - accuracy: 0.8719 - val_loss: 0.2674 - val_accuracy: 0.8966\n",
      "Epoch 74/100\n",
      "69/81 [========================>.....] - ETA: 0s - loss: 0.2946 - accuracy: 0.8641\n",
      "Epoch 00074: val_loss did not improve from 0.25070\n",
      "81/81 [==============================] - 0s 2ms/step - loss: 0.2889 - accuracy: 0.8688 - val_loss: 0.2699 - val_accuracy: 0.8704\n",
      "Epoch 75/100\n",
      "74/81 [==========================>...] - ETA: 0s - loss: 0.2924 - accuracy: 0.8636\n",
      "Epoch 00075: val_loss did not improve from 0.25070\n",
      "81/81 [==============================] - 0s 2ms/step - loss: 0.2914 - accuracy: 0.8661 - val_loss: 0.2527 - val_accuracy: 0.8935\n",
      "Epoch 76/100\n",
      "72/81 [=========================>....] - ETA: 0s - loss: 0.2840 - accuracy: 0.8741\n",
      "Epoch 00076: val_loss did not improve from 0.25070\n",
      "81/81 [==============================] - 0s 2ms/step - loss: 0.2843 - accuracy: 0.8742 - val_loss: 0.2672 - val_accuracy: 0.8966\n",
      "Epoch 77/100\n",
      "57/81 [====================>.........] - ETA: 0s - loss: 0.2868 - accuracy: 0.8723\n",
      "Epoch 00077: val_loss did not improve from 0.25070\n",
      "81/81 [==============================] - 0s 2ms/step - loss: 0.2958 - accuracy: 0.8623 - val_loss: 0.2784 - val_accuracy: 0.8858\n",
      "Epoch 78/100\n",
      "42/81 [==============>...............] - ETA: 0s - loss: 0.2974 - accuracy: 0.8750\n",
      "Epoch 00078: val_loss did not improve from 0.25070\n",
      "81/81 [==============================] - 0s 2ms/step - loss: 0.3021 - accuracy: 0.8661 - val_loss: 0.2794 - val_accuracy: 0.8642\n",
      "Epoch 79/100\n",
      "66/81 [=======================>......] - ETA: 0s - loss: 0.2866 - accuracy: 0.8636\n",
      "Epoch 00079: val_loss did not improve from 0.25070\n",
      "81/81 [==============================] - 0s 2ms/step - loss: 0.2830 - accuracy: 0.8657 - val_loss: 0.2529 - val_accuracy: 0.8858\n",
      "Epoch 80/100\n",
      "55/81 [===================>..........] - ETA: 0s - loss: 0.2967 - accuracy: 0.8687\n",
      "Epoch 00080: val_loss did not improve from 0.25070\n",
      "81/81 [==============================] - 0s 2ms/step - loss: 0.2968 - accuracy: 0.8684 - val_loss: 0.2635 - val_accuracy: 0.8889\n",
      "Epoch 81/100\n",
      "71/81 [=========================>....] - ETA: 0s - loss: 0.2727 - accuracy: 0.8754\n",
      "Epoch 00081: val_loss improved from 0.25070 to 0.24411, saving model to saved_models\\audio_classification.hdf5\n",
      "81/81 [==============================] - 0s 2ms/step - loss: 0.2732 - accuracy: 0.8762 - val_loss: 0.2441 - val_accuracy: 0.9012\n",
      "Epoch 82/100\n",
      "75/81 [==========================>...] - ETA: 0s - loss: 0.2850 - accuracy: 0.8775\n",
      "Epoch 00082: val_loss did not improve from 0.24411\n",
      "81/81 [==============================] - 0s 2ms/step - loss: 0.2920 - accuracy: 0.8727 - val_loss: 0.2610 - val_accuracy: 0.8858\n",
      "Epoch 83/100\n",
      "43/81 [==============>...............] - ETA: 0s - loss: 0.3009 - accuracy: 0.8568\n",
      "Epoch 00083: val_loss did not improve from 0.24411\n",
      "81/81 [==============================] - 0s 2ms/step - loss: 0.2915 - accuracy: 0.8638 - val_loss: 0.2564 - val_accuracy: 0.8997\n",
      "Epoch 84/100\n",
      "79/81 [============================>.] - ETA: 0s - loss: 0.2785 - accuracy: 0.8746\n",
      "Epoch 00084: val_loss did not improve from 0.24411\n",
      "81/81 [==============================] - 0s 2ms/step - loss: 0.2850 - accuracy: 0.8738 - val_loss: 0.2525 - val_accuracy: 0.8981\n"
     ]
    },
    {
     "name": "stdout",
     "output_type": "stream",
     "text": [
      "Epoch 85/100\n",
      "76/81 [===========================>..] - ETA: 0s - loss: 0.2973 - accuracy: 0.8651\n",
      "Epoch 00085: val_loss did not improve from 0.24411\n",
      "81/81 [==============================] - 0s 2ms/step - loss: 0.2954 - accuracy: 0.8657 - val_loss: 0.2592 - val_accuracy: 0.8935\n",
      "Epoch 86/100\n",
      "71/81 [=========================>....] - ETA: 0s - loss: 0.2811 - accuracy: 0.8763\n",
      "Epoch 00086: val_loss did not improve from 0.24411\n",
      "81/81 [==============================] - 0s 2ms/step - loss: 0.2777 - accuracy: 0.8769 - val_loss: 0.2502 - val_accuracy: 0.8935\n",
      "Epoch 87/100\n",
      "76/81 [===========================>..] - ETA: 0s - loss: 0.2709 - accuracy: 0.8746\n",
      "Epoch 00087: val_loss did not improve from 0.24411\n",
      "81/81 [==============================] - 0s 2ms/step - loss: 0.2711 - accuracy: 0.8750 - val_loss: 0.2580 - val_accuracy: 0.8904\n",
      "Epoch 88/100\n",
      "41/81 [==============>...............] - ETA: 0s - loss: 0.2858 - accuracy: 0.8605\n",
      "Epoch 00088: val_loss did not improve from 0.24411\n",
      "81/81 [==============================] - 0s 2ms/step - loss: 0.2905 - accuracy: 0.8611 - val_loss: 0.2582 - val_accuracy: 0.8827\n",
      "Epoch 89/100\n",
      "40/81 [=============>................] - ETA: 0s - loss: 0.2602 - accuracy: 0.8789\n",
      "Epoch 00089: val_loss did not improve from 0.24411\n",
      "81/81 [==============================] - 0s 2ms/step - loss: 0.2803 - accuracy: 0.8719 - val_loss: 0.2838 - val_accuracy: 0.8765\n",
      "Epoch 90/100\n",
      "78/81 [===========================>..] - ETA: 0s - loss: 0.2835 - accuracy: 0.8706\n",
      "Epoch 00090: val_loss did not improve from 0.24411\n",
      "81/81 [==============================] - 0s 2ms/step - loss: 0.2833 - accuracy: 0.8715 - val_loss: 0.2514 - val_accuracy: 0.8935\n",
      "Epoch 91/100\n",
      "41/81 [==============>...............] - ETA: 0s - loss: 0.3013 - accuracy: 0.8498\n",
      "Epoch 00091: val_loss did not improve from 0.24411\n",
      "81/81 [==============================] - 0s 2ms/step - loss: 0.2921 - accuracy: 0.8634 - val_loss: 0.2473 - val_accuracy: 0.8889\n",
      "Epoch 92/100\n",
      "75/81 [==========================>...] - ETA: 0s - loss: 0.2740 - accuracy: 0.8725\n",
      "Epoch 00092: val_loss did not improve from 0.24411\n",
      "81/81 [==============================] - 0s 2ms/step - loss: 0.2755 - accuracy: 0.8719 - val_loss: 0.2591 - val_accuracy: 0.8827\n",
      "Epoch 93/100\n",
      "63/81 [======================>.......] - ETA: 0s - loss: 0.2873 - accuracy: 0.8710\n",
      "Epoch 00093: val_loss did not improve from 0.24411\n",
      "81/81 [==============================] - 0s 2ms/step - loss: 0.2844 - accuracy: 0.8704 - val_loss: 0.2490 - val_accuracy: 0.8920\n",
      "Epoch 94/100\n",
      "72/81 [=========================>....] - ETA: 0s - loss: 0.2769 - accuracy: 0.8715\n",
      "Epoch 00094: val_loss did not improve from 0.24411\n",
      "81/81 [==============================] - 0s 2ms/step - loss: 0.2787 - accuracy: 0.8715 - val_loss: 0.2687 - val_accuracy: 0.8812\n",
      "Epoch 95/100\n",
      "75/81 [==========================>...] - ETA: 0s - loss: 0.2876 - accuracy: 0.8758\n",
      "Epoch 00095: val_loss did not improve from 0.24411\n",
      "81/81 [==============================] - 0s 2ms/step - loss: 0.2828 - accuracy: 0.8781 - val_loss: 0.2533 - val_accuracy: 0.8904\n",
      "Epoch 96/100\n",
      "79/81 [============================>.] - ETA: 0s - loss: 0.2716 - accuracy: 0.8817\n",
      "Epoch 00096: val_loss improved from 0.24411 to 0.24188, saving model to saved_models\\audio_classification.hdf5\n",
      "81/81 [==============================] - 0s 2ms/step - loss: 0.2703 - accuracy: 0.8827 - val_loss: 0.2419 - val_accuracy: 0.8981\n",
      "Epoch 97/100\n",
      "76/81 [===========================>..] - ETA: 0s - loss: 0.2734 - accuracy: 0.8808\n",
      "Epoch 00097: val_loss did not improve from 0.24188\n",
      "81/81 [==============================] - 0s 2ms/step - loss: 0.2722 - accuracy: 0.8808 - val_loss: 0.2506 - val_accuracy: 0.8935\n",
      "Epoch 98/100\n",
      "75/81 [==========================>...] - ETA: 0s - loss: 0.2783 - accuracy: 0.8842\n",
      "Epoch 00098: val_loss improved from 0.24188 to 0.24165, saving model to saved_models\\audio_classification.hdf5\n",
      "81/81 [==============================] - 0s 2ms/step - loss: 0.2745 - accuracy: 0.8862 - val_loss: 0.2416 - val_accuracy: 0.8966\n",
      "Epoch 99/100\n",
      "69/81 [========================>.....] - ETA: 0s - loss: 0.2805 - accuracy: 0.8750\n",
      "Epoch 00099: val_loss did not improve from 0.24165\n",
      "81/81 [==============================] - 0s 2ms/step - loss: 0.2816 - accuracy: 0.8731 - val_loss: 0.2590 - val_accuracy: 0.8951\n",
      "Epoch 100/100\n",
      "39/81 [=============>................] - ETA: 0s - loss: 0.2815 - accuracy: 0.8774\n",
      "Epoch 00100: val_loss did not improve from 0.24165\n",
      "81/81 [==============================] - 0s 2ms/step - loss: 0.2820 - accuracy: 0.8711 - val_loss: 0.2915 - val_accuracy: 0.8904\n",
      "Training completed in time:  0:00:17.688739\n"
     ]
    }
   ],
   "source": [
    "## Trianing my model\n",
    "from tensorflow.keras.callbacks import ModelCheckpoint\n",
    "from datetime import datetime \n",
    "\n",
    "num_epochs = 100\n",
    "num_batch_size = 32\n",
    "\n",
    "checkpointer = ModelCheckpoint(filepath='saved_models/audio_classification.hdf5', \n",
    "                               verbose=1, save_best_only=True)\n",
    "start = datetime.now()\n",
    "\n",
    "history = model.fit(X_train, y_train, batch_size=num_batch_size, epochs=num_epochs, validation_data=(X_test, y_test), callbacks=[checkpointer], verbose=1)\n",
    "\n",
    "\n",
    "duration = datetime.now() - start\n",
    "print(\"Training completed in time: \", duration)"
   ]
  },
  {
   "cell_type": "markdown",
   "metadata": {},
   "source": [
    "# Test Accuracy"
   ]
  },
  {
   "cell_type": "code",
   "execution_count": 25,
   "metadata": {},
   "outputs": [
    {
     "name": "stdout",
     "output_type": "stream",
     "text": [
      "0.8904321193695068\n"
     ]
    }
   ],
   "source": [
    "test_accuracy=model.evaluate(X_test,y_test,verbose=0)\n",
    "print(test_accuracy[1])\n"
   ]
  },
  {
   "cell_type": "code",
   "execution_count": 26,
   "metadata": {},
   "outputs": [
    {
     "data": {
      "image/png": "[encoded data removed]",
      "text/plain": [
       "<Figure size 432x288 with 1 Axes>"
      ]
     },
     "metadata": {
      "needs_background": "light"
     },
     "output_type": "display_data"
    }
   ],
   "source": [
    "import matplotlib.pyplot as plt\n",
    "plt.plot(history.history['accuracy'])\n",
    "plt.plot(history.history['val_accuracy'])\n",
    "plt.title('Model accuracy')\n",
    "plt.ylabel('Accuracy')\n",
    "plt.xlabel('Epoch')\n",
    "plt.legend(['Train', 'Test'], loc='upper left')\n",
    "plt.show()"
   ]
  },
  {
   "cell_type": "code",
   "execution_count": 27,
   "metadata": {},
   "outputs": [
    {
     "data": {
      "image/png": "[encoded data removed]",
      "text/plain": [
       "<Figure size 432x288 with 1 Axes>"
      ]
     },
     "metadata": {
      "needs_background": "light"
     },
     "output_type": "display_data"
    }
   ],
   "source": [
    "import matplotlib.pyplot as plt\n",
    "plt.plot(history.history['loss'])\n",
    "plt.plot(history.history['val_loss'])\n",
    "plt.title('Model loss')\n",
    "plt.ylabel('loss')\n",
    "plt.xlabel('Epoch')\n",
    "plt.legend(['Train', 'Test'], loc='upper left')\n",
    "plt.show()"
   ]
  },
  {
   "cell_type": "code",
   "execution_count": null,
   "metadata": {},
   "outputs": [],
   "source": []
  },
  {
   "cell_type": "code",
   "execution_count": null,
   "metadata": {},
   "outputs": [],
   "source": []
  },
  {
   "cell_type": "code",
   "execution_count": null,
   "metadata": {},
   "outputs": [],
   "source": []
  },
  {
   "cell_type": "code",
   "execution_count": null,
   "metadata": {},
   "outputs": [],
   "source": []
  },
  {
   "cell_type": "code",
   "execution_count": null,
   "metadata": {},
   "outputs": [],
   "source": []
  },
  {
   "cell_type": "code",
   "execution_count": null,
   "metadata": {},
   "outputs": [],
   "source": []
  }
 ],
 "metadata": {
  "kernelspec": {
   "display_name": "Python 3",
   "language": "python",
   "name": "python3"
  },
  "language_info": {
   "codemirror_mode": {
    "name": "ipython",
    "version": 3
   },
   "file_extension": ".py",
   "mimetype": "text/x-python",
   "name": "python",
   "nbconvert_exporter": "python",
   "pygments_lexer": "ipython3",
   "version": "3.8.5"
  }
 },
 "nbformat": 4,
 "nbformat_minor": 5
}
